{
  "nbformat": 4,
  "nbformat_minor": 0,
  "metadata": {
    "colab": {
      "name": "pyspark_in_colab.ipynb",
      "provenance": [],
      "authorship_tag": "ABX9TyMNbWyCWDZ3aI+UByF6X4pN",
      "include_colab_link": true
    },
    "kernelspec": {
      "name": "python3",
      "display_name": "Python 3"
    }
  },
  "cells": [
    {
      "cell_type": "markdown",
      "metadata": {
        "id": "view-in-github",
        "colab_type": "text"
      },
      "source": [
        "<a href=\"https://colab.research.google.com/github/markumreed/colab_pyspark/blob/main/pyspark_in_colab.ipynb\" target=\"_parent\"><img src=\"https://colab.research.google.com/assets/colab-badge.svg\" alt=\"Open In Colab\"/></a>"
      ]
    },
    {
      "cell_type": "markdown",
      "metadata": {
        "id": "OJWqWINyh8HT"
      },
      "source": [
        "# Preamble\n",
        "\n",
        "The following three cells must be ran in order to use PySpark in Google Colab. "
      ]
    },
    {
      "cell_type": "code",
      "metadata": {
        "id": "4-GObLMvhH1h"
      },
      "source": [
        "!apt-get install openjdk-8-jdk-headless -qq > /dev/null\n",
        "!wget -q https://www-us.apache.org/dist/spark/spark-3.0.1/spark-3.0.1-bin-hadoop2.7.tgz\n",
        "!tar xf spark-3.0.1-bin-hadoop2.7.tgz\n",
        "!pip install -q findspark"
      ],
      "execution_count": 1,
      "outputs": []
    },
    {
      "cell_type": "code",
      "metadata": {
        "id": "t5Wi5iOlhNqJ"
      },
      "source": [
        "import os\n",
        "os.environ[\"JAVA_HOME\"] = \"/usr/lib/jvm/java-8-openjdk-amd64\"\n",
        "os.environ[\"SPARK_HOME\"] = \"/content/spark-3.0.1-bin-hadoop2.7\""
      ],
      "execution_count": 2,
      "outputs": []
    },
    {
      "cell_type": "code",
      "metadata": {
        "id": "21HknExKhrbd"
      },
      "source": [
        "import findspark\n",
        "findspark.init()"
      ],
      "execution_count": 3,
      "outputs": []
    },
    {
      "cell_type": "markdown",
      "metadata": {
        "id": "hiW1NHVriHmG"
      },
      "source": [
        "# Spark DataFrame Basics\n",
        "\n",
        "Spark DataFrames allow for easy handling of large datasets. \n",
        "\n",
        "* Easy syntax\n",
        "* Ability to use SQL directly in the dataframe\n",
        "* Operations are automatically distributed across RDDs"
      ]
    },
    {
      "cell_type": "markdown",
      "metadata": {
        "id": "7hqXqLiqjBOi"
      },
      "source": [
        "## Create a DataFrame\n"
      ]
    },
    {
      "cell_type": "code",
      "metadata": {
        "id": "3PofF_8DiZMe"
      },
      "source": [
        "from pyspark.sql import SparkSession"
      ],
      "execution_count": null,
      "outputs": []
    },
    {
      "cell_type": "code",
      "metadata": {
        "id": "1yMumuTnlvqV"
      },
      "source": [
        "spark = SparkSession.builder.appName(\"pyspark_basics\").getOrCreate()"
      ],
      "execution_count": null,
      "outputs": []
    },
    {
      "cell_type": "code",
      "metadata": {
        "colab": {
          "base_uri": "https://localhost:8080/"
        },
        "id": "3DvJFAnJmgwo",
        "outputId": "502562e6-4497-4ddf-ddb4-54733483645e"
      },
      "source": [
        "%%writefile user_simple.json\n",
        "{\"name\":\"Bob\"}\n",
        "{\"name\":\"Jim\", \"age\":40}\n",
        "{\"name\":\"Mary\", \"age\": 24}"
      ],
      "execution_count": null,
      "outputs": [
        {
          "output_type": "stream",
          "text": [
            "Writing user_simple.json\n"
          ],
          "name": "stdout"
        }
      ]
    },
    {
      "cell_type": "code",
      "metadata": {
        "id": "u_eO4v0NmEju"
      },
      "source": [
        "df = spark.read.json(\"user_simple.json\")"
      ],
      "execution_count": null,
      "outputs": []
    },
    {
      "cell_type": "code",
      "metadata": {
        "id": "nAc8qcdHkkQ4",
        "colab": {
          "base_uri": "https://localhost:8080/"
        },
        "outputId": "0914e472-a0b0-4a4e-c267-3cbf0f3abcd1"
      },
      "source": [
        "df"
      ],
      "execution_count": null,
      "outputs": [
        {
          "output_type": "execute_result",
          "data": {
            "text/plain": [
              "DataFrame[age: bigint, name: string]"
            ]
          },
          "metadata": {
            "tags": []
          },
          "execution_count": 12
        }
      ]
    },
    {
      "cell_type": "markdown",
      "metadata": {
        "id": "bfKSE6KJjFuq"
      },
      "source": [
        "## Show DataFrame\n"
      ]
    },
    {
      "cell_type": "code",
      "metadata": {
        "colab": {
          "base_uri": "https://localhost:8080/"
        },
        "id": "JQMevRT-jK4J",
        "outputId": "cd8e9dc6-00f7-4fe4-90e8-604c3ee32dfa"
      },
      "source": [
        "df.show()"
      ],
      "execution_count": null,
      "outputs": [
        {
          "output_type": "stream",
          "text": [
            "+----+----+\n",
            "| age|name|\n",
            "+----+----+\n",
            "|null| Bob|\n",
            "|  40| Jim|\n",
            "|  24|Mary|\n",
            "+----+----+\n",
            "\n"
          ],
          "name": "stdout"
        }
      ]
    },
    {
      "cell_type": "code",
      "metadata": {
        "colab": {
          "base_uri": "https://localhost:8080/"
        },
        "id": "sF2i36PsnLlC",
        "outputId": "d95a31b9-78d6-43d7-b700-c4c5d8fe19c4"
      },
      "source": [
        "df.printSchema()"
      ],
      "execution_count": null,
      "outputs": [
        {
          "output_type": "stream",
          "text": [
            "root\n",
            " |-- age: long (nullable = true)\n",
            " |-- name: string (nullable = true)\n",
            "\n"
          ],
          "name": "stdout"
        }
      ]
    },
    {
      "cell_type": "code",
      "metadata": {
        "colab": {
          "base_uri": "https://localhost:8080/"
        },
        "id": "y7mJ1ZFxnPiF",
        "outputId": "7ee5b54f-0809-4211-cd55-89967a729d88"
      },
      "source": [
        "df.columns"
      ],
      "execution_count": null,
      "outputs": [
        {
          "output_type": "execute_result",
          "data": {
            "text/plain": [
              "['age', 'name']"
            ]
          },
          "metadata": {
            "tags": []
          },
          "execution_count": 40
        }
      ]
    },
    {
      "cell_type": "code",
      "metadata": {
        "id": "GummdOXQlK9Q",
        "colab": {
          "base_uri": "https://localhost:8080/"
        },
        "outputId": "0f5658a4-4297-4624-be42-36d4a1fbf8f0"
      },
      "source": [
        "df.describe()"
      ],
      "execution_count": null,
      "outputs": [
        {
          "output_type": "execute_result",
          "data": {
            "text/plain": [
              "DataFrame[summary: string, age: string, name: string]"
            ]
          },
          "metadata": {
            "tags": []
          },
          "execution_count": 15
        }
      ]
    },
    {
      "cell_type": "code",
      "metadata": {
        "colab": {
          "base_uri": "https://localhost:8080/"
        },
        "id": "HgTEqsABnhlZ",
        "outputId": "5c2d490b-9e6d-449e-a6fe-96ed4b07b9b8"
      },
      "source": [
        "df.describe().show()"
      ],
      "execution_count": null,
      "outputs": [
        {
          "output_type": "stream",
          "text": [
            "+-------+------------------+----+\n",
            "|summary|               age|name|\n",
            "+-------+------------------+----+\n",
            "|  count|                 2|   3|\n",
            "|   mean|              32.0|null|\n",
            "| stddev|11.313708498984761|null|\n",
            "|    min|                24| Bob|\n",
            "|    max|                40|Mary|\n",
            "+-------+------------------+----+\n",
            "\n"
          ],
          "name": "stdout"
        }
      ]
    },
    {
      "cell_type": "markdown",
      "metadata": {
        "id": "d_unxKKfjmy7"
      },
      "source": [
        "## Specifying Schema Structure\n",
        "\n",
        "- Some data types make it easier to infer schema. \n",
        "\n",
        "- Often have to set the schema yourself\n",
        "\n",
        "- Spark has tools to help specify the structure\n",
        "\n",
        "Next we need to create the list of Structure fields\n",
        "  * :param name: string, name of the field.\n",
        "  * :param dataType: :class:`DataType` of the field.\n",
        "  * :param nullable: boolean, whether the field can be null (None) "
      ]
    },
    {
      "cell_type": "code",
      "metadata": {
        "id": "KwpWKuOsn0KC"
      },
      "source": [
        "from pyspark.sql.types import StructField, StringType, IntegerType, StructType"
      ],
      "execution_count": null,
      "outputs": []
    },
    {
      "cell_type": "code",
      "metadata": {
        "id": "TTCd9Kn6oBAt"
      },
      "source": [
        "data_schema = [StructField(\"age\", IntegerType(), True), StructField(\"name\",StringType(), True)]"
      ],
      "execution_count": null,
      "outputs": []
    },
    {
      "cell_type": "code",
      "metadata": {
        "id": "3B-U5Uy9oOJ1"
      },
      "source": [
        "final_struc = StructType(fields=data_schema)"
      ],
      "execution_count": null,
      "outputs": []
    },
    {
      "cell_type": "code",
      "metadata": {
        "id": "HRceAk5OoZ4a"
      },
      "source": [
        "df = spark.read.json(\"user_simple.json\", schema=final_struc)"
      ],
      "execution_count": null,
      "outputs": []
    },
    {
      "cell_type": "code",
      "metadata": {
        "colab": {
          "base_uri": "https://localhost:8080/"
        },
        "id": "O1JV1wX-ohr_",
        "outputId": "46701dfb-abec-4c5e-de84-36ba99ea05ff"
      },
      "source": [
        "df.printSchema()"
      ],
      "execution_count": null,
      "outputs": [
        {
          "output_type": "stream",
          "text": [
            "root\n",
            " |-- age: integer (nullable = true)\n",
            " |-- name: string (nullable = true)\n",
            "\n"
          ],
          "name": "stdout"
        }
      ]
    },
    {
      "cell_type": "code",
      "metadata": {
        "id": "_bxUbj1NmwCn",
        "colab": {
          "base_uri": "https://localhost:8080/"
        },
        "outputId": "2c8e43a0-0849-4040-c2c4-f892055a0de8"
      },
      "source": [
        "df.show()"
      ],
      "execution_count": null,
      "outputs": [
        {
          "output_type": "stream",
          "text": [
            "+----+----+\n",
            "| age|name|\n",
            "+----+----+\n",
            "|null| Bob|\n",
            "|  40| Jim|\n",
            "|  24|Mary|\n",
            "+----+----+\n",
            "\n"
          ],
          "name": "stdout"
        }
      ]
    },
    {
      "cell_type": "markdown",
      "metadata": {
        "id": "9BstAkwekUW4"
      },
      "source": [
        "## Grab Data"
      ]
    },
    {
      "cell_type": "code",
      "metadata": {
        "colab": {
          "base_uri": "https://localhost:8080/"
        },
        "id": "3BXtJ8Vtjqor",
        "outputId": "f717dc81-6b79-4bee-a31e-c5130e0d9c6d"
      },
      "source": [
        "df['age']"
      ],
      "execution_count": null,
      "outputs": [
        {
          "output_type": "execute_result",
          "data": {
            "text/plain": [
              "Column<b'age'>"
            ]
          },
          "metadata": {
            "tags": []
          },
          "execution_count": 47
        }
      ]
    },
    {
      "cell_type": "code",
      "metadata": {
        "colab": {
          "base_uri": "https://localhost:8080/"
        },
        "id": "pAVvHNehowFL",
        "outputId": "e1f91ced-ba3d-414e-bd0f-279e009c9f2b"
      },
      "source": [
        "type(df['age'])"
      ],
      "execution_count": null,
      "outputs": [
        {
          "output_type": "execute_result",
          "data": {
            "text/plain": [
              "pyspark.sql.column.Column"
            ]
          },
          "metadata": {
            "tags": []
          },
          "execution_count": 48
        }
      ]
    },
    {
      "cell_type": "code",
      "metadata": {
        "colab": {
          "base_uri": "https://localhost:8080/"
        },
        "id": "gEzDx_AKox5b",
        "outputId": "906cc52c-58bb-4367-e6cd-1a6659a6bfa7"
      },
      "source": [
        "df.select(\"age\")"
      ],
      "execution_count": null,
      "outputs": [
        {
          "output_type": "execute_result",
          "data": {
            "text/plain": [
              "DataFrame[age: int]"
            ]
          },
          "metadata": {
            "tags": []
          },
          "execution_count": 49
        }
      ]
    },
    {
      "cell_type": "code",
      "metadata": {
        "colab": {
          "base_uri": "https://localhost:8080/"
        },
        "id": "E8Kq6dcmpADD",
        "outputId": "d4f4cee0-19d3-484f-c8f6-2d271f91636a"
      },
      "source": [
        "type(df.select(\"age\"))"
      ],
      "execution_count": null,
      "outputs": [
        {
          "output_type": "execute_result",
          "data": {
            "text/plain": [
              "pyspark.sql.dataframe.DataFrame"
            ]
          },
          "metadata": {
            "tags": []
          },
          "execution_count": 50
        }
      ]
    },
    {
      "cell_type": "code",
      "metadata": {
        "colab": {
          "base_uri": "https://localhost:8080/"
        },
        "id": "dKdekPhcpCms",
        "outputId": "0886faed-b8a4-4063-fd33-00d6586a8b12"
      },
      "source": [
        "df.select(\"age\").show()"
      ],
      "execution_count": null,
      "outputs": [
        {
          "output_type": "stream",
          "text": [
            "+----+\n",
            "| age|\n",
            "+----+\n",
            "|null|\n",
            "|  40|\n",
            "|  24|\n",
            "+----+\n",
            "\n"
          ],
          "name": "stdout"
        }
      ]
    },
    {
      "cell_type": "code",
      "metadata": {
        "colab": {
          "base_uri": "https://localhost:8080/"
        },
        "id": "iXNWVdjZpK-K",
        "outputId": "01598f77-f962-424b-bc66-d69bfc602ef5"
      },
      "source": [
        "df.head(2)"
      ],
      "execution_count": null,
      "outputs": [
        {
          "output_type": "execute_result",
          "data": {
            "text/plain": [
              "[Row(age=None, name='Bob'), Row(age=40, name='Jim')]"
            ]
          },
          "metadata": {
            "tags": []
          },
          "execution_count": 54
        }
      ]
    },
    {
      "cell_type": "code",
      "metadata": {
        "colab": {
          "base_uri": "https://localhost:8080/"
        },
        "id": "Uhtn6i2hpd2v",
        "outputId": "377256b6-ef56-4443-e57a-1e113c875f9a"
      },
      "source": [
        "df.select([\"name\",\"age\"])"
      ],
      "execution_count": null,
      "outputs": [
        {
          "output_type": "execute_result",
          "data": {
            "text/plain": [
              "DataFrame[name: string, age: int]"
            ]
          },
          "metadata": {
            "tags": []
          },
          "execution_count": 55
        }
      ]
    },
    {
      "cell_type": "code",
      "metadata": {
        "colab": {
          "base_uri": "https://localhost:8080/"
        },
        "id": "XPCk9uufphpK",
        "outputId": "60e21cd6-393f-4d03-f2b2-520dd12afbf7"
      },
      "source": [
        "df.select([\"name\",\"age\"]).show()"
      ],
      "execution_count": null,
      "outputs": [
        {
          "output_type": "stream",
          "text": [
            "+----+----+\n",
            "|name| age|\n",
            "+----+----+\n",
            "| Bob|null|\n",
            "| Jim|  40|\n",
            "|Mary|  24|\n",
            "+----+----+\n",
            "\n"
          ],
          "name": "stdout"
        }
      ]
    },
    {
      "cell_type": "markdown",
      "metadata": {
        "id": "KOXJGzI1kYA8"
      },
      "source": [
        "## Create New Columns"
      ]
    },
    {
      "cell_type": "code",
      "metadata": {
        "colab": {
          "base_uri": "https://localhost:8080/"
        },
        "id": "sT6NHjD9kZ-u",
        "outputId": "1f927202-b911-455e-b573-eb4cd5ac1aef"
      },
      "source": [
        "df.withColumn(\"newAge\", df['age']).show()"
      ],
      "execution_count": null,
      "outputs": [
        {
          "output_type": "stream",
          "text": [
            "+----+----+------+\n",
            "| age|name|newAge|\n",
            "+----+----+------+\n",
            "|null| Bob|  null|\n",
            "|  40| Jim|    40|\n",
            "|  24|Mary|    24|\n",
            "+----+----+------+\n",
            "\n"
          ],
          "name": "stdout"
        }
      ]
    },
    {
      "cell_type": "code",
      "metadata": {
        "colab": {
          "base_uri": "https://localhost:8080/"
        },
        "id": "0IGHHPbQqEww",
        "outputId": "347d93fe-8634-4d4f-ad38-f3832fb3e76c"
      },
      "source": [
        "df.show()"
      ],
      "execution_count": null,
      "outputs": [
        {
          "output_type": "stream",
          "text": [
            "+----+----+\n",
            "| age|name|\n",
            "+----+----+\n",
            "|null| Bob|\n",
            "|  40| Jim|\n",
            "|  24|Mary|\n",
            "+----+----+\n",
            "\n"
          ],
          "name": "stdout"
        }
      ]
    },
    {
      "cell_type": "code",
      "metadata": {
        "colab": {
          "base_uri": "https://localhost:8080/"
        },
        "id": "1qKwhBTjqNuc",
        "outputId": "6d822821-9d9e-48ed-89b9-df9691c58d8a"
      },
      "source": [
        "df.withColumnRenamed(\"name\",\"firstName\").show()"
      ],
      "execution_count": null,
      "outputs": [
        {
          "output_type": "stream",
          "text": [
            "+----+---------+\n",
            "| age|firstName|\n",
            "+----+---------+\n",
            "|null|      Bob|\n",
            "|  40|      Jim|\n",
            "|  24|     Mary|\n",
            "+----+---------+\n",
            "\n"
          ],
          "name": "stdout"
        }
      ]
    },
    {
      "cell_type": "code",
      "metadata": {
        "colab": {
          "base_uri": "https://localhost:8080/"
        },
        "id": "Uco9P30jqXii",
        "outputId": "bb350fef-c23d-46e5-eebd-c4127ac36cb9"
      },
      "source": [
        "df.show()"
      ],
      "execution_count": null,
      "outputs": [
        {
          "output_type": "stream",
          "text": [
            "+----+----+\n",
            "| age|name|\n",
            "+----+----+\n",
            "|null| Bob|\n",
            "|  40| Jim|\n",
            "|  24|Mary|\n",
            "+----+----+\n",
            "\n"
          ],
          "name": "stdout"
        }
      ]
    },
    {
      "cell_type": "code",
      "metadata": {
        "colab": {
          "base_uri": "https://localhost:8080/"
        },
        "id": "JKCCXXy-qbqC",
        "outputId": "e05a67e3-23ce-4b7b-a4c9-a830f65bcf62"
      },
      "source": [
        "df.withColumn(\"agePlusTen\", df['age']+10).show()"
      ],
      "execution_count": null,
      "outputs": [
        {
          "output_type": "stream",
          "text": [
            "+----+----+----------+\n",
            "| age|name|agePlusTen|\n",
            "+----+----+----------+\n",
            "|null| Bob|      null|\n",
            "|  40| Jim|        50|\n",
            "|  24|Mary|        34|\n",
            "+----+----+----------+\n",
            "\n"
          ],
          "name": "stdout"
        }
      ]
    },
    {
      "cell_type": "code",
      "metadata": {
        "colab": {
          "base_uri": "https://localhost:8080/"
        },
        "id": "FYrscKO8qyJd",
        "outputId": "8332e008-dcb1-44ad-9e63-d47d97266f57"
      },
      "source": [
        "df.withColumn(\"age_minus_5\", df['age']-5).show()"
      ],
      "execution_count": null,
      "outputs": [
        {
          "output_type": "stream",
          "text": [
            "+----+----+-----------+\n",
            "| age|name|age_minus_5|\n",
            "+----+----+-----------+\n",
            "|null| Bob|       null|\n",
            "|  40| Jim|         35|\n",
            "|  24|Mary|         19|\n",
            "+----+----+-----------+\n",
            "\n"
          ],
          "name": "stdout"
        }
      ]
    },
    {
      "cell_type": "markdown",
      "metadata": {
        "id": "yRgWZeRekasQ"
      },
      "source": [
        "## Using SQL"
      ]
    },
    {
      "cell_type": "code",
      "metadata": {
        "id": "489jaijnkfno"
      },
      "source": [
        "df.createOrReplaceTempView(\"custmers\")"
      ],
      "execution_count": null,
      "outputs": []
    },
    {
      "cell_type": "code",
      "metadata": {
        "id": "EEPRi6zorG8Q"
      },
      "source": [
        "sql_results = spark.sql(\"SELECT * from custmers\")"
      ],
      "execution_count": null,
      "outputs": []
    },
    {
      "cell_type": "code",
      "metadata": {
        "colab": {
          "base_uri": "https://localhost:8080/"
        },
        "id": "1f2j94UKrNpt",
        "outputId": "d3420ba8-3554-4d00-8636-4eeaa61c8b9c"
      },
      "source": [
        "sql_results"
      ],
      "execution_count": null,
      "outputs": [
        {
          "output_type": "execute_result",
          "data": {
            "text/plain": [
              "DataFrame[age: int, name: string]"
            ]
          },
          "metadata": {
            "tags": []
          },
          "execution_count": 66
        }
      ]
    },
    {
      "cell_type": "code",
      "metadata": {
        "colab": {
          "base_uri": "https://localhost:8080/"
        },
        "id": "_wcBefx-rO9K",
        "outputId": "a31e4cb3-97c9-459b-dc9e-915ca82e7b85"
      },
      "source": [
        "sql_results.show()"
      ],
      "execution_count": null,
      "outputs": [
        {
          "output_type": "stream",
          "text": [
            "+----+----+\n",
            "| age|name|\n",
            "+----+----+\n",
            "|null| Bob|\n",
            "|  40| Jim|\n",
            "|  24|Mary|\n",
            "+----+----+\n",
            "\n"
          ],
          "name": "stdout"
        }
      ]
    },
    {
      "cell_type": "code",
      "metadata": {
        "colab": {
          "base_uri": "https://localhost:8080/"
        },
        "id": "AuVx3fkfrRJy",
        "outputId": "b3022626-0e1f-46d1-ff06-e5572c6797ce"
      },
      "source": [
        "spark.sql(\"SELECT * FROM custmers WHERE age=24\").show()"
      ],
      "execution_count": null,
      "outputs": [
        {
          "output_type": "stream",
          "text": [
            "+---+----+\n",
            "|age|name|\n",
            "+---+----+\n",
            "| 24|Mary|\n",
            "+---+----+\n",
            "\n"
          ],
          "name": "stdout"
        }
      ]
    },
    {
      "cell_type": "code",
      "metadata": {
        "id": "USe5SLinrcx3"
      },
      "source": [
        ""
      ],
      "execution_count": null,
      "outputs": []
    },
    {
      "cell_type": "markdown",
      "metadata": {
        "id": "xHN9Ff1qr1GB"
      },
      "source": [
        "## DataFrame Operations\n",
        "\n",
        "- Cover basic operations with Spark DataFrames.\n",
        "- Use stock data from Walmart."
      ]
    },
    {
      "cell_type": "code",
      "metadata": {
        "id": "2XA4cW1Gr3ni",
        "colab": {
          "base_uri": "https://localhost:8080/"
        },
        "outputId": "8c380941-1faa-4a54-ec4d-77ced2a82ff6"
      },
      "source": [
        "!curl https://raw.githubusercontent.com/markumreed/colab_pyspark/main/WMT.csv >> WMT.csv"
      ],
      "execution_count": null,
      "outputs": [
        {
          "output_type": "stream",
          "text": [
            "  % Total    % Received % Xferd  Average Speed   Time    Time     Time  Current\n",
            "                                 Dload  Upload   Total   Spent    Left  Speed\n",
            "\r  0     0    0     0    0     0      0      0 --:--:-- --:--:-- --:--:--     0\r100 89556  100 89556    0     0   392k      0 --:--:-- --:--:-- --:--:--  392k\n"
          ],
          "name": "stdout"
        }
      ]
    },
    {
      "cell_type": "code",
      "metadata": {
        "id": "uysJywW3dgUj"
      },
      "source": [
        "from pyspark.sql import SparkSession\n",
        "spark = SparkSession.builder.appName(\"operations\").getOrCreate()\n",
        "df = spark.read.csv('WMT.csv',inferSchema=True,header=True)"
      ],
      "execution_count": null,
      "outputs": []
    },
    {
      "cell_type": "code",
      "metadata": {
        "id": "yEd4eEX4fp1I",
        "colab": {
          "base_uri": "https://localhost:8080/"
        },
        "outputId": "6b955609-422b-47ac-b0cc-2d3f7d5584e5"
      },
      "source": [
        "df.printSchema()"
      ],
      "execution_count": null,
      "outputs": [
        {
          "output_type": "stream",
          "text": [
            "root\n",
            " |-- Date: string (nullable = true)\n",
            " |-- Open: double (nullable = true)\n",
            " |-- High: double (nullable = true)\n",
            " |-- Low: double (nullable = true)\n",
            " |-- Close: double (nullable = true)\n",
            " |-- Adj Close: double (nullable = true)\n",
            " |-- Volume: string (nullable = true)\n",
            "\n"
          ],
          "name": "stdout"
        }
      ]
    },
    {
      "cell_type": "code",
      "metadata": {
        "id": "52TTDejRpU_D",
        "colab": {
          "base_uri": "https://localhost:8080/"
        },
        "outputId": "92eeeebf-8ef7-45b9-c40c-680352e4dfbe"
      },
      "source": [
        "df.head(5)"
      ],
      "execution_count": null,
      "outputs": [
        {
          "output_type": "execute_result",
          "data": {
            "text/plain": [
              "[Row(Date='2016-01-20', Open=61.799999, High=62.330002, Low=60.200001, Close=60.84, Adj Close=53.990601, Volume='17369100'),\n",
              " Row(Date='2016-01-21', Open=60.98, High=62.790001, Low=60.91, Close=61.880001, Adj Close=54.913509, Volume='12089200'),\n",
              " Row(Date='2016-01-22', Open=62.439999, High=63.259998, Low=62.130001, Close=62.689999, Adj Close=55.632324, Volume='9197500'),\n",
              " Row(Date='2016-01-25', Open=62.779999, High=63.82, Low=62.549999, Close=63.450001, Adj Close=56.306763, Volume='12823400'),\n",
              " Row(Date='2016-01-26', Open=63.360001, High=64.470001, Low=63.259998, Close=64.0, Adj Close=56.794834, Volume='9441200')]"
            ]
          },
          "metadata": {
            "tags": []
          },
          "execution_count": 25
        }
      ]
    },
    {
      "cell_type": "markdown",
      "metadata": {
        "id": "1A6KhjDOfKwz"
      },
      "source": [
        "## Filtering Data\n",
        "\n",
        "- DataFrames allow for quick filtering of data based on conditions \n"
      ]
    },
    {
      "cell_type": "code",
      "metadata": {
        "id": "HaP5wGURfnfg",
        "colab": {
          "base_uri": "https://localhost:8080/"
        },
        "outputId": "4b86854c-da17-4747-fc08-6eb6d48f42de"
      },
      "source": [
        "df.filter('Close<62').show()"
      ],
      "execution_count": null,
      "outputs": [
        {
          "output_type": "stream",
          "text": [
            "+----------+---------+---------+---------+---------+---------+--------+\n",
            "|      Date|     Open|     High|      Low|    Close|Adj Close|  Volume|\n",
            "+----------+---------+---------+---------+---------+---------+--------+\n",
            "|2016-01-20|61.799999|62.330002|60.200001|    60.84|53.990601|17369100|\n",
            "|2016-01-21|    60.98|62.790001|    60.91|61.880001|54.913509|12089200|\n",
            "|2016-01-20|61.799999|62.330002|60.200001|    60.84|53.990601|17369100|\n",
            "|2016-01-21|    60.98|62.790001|    60.91|61.880001|54.913509|12089200|\n",
            "+----------+---------+---------+---------+---------+---------+--------+\n",
            "\n"
          ],
          "name": "stdout"
        }
      ]
    },
    {
      "cell_type": "code",
      "metadata": {
        "id": "ef9akX3opx-z",
        "colab": {
          "base_uri": "https://localhost:8080/"
        },
        "outputId": "86c1706c-dc60-4383-c41e-dae8ea34aaa8"
      },
      "source": [
        "df.filter('Close<62').select('Open').show()"
      ],
      "execution_count": null,
      "outputs": [
        {
          "output_type": "stream",
          "text": [
            "+---------+\n",
            "|     Open|\n",
            "+---------+\n",
            "|61.799999|\n",
            "|    60.98|\n",
            "|61.799999|\n",
            "|    60.98|\n",
            "+---------+\n",
            "\n"
          ],
          "name": "stdout"
        }
      ]
    },
    {
      "cell_type": "code",
      "metadata": {
        "id": "wYUFceU6r0nI",
        "colab": {
          "base_uri": "https://localhost:8080/"
        },
        "outputId": "44192b7c-ab61-4fea-a5fa-a49f3ddb7817"
      },
      "source": [
        "df.filter('Close<62').select(['Date','Open']).show()"
      ],
      "execution_count": null,
      "outputs": [
        {
          "output_type": "stream",
          "text": [
            "+----------+---------+\n",
            "|      Date|     Open|\n",
            "+----------+---------+\n",
            "|2016-01-20|61.799999|\n",
            "|2016-01-21|    60.98|\n",
            "|2016-01-20|61.799999|\n",
            "|2016-01-21|    60.98|\n",
            "+----------+---------+\n",
            "\n"
          ],
          "name": "stdout"
        }
      ]
    },
    {
      "cell_type": "markdown",
      "metadata": {
        "id": "E9ISe-A8fxUL"
      },
      "source": [
        "## Using Comparison Operators\n",
        "- Using comparison operators will look similar to SQL operators\n",
        "- Make to call the entire column within the dataframe"
      ]
    },
    {
      "cell_type": "code",
      "metadata": {
        "id": "DCwmv8AegBVz",
        "colab": {
          "base_uri": "https://localhost:8080/"
        },
        "outputId": "1d651713-c6c3-4516-f297-d67139b9d792"
      },
      "source": [
        "df.filter(df['Close'] < 62).show()"
      ],
      "execution_count": null,
      "outputs": [
        {
          "output_type": "stream",
          "text": [
            "+----------+---------+---------+---------+---------+---------+--------+\n",
            "|      Date|     Open|     High|      Low|    Close|Adj Close|  Volume|\n",
            "+----------+---------+---------+---------+---------+---------+--------+\n",
            "|2016-01-20|61.799999|62.330002|60.200001|    60.84|53.990601|17369100|\n",
            "|2016-01-21|    60.98|62.790001|    60.91|61.880001|54.913509|12089200|\n",
            "|2016-01-20|61.799999|62.330002|60.200001|    60.84|53.990601|17369100|\n",
            "|2016-01-21|    60.98|62.790001|    60.91|61.880001|54.913509|12089200|\n",
            "+----------+---------+---------+---------+---------+---------+--------+\n",
            "\n"
          ],
          "name": "stdout"
        }
      ]
    },
    {
      "cell_type": "code",
      "metadata": {
        "id": "CF4kkYnRsL3q",
        "colab": {
          "base_uri": "https://localhost:8080/"
        },
        "outputId": "8523ebdf-c6f9-4377-d05b-80e3b242eb6a"
      },
      "source": [
        "df.filter((df['Close'] < 62) & ~(df['Open'] > 60)).show()"
      ],
      "execution_count": null,
      "outputs": [
        {
          "output_type": "stream",
          "text": [
            "+----+----+----+---+-----+---------+------+\n",
            "|Date|Open|High|Low|Close|Adj Close|Volume|\n",
            "+----+----+----+---+-----+---------+------+\n",
            "+----+----+----+---+-----+---------+------+\n",
            "\n"
          ],
          "name": "stdout"
        }
      ]
    },
    {
      "cell_type": "code",
      "metadata": {
        "id": "O5_fKXo5sac2",
        "colab": {
          "base_uri": "https://localhost:8080/"
        },
        "outputId": "51dca6f0-8f77-4b0d-d76d-75542a46ef5a"
      },
      "source": [
        "df.filter(df['Open'] == 60.98).show(1)"
      ],
      "execution_count": null,
      "outputs": [
        {
          "output_type": "stream",
          "text": [
            "+----------+-----+---------+-----+---------+---------+--------+\n",
            "|      Date| Open|     High|  Low|    Close|Adj Close|  Volume|\n",
            "+----------+-----+---------+-----+---------+---------+--------+\n",
            "|2016-01-21|60.98|62.790001|60.91|61.880001|54.913509|12089200|\n",
            "+----------+-----+---------+-----+---------+---------+--------+\n",
            "only showing top 1 row\n",
            "\n"
          ],
          "name": "stdout"
        }
      ]
    },
    {
      "cell_type": "code",
      "metadata": {
        "id": "LJhfhLIatH3C",
        "colab": {
          "base_uri": "https://localhost:8080/"
        },
        "outputId": "ea0d3a3e-8cf5-43b2-c7db-aa1283fdca10"
      },
      "source": [
        "df.filter(df['Open'] == 60.98).collect()"
      ],
      "execution_count": null,
      "outputs": [
        {
          "output_type": "execute_result",
          "data": {
            "text/plain": [
              "[Row(Date='2016-01-21', Open=60.98, High=62.790001, Low=60.91, Close=61.880001, Adj Close=54.913509, Volume='12089200'),\n",
              " Row(Date='2016-01-21', Open=60.98, High=62.790001, Low=60.91, Close=61.880001, Adj Close=54.913509, Volume='12089200')]"
            ]
          },
          "metadata": {
            "tags": []
          },
          "execution_count": 45
        }
      ]
    },
    {
      "cell_type": "code",
      "metadata": {
        "id": "MGsDRRCutgUx"
      },
      "source": [
        "res =df.filter(df['Open'] == 60.98).collect()"
      ],
      "execution_count": null,
      "outputs": []
    },
    {
      "cell_type": "code",
      "metadata": {
        "id": "DfmZMsaItlXh",
        "colab": {
          "base_uri": "https://localhost:8080/"
        },
        "outputId": "bb16a0e8-257b-4143-ec37-e190d4ffa4c2"
      },
      "source": [
        "type(res[0])"
      ],
      "execution_count": null,
      "outputs": [
        {
          "output_type": "execute_result",
          "data": {
            "text/plain": [
              "pyspark.sql.types.Row"
            ]
          },
          "metadata": {
            "tags": []
          },
          "execution_count": 47
        }
      ]
    },
    {
      "cell_type": "code",
      "metadata": {
        "id": "LxFzHkFTtnXo",
        "colab": {
          "base_uri": "https://localhost:8080/"
        },
        "outputId": "0e34d518-a00b-43cd-b339-9680a1cf391a"
      },
      "source": [
        "res[0].asDict()"
      ],
      "execution_count": null,
      "outputs": [
        {
          "output_type": "execute_result",
          "data": {
            "text/plain": [
              "{'Adj Close': 54.913509,\n",
              " 'Close': 61.880001,\n",
              " 'Date': '2016-01-21',\n",
              " 'High': 62.790001,\n",
              " 'Low': 60.91,\n",
              " 'Open': 60.98,\n",
              " 'Volume': '12089200'}"
            ]
          },
          "metadata": {
            "tags": []
          },
          "execution_count": 48
        }
      ]
    },
    {
      "cell_type": "code",
      "metadata": {
        "id": "tDHaBsTIts-7",
        "colab": {
          "base_uri": "https://localhost:8080/"
        },
        "outputId": "6a1ec434-b736-4d65-9aff-6b480d86bcca"
      },
      "source": [
        "for item in res[0]:\n",
        "  print(item)"
      ],
      "execution_count": null,
      "outputs": [
        {
          "output_type": "stream",
          "text": [
            "2016-01-21\n",
            "60.98\n",
            "62.790001\n",
            "60.91\n",
            "61.880001\n",
            "54.913509\n",
            "12089200\n"
          ],
          "name": "stdout"
        }
      ]
    },
    {
      "cell_type": "code",
      "metadata": {
        "id": "bUb_M36pt459"
      },
      "source": [
        "import pandas as pd"
      ],
      "execution_count": null,
      "outputs": []
    },
    {
      "cell_type": "code",
      "metadata": {
        "id": "VdEFN1pst8Zk",
        "colab": {
          "base_uri": "https://localhost:8080/"
        },
        "outputId": "764c6454-503e-42de-c9c6-c1f39f56f761"
      },
      "source": [
        "pd.Series(res[0].asDict())"
      ],
      "execution_count": null,
      "outputs": [
        {
          "output_type": "execute_result",
          "data": {
            "text/plain": [
              "Date         2016-01-21\n",
              "Open              60.98\n",
              "High              62.79\n",
              "Low               60.91\n",
              "Close             61.88\n",
              "Adj Close       54.9135\n",
              "Volume         12089200\n",
              "dtype: object"
            ]
          },
          "metadata": {
            "tags": []
          },
          "execution_count": 52
        }
      ]
    },
    {
      "cell_type": "code",
      "metadata": {
        "id": "R8-AFjgVt9na"
      },
      "source": [
        ""
      ],
      "execution_count": null,
      "outputs": []
    },
    {
      "cell_type": "markdown",
      "metadata": {
        "id": "cH04CrhILKaH"
      },
      "source": [
        "# GroupBy and Aggregate Functions\n",
        "- `GroupBy` allows you to group rows together based off some column value\n",
        "- Once you've performed the `GroupBy` operation you can use an aggregate function off that data. \n",
        "- An aggregate function aggregates multiple rows of data into a single output, such as taking the sum of inputs, or counting the number of inputs.\n",
        "\n"
      ]
    },
    {
      "cell_type": "code",
      "metadata": {
        "id": "1dj8S7F5LeHO"
      },
      "source": [
        "from pyspark.sql import SparkSession"
      ],
      "execution_count": 6,
      "outputs": []
    },
    {
      "cell_type": "code",
      "metadata": {
        "id": "SgyolVy-Sl__"
      },
      "source": [
        "spark = SparkSession.builder.appName(\"groupbyagg\").getOrCreate()"
      ],
      "execution_count": 8,
      "outputs": []
    },
    {
      "cell_type": "markdown",
      "metadata": {
        "id": "eVPgV-xyL9lW"
      },
      "source": [
        "## Import Data\n"
      ]
    },
    {
      "cell_type": "code",
      "metadata": {
        "id": "56wrqUq8MAOh",
        "outputId": "ca9ddc73-5921-4885-bb5d-60caa03ec0c1",
        "colab": {
          "base_uri": "https://localhost:8080/"
        }
      },
      "source": [
        "!curl https://raw.githubusercontent.com/markumreed/colab_pyspark/main/sales_data.csv >> sales_data.csv"
      ],
      "execution_count": 11,
      "outputs": [
        {
          "output_type": "stream",
          "text": [
            "  % Total    % Received % Xferd  Average Speed   Time    Time     Time  Current\n",
            "                                 Dload  Upload   Total   Spent    Left  Speed\n",
            "\r  0     0    0     0    0     0      0      0 --:--:-- --:--:-- --:--:--     0\r100   202  100   202    0     0   1836      0 --:--:-- --:--:-- --:--:--  1836\n"
          ],
          "name": "stdout"
        }
      ]
    },
    {
      "cell_type": "code",
      "metadata": {
        "id": "kEgYTipcOh0r"
      },
      "source": [
        "df = spark.read.csv(\"sales_data.csv\", inferSchema=True, header=True)"
      ],
      "execution_count": 12,
      "outputs": []
    },
    {
      "cell_type": "code",
      "metadata": {
        "id": "jVjWzzsRS1-6",
        "outputId": "58692fc0-f35b-42a0-a011-b85f9202a863",
        "colab": {
          "base_uri": "https://localhost:8080/"
        }
      },
      "source": [
        "df.printSchema()"
      ],
      "execution_count": 13,
      "outputs": [
        {
          "output_type": "stream",
          "text": [
            "root\n",
            " |-- company: string (nullable = true)\n",
            " |-- representative: string (nullable = true)\n",
            " |-- num_sales: double (nullable = true)\n",
            "\n"
          ],
          "name": "stdout"
        }
      ]
    },
    {
      "cell_type": "code",
      "metadata": {
        "id": "Nl_XoAzbS4Hi",
        "outputId": "48d9bf57-36d2-42f6-ab8c-92c69d5db42c",
        "colab": {
          "base_uri": "https://localhost:8080/"
        }
      },
      "source": [
        "df.show()"
      ],
      "execution_count": 14,
      "outputs": [
        {
          "output_type": "stream",
          "text": [
            "+-------+--------------+---------+\n",
            "|company|representative|num_sales|\n",
            "+-------+--------------+---------+\n",
            "|    XYZ|           Bob|    200.0|\n",
            "|    XYZ|           Tom|    120.0|\n",
            "|    XYZ|         Frank|    340.0|\n",
            "|   ABCD|         Jerry|    600.0|\n",
            "|   ABCD|           Amy|    124.0|\n",
            "|   ABCD|       Vanessa|    243.0|\n",
            "|     OK|          Carl|    870.0|\n",
            "|     OK|         Sarah|    350.0|\n",
            "|   BLAH|          John|    250.0|\n",
            "|   BLAH|         Linda|    130.0|\n",
            "|   BLAH|          Mike|    750.0|\n",
            "|   BLAH|         Chris|    350.0|\n",
            "+-------+--------------+---------+\n",
            "\n"
          ],
          "name": "stdout"
        }
      ]
    },
    {
      "cell_type": "markdown",
      "metadata": {
        "id": "lMastDr_MBk0"
      },
      "source": [
        "## Grouping Data\n",
        "- Group the data by company"
      ]
    },
    {
      "cell_type": "code",
      "metadata": {
        "id": "yF8gnLHcMExx",
        "outputId": "1556e883-1cc6-4de6-f29a-2bd64d038fd8",
        "colab": {
          "base_uri": "https://localhost:8080/"
        }
      },
      "source": [
        "df.groupBy(\"company\")"
      ],
      "execution_count": 15,
      "outputs": [
        {
          "output_type": "execute_result",
          "data": {
            "text/plain": [
              "<pyspark.sql.group.GroupedData at 0x7fe2f0e67ef0>"
            ]
          },
          "metadata": {
            "tags": []
          },
          "execution_count": 15
        }
      ]
    },
    {
      "cell_type": "markdown",
      "metadata": {
        "id": "7NoOQ2BFMMMT"
      },
      "source": [
        "## Aggregate Functions\n",
        "- mean, count, max, min, sum..."
      ]
    },
    {
      "cell_type": "code",
      "metadata": {
        "id": "otQZOtpSMP-Y",
        "outputId": "79916fa0-c2b6-45e7-85cb-572fc2978b98",
        "colab": {
          "base_uri": "https://localhost:8080/"
        }
      },
      "source": [
        "df.groupBy(\"company\").mean().show()"
      ],
      "execution_count": 16,
      "outputs": [
        {
          "output_type": "stream",
          "text": [
            "+-------+-----------------+\n",
            "|company|   avg(num_sales)|\n",
            "+-------+-----------------+\n",
            "|   BLAH|            370.0|\n",
            "|    XYZ|            220.0|\n",
            "|     OK|            610.0|\n",
            "|   ABCD|322.3333333333333|\n",
            "+-------+-----------------+\n",
            "\n"
          ],
          "name": "stdout"
        }
      ]
    },
    {
      "cell_type": "code",
      "metadata": {
        "id": "cMza7D7UTxJC",
        "outputId": "7ec8f12e-3473-47b3-c5e8-b3f317b86eec",
        "colab": {
          "base_uri": "https://localhost:8080/"
        }
      },
      "source": [
        "df.groupBy(\"company\").count().show()"
      ],
      "execution_count": 17,
      "outputs": [
        {
          "output_type": "stream",
          "text": [
            "+-------+-----+\n",
            "|company|count|\n",
            "+-------+-----+\n",
            "|   BLAH|    4|\n",
            "|    XYZ|    3|\n",
            "|     OK|    2|\n",
            "|   ABCD|    3|\n",
            "+-------+-----+\n",
            "\n"
          ],
          "name": "stdout"
        }
      ]
    },
    {
      "cell_type": "code",
      "metadata": {
        "id": "6DexQqbPT-QJ",
        "outputId": "7613bb8c-ff7b-4291-f8c7-7c75f38a8b95",
        "colab": {
          "base_uri": "https://localhost:8080/"
        }
      },
      "source": [
        "df.groupBy(\"company\").min().show()"
      ],
      "execution_count": 18,
      "outputs": [
        {
          "output_type": "stream",
          "text": [
            "+-------+--------------+\n",
            "|company|min(num_sales)|\n",
            "+-------+--------------+\n",
            "|   BLAH|         130.0|\n",
            "|    XYZ|         120.0|\n",
            "|     OK|         350.0|\n",
            "|   ABCD|         124.0|\n",
            "+-------+--------------+\n",
            "\n"
          ],
          "name": "stdout"
        }
      ]
    },
    {
      "cell_type": "code",
      "metadata": {
        "id": "FrL9eCJxUGB4",
        "outputId": "c31104dd-8972-483f-befa-9e4e547b8a73",
        "colab": {
          "base_uri": "https://localhost:8080/"
        }
      },
      "source": [
        "df.groupBy(\"company\").max().show()"
      ],
      "execution_count": 19,
      "outputs": [
        {
          "output_type": "stream",
          "text": [
            "+-------+--------------+\n",
            "|company|max(num_sales)|\n",
            "+-------+--------------+\n",
            "|   BLAH|         750.0|\n",
            "|    XYZ|         340.0|\n",
            "|     OK|         870.0|\n",
            "|   ABCD|         600.0|\n",
            "+-------+--------------+\n",
            "\n"
          ],
          "name": "stdout"
        }
      ]
    },
    {
      "cell_type": "code",
      "metadata": {
        "id": "QpSvlEHiUR2j",
        "outputId": "803f7a8a-2291-4e77-d78a-c8670eb32c52",
        "colab": {
          "base_uri": "https://localhost:8080/"
        }
      },
      "source": [
        "df.groupBy(\"company\").sum().show()"
      ],
      "execution_count": 20,
      "outputs": [
        {
          "output_type": "stream",
          "text": [
            "+-------+--------------+\n",
            "|company|sum(num_sales)|\n",
            "+-------+--------------+\n",
            "|   BLAH|        1480.0|\n",
            "|    XYZ|         660.0|\n",
            "|     OK|        1220.0|\n",
            "|   ABCD|         967.0|\n",
            "+-------+--------------+\n",
            "\n"
          ],
          "name": "stdout"
        }
      ]
    },
    {
      "cell_type": "markdown",
      "metadata": {
        "id": "XpI9QvtJMQwW"
      },
      "source": [
        "## Aggregating\n",
        "\n",
        "- Not all methods need a groupby call, instead you can just call the generalized `.agg()` method, that will call the aggregate across all rows in the dataframe column specified. \n",
        "- It can take in arguments as a single column, or create multiple aggregate calls all at once using dictionary notation.\n"
      ]
    },
    {
      "cell_type": "code",
      "metadata": {
        "id": "2k-ZvnPvMgYr",
        "outputId": "aee3d30f-d16b-4ca4-9fd7-9bebd0d40e51",
        "colab": {
          "base_uri": "https://localhost:8080/"
        }
      },
      "source": [
        "df.agg({\"num_sales\":\"max\"}).show()"
      ],
      "execution_count": 24,
      "outputs": [
        {
          "output_type": "stream",
          "text": [
            "+--------------+\n",
            "|max(num_sales)|\n",
            "+--------------+\n",
            "|         870.0|\n",
            "+--------------+\n",
            "\n"
          ],
          "name": "stdout"
        }
      ]
    },
    {
      "cell_type": "code",
      "metadata": {
        "id": "yLVEMczZU4TB",
        "outputId": "4c0accc9-cdd4-4fc8-bfc5-4e342e78b0d7",
        "colab": {
          "base_uri": "https://localhost:8080/"
        }
      },
      "source": [
        "df.groupBy(\"company\").agg({\"num_sales\":\"mean\"}).show()"
      ],
      "execution_count": 25,
      "outputs": [
        {
          "output_type": "stream",
          "text": [
            "+-------+-----------------+\n",
            "|company|   avg(num_sales)|\n",
            "+-------+-----------------+\n",
            "|   BLAH|            370.0|\n",
            "|    XYZ|            220.0|\n",
            "|     OK|            610.0|\n",
            "|   ABCD|322.3333333333333|\n",
            "+-------+-----------------+\n",
            "\n"
          ],
          "name": "stdout"
        }
      ]
    },
    {
      "cell_type": "code",
      "metadata": {
        "id": "nmoEejcgVG53"
      },
      "source": [
        "company_groups = df.groupBy(\"company\")"
      ],
      "execution_count": 26,
      "outputs": []
    },
    {
      "cell_type": "code",
      "metadata": {
        "id": "-BTEXsvJVMqM",
        "outputId": "25eb0e08-c8b7-4b4a-8d90-56586451da5c",
        "colab": {
          "base_uri": "https://localhost:8080/"
        }
      },
      "source": [
        "company_groups.min().show()"
      ],
      "execution_count": 29,
      "outputs": [
        {
          "output_type": "stream",
          "text": [
            "+-------+--------------+\n",
            "|company|min(num_sales)|\n",
            "+-------+--------------+\n",
            "|   BLAH|         130.0|\n",
            "|    XYZ|         120.0|\n",
            "|     OK|         350.0|\n",
            "|   ABCD|         124.0|\n",
            "+-------+--------------+\n",
            "\n"
          ],
          "name": "stdout"
        }
      ]
    },
    {
      "cell_type": "markdown",
      "metadata": {
        "id": "66d1zN6iMj3V"
      },
      "source": [
        "## Functions\n",
        "There are a variety of functions you can import from pyspark.sql.functions."
      ]
    },
    {
      "cell_type": "code",
      "metadata": {
        "id": "Sf1hR0XMMnzS"
      },
      "source": [
        "from pyspark.sql.functions import countDistinct, avg, stddev"
      ],
      "execution_count": 30,
      "outputs": []
    },
    {
      "cell_type": "code",
      "metadata": {
        "id": "Rx7Mt_rWMqiK",
        "outputId": "856c9b0e-cbcc-4f23-8116-53652fcfb0af",
        "colab": {
          "base_uri": "https://localhost:8080/"
        }
      },
      "source": [
        "df.select(countDistinct(\"num_sales\")).show()"
      ],
      "execution_count": 31,
      "outputs": [
        {
          "output_type": "stream",
          "text": [
            "+-------------------------+\n",
            "|count(DISTINCT num_sales)|\n",
            "+-------------------------+\n",
            "|                       11|\n",
            "+-------------------------+\n",
            "\n"
          ],
          "name": "stdout"
        }
      ]
    },
    {
      "cell_type": "code",
      "metadata": {
        "id": "wTtgXIJMWWHq",
        "outputId": "286edc8c-fc57-4385-c66c-8019fe78f79f",
        "colab": {
          "base_uri": "https://localhost:8080/"
        }
      },
      "source": [
        "df.select(avg(\"num_sales\")).show()"
      ],
      "execution_count": 35,
      "outputs": [
        {
          "output_type": "stream",
          "text": [
            "+-----------------+\n",
            "|   avg(num_sales)|\n",
            "+-----------------+\n",
            "|360.5833333333333|\n",
            "+-----------------+\n",
            "\n"
          ],
          "name": "stdout"
        }
      ]
    },
    {
      "cell_type": "code",
      "metadata": {
        "id": "kETF6uvgWd88",
        "outputId": "a602f9b8-4d9e-4832-c3b9-ae3e66793d2a",
        "colab": {
          "base_uri": "https://localhost:8080/"
        }
      },
      "source": [
        "df.select(stddev(\"num_sales\")).show()"
      ],
      "execution_count": 36,
      "outputs": [
        {
          "output_type": "stream",
          "text": [
            "+----------------------+\n",
            "|stddev_samp(num_sales)|\n",
            "+----------------------+\n",
            "|    250.08742410799007|\n",
            "+----------------------+\n",
            "\n"
          ],
          "name": "stdout"
        }
      ]
    },
    {
      "cell_type": "markdown",
      "metadata": {
        "id": "wo2IWVdMMq0l"
      },
      "source": [
        "### Alias\n",
        "- To change the name, use the `.alias()` method for this:"
      ]
    },
    {
      "cell_type": "code",
      "metadata": {
        "id": "82U7lERVMytz",
        "outputId": "12432dda-2766-49ae-89cd-7b329b6afbb8",
        "colab": {
          "base_uri": "https://localhost:8080/"
        }
      },
      "source": [
        "df.select(countDistinct(\"num_sales\").alias(\"ANYTHING WE WANT\")).show()"
      ],
      "execution_count": 34,
      "outputs": [
        {
          "output_type": "stream",
          "text": [
            "+----------------+\n",
            "|ANYTHING WE WANT|\n",
            "+----------------+\n",
            "|              11|\n",
            "+----------------+\n",
            "\n"
          ],
          "name": "stdout"
        }
      ]
    },
    {
      "cell_type": "code",
      "metadata": {
        "id": "Esxxvx7KWU9f"
      },
      "source": [
        ""
      ],
      "execution_count": null,
      "outputs": []
    },
    {
      "cell_type": "markdown",
      "metadata": {
        "id": "UJTrtVbiM1zj"
      },
      "source": [
        "### Precision\n",
        "- Use the `format_number` to change precision\n"
      ]
    },
    {
      "cell_type": "code",
      "metadata": {
        "id": "LqgFZW_0NA7N"
      },
      "source": [
        "from pyspark.sql.functions import format_number"
      ],
      "execution_count": 37,
      "outputs": []
    },
    {
      "cell_type": "code",
      "metadata": {
        "id": "qSpARgeGWpCb"
      },
      "source": [
        "sales_std = df.select(stddev(\"num_sales\").alias(\"stddev\"))"
      ],
      "execution_count": 39,
      "outputs": []
    },
    {
      "cell_type": "code",
      "metadata": {
        "id": "LMg4hJ-KW2IC",
        "outputId": "ca5b2f70-2928-40d5-d2c7-d638f3ad77d5",
        "colab": {
          "base_uri": "https://localhost:8080/"
        }
      },
      "source": [
        "sales_std.show()"
      ],
      "execution_count": 40,
      "outputs": [
        {
          "output_type": "stream",
          "text": [
            "+------------------+\n",
            "|            stddev|\n",
            "+------------------+\n",
            "|250.08742410799007|\n",
            "+------------------+\n",
            "\n"
          ],
          "name": "stdout"
        }
      ]
    },
    {
      "cell_type": "code",
      "metadata": {
        "id": "jsk0g7wMW8NZ",
        "outputId": "d0ddb3c9-5b6e-4b7c-d765-7f620087e4a0",
        "colab": {
          "base_uri": "https://localhost:8080/"
        }
      },
      "source": [
        "sales_std.select(format_number(\"stddev\",2)).show()"
      ],
      "execution_count": 41,
      "outputs": [
        {
          "output_type": "stream",
          "text": [
            "+------------------------+\n",
            "|format_number(stddev, 2)|\n",
            "+------------------------+\n",
            "|                  250.09|\n",
            "+------------------------+\n",
            "\n"
          ],
          "name": "stdout"
        }
      ]
    },
    {
      "cell_type": "markdown",
      "metadata": {
        "id": "gdg0Rk-pNB51"
      },
      "source": [
        "## Order By\n"
      ]
    },
    {
      "cell_type": "code",
      "metadata": {
        "id": "bI7g8LIfNFyE",
        "outputId": "2d9f409b-4319-466f-87f0-3656691d7fbd",
        "colab": {
          "base_uri": "https://localhost:8080/"
        }
      },
      "source": [
        "df.orderBy(\"num_sales\").show() # Ascending Order"
      ],
      "execution_count": 42,
      "outputs": [
        {
          "output_type": "stream",
          "text": [
            "+-------+--------------+---------+\n",
            "|company|representative|num_sales|\n",
            "+-------+--------------+---------+\n",
            "|    XYZ|           Tom|    120.0|\n",
            "|   ABCD|           Amy|    124.0|\n",
            "|   BLAH|         Linda|    130.0|\n",
            "|    XYZ|           Bob|    200.0|\n",
            "|   ABCD|       Vanessa|    243.0|\n",
            "|   BLAH|          John|    250.0|\n",
            "|    XYZ|         Frank|    340.0|\n",
            "|     OK|         Sarah|    350.0|\n",
            "|   BLAH|         Chris|    350.0|\n",
            "|   ABCD|         Jerry|    600.0|\n",
            "|   BLAH|          Mike|    750.0|\n",
            "|     OK|          Carl|    870.0|\n",
            "+-------+--------------+---------+\n",
            "\n"
          ],
          "name": "stdout"
        }
      ]
    },
    {
      "cell_type": "code",
      "metadata": {
        "id": "t5utKqoxXPEl",
        "outputId": "d683d0c2-11af-4f59-c614-8961cb73ab4b",
        "colab": {
          "base_uri": "https://localhost:8080/"
        }
      },
      "source": [
        "df.orderBy(df['num_sales'].desc()).show()"
      ],
      "execution_count": 43,
      "outputs": [
        {
          "output_type": "stream",
          "text": [
            "+-------+--------------+---------+\n",
            "|company|representative|num_sales|\n",
            "+-------+--------------+---------+\n",
            "|     OK|          Carl|    870.0|\n",
            "|   BLAH|          Mike|    750.0|\n",
            "|   ABCD|         Jerry|    600.0|\n",
            "|     OK|         Sarah|    350.0|\n",
            "|   BLAH|         Chris|    350.0|\n",
            "|    XYZ|         Frank|    340.0|\n",
            "|   BLAH|          John|    250.0|\n",
            "|   ABCD|       Vanessa|    243.0|\n",
            "|    XYZ|           Bob|    200.0|\n",
            "|   BLAH|         Linda|    130.0|\n",
            "|   ABCD|           Amy|    124.0|\n",
            "|    XYZ|           Tom|    120.0|\n",
            "+-------+--------------+---------+\n",
            "\n"
          ],
          "name": "stdout"
        }
      ]
    },
    {
      "cell_type": "code",
      "metadata": {
        "id": "ChHtoo9KXYQA"
      },
      "source": [
        ""
      ],
      "execution_count": null,
      "outputs": []
    }
  ]
}