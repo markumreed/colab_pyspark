{
  "nbformat": 4,
  "nbformat_minor": 0,
  "metadata": {
    "colab": {
      "name": "pyspark_in_colab.ipynb",
      "provenance": [],
      "authorship_tag": "ABX9TyMONgxfmkAy+Eq9B/NLmY43",
      "include_colab_link": true
    },
    "kernelspec": {
      "name": "python3",
      "display_name": "Python 3"
    }
  },
  "cells": [
    {
      "cell_type": "markdown",
      "metadata": {
        "id": "view-in-github",
        "colab_type": "text"
      },
      "source": [
        "<a href=\"https://colab.research.google.com/github/markumreed/colab_pyspark/blob/main/pyspark_in_colab.ipynb\" target=\"_parent\"><img src=\"https://colab.research.google.com/assets/colab-badge.svg\" alt=\"Open In Colab\"/></a>"
      ]
    },
    {
      "cell_type": "markdown",
      "metadata": {
        "id": "OJWqWINyh8HT"
      },
      "source": [
        "# Preamble\n",
        "\n",
        "The following three cells must be ran in order to use PySpark in Google Colab. \n",
        "\n",
        "### Spark 3.0.2"
      ]
    },
    {
      "cell_type": "code",
      "metadata": {
        "id": "4-GObLMvhH1h"
      },
      "source": [
        "!apt-get install openjdk-8-jdk-headless -qq > /dev/null\n",
        "!wget -q https://www-us.apache.org/dist/spark/spark-3.0.2/spark-3.0.2-bin-hadoop2.7.tgz"
      ],
      "execution_count": 1,
      "outputs": []
    },
    {
      "cell_type": "code",
      "metadata": {
        "id": "Xiz2SR2WcOp4"
      },
      "source": [
        "!tar xf spark-3.0.2-bin-hadoop2.7.tgz\n",
        "!pip install -q findspark"
      ],
      "execution_count": 2,
      "outputs": []
    },
    {
      "cell_type": "code",
      "metadata": {
        "id": "t5Wi5iOlhNqJ"
      },
      "source": [
        "import os\n",
        "os.environ[\"JAVA_HOME\"] = \"/usr/lib/jvm/java-8-openjdk-amd64\"\n",
        "os.environ[\"SPARK_HOME\"] = \"/content/spark-3.0.2-bin-hadoop2.7\""
      ],
      "execution_count": 23,
      "outputs": []
    },
    {
      "cell_type": "code",
      "metadata": {
        "id": "21HknExKhrbd"
      },
      "source": [
        "import findspark\n",
        "findspark.init()"
      ],
      "execution_count": 24,
      "outputs": []
    },
    {
      "cell_type": "markdown",
      "metadata": {
        "id": "hiW1NHVriHmG"
      },
      "source": [
        "# Spark DataFrame Basics\n",
        "\n",
        "Spark DataFrames allow for easy handling of large datasets. \n",
        "\n",
        "* Easy syntax\n",
        "* Ability to use SQL directly in the dataframe\n",
        "* Operations are automatically distributed across RDDs"
      ]
    },
    {
      "cell_type": "markdown",
      "metadata": {
        "id": "7hqXqLiqjBOi"
      },
      "source": [
        "## Create a DataFrame\n"
      ]
    },
    {
      "cell_type": "code",
      "metadata": {
        "id": "3PofF_8DiZMe"
      },
      "source": [
        "from pyspark.sql import SparkSession"
      ],
      "execution_count": null,
      "outputs": []
    },
    {
      "cell_type": "code",
      "metadata": {
        "id": "1yMumuTnlvqV"
      },
      "source": [
        "spark = SparkSession.builder.appName(\"pyspark_basics\").getOrCreate()"
      ],
      "execution_count": null,
      "outputs": []
    },
    {
      "cell_type": "code",
      "metadata": {
        "colab": {
          "base_uri": "https://localhost:8080/"
        },
        "id": "3DvJFAnJmgwo",
        "outputId": "502562e6-4497-4ddf-ddb4-54733483645e"
      },
      "source": [
        "%%writefile user_simple.json\n",
        "{\"name\":\"Bob\"}\n",
        "{\"name\":\"Jim\", \"age\":40}\n",
        "{\"name\":\"Mary\", \"age\": 24}"
      ],
      "execution_count": null,
      "outputs": [
        {
          "output_type": "stream",
          "text": [
            "Writing user_simple.json\n"
          ],
          "name": "stdout"
        }
      ]
    },
    {
      "cell_type": "code",
      "metadata": {
        "id": "u_eO4v0NmEju"
      },
      "source": [
        "df = spark.read.json(\"user_simple.json\")"
      ],
      "execution_count": null,
      "outputs": []
    },
    {
      "cell_type": "code",
      "metadata": {
        "id": "nAc8qcdHkkQ4",
        "colab": {
          "base_uri": "https://localhost:8080/"
        },
        "outputId": "0914e472-a0b0-4a4e-c267-3cbf0f3abcd1"
      },
      "source": [
        "df"
      ],
      "execution_count": null,
      "outputs": [
        {
          "output_type": "execute_result",
          "data": {
            "text/plain": [
              "DataFrame[age: bigint, name: string]"
            ]
          },
          "metadata": {
            "tags": []
          },
          "execution_count": 12
        }
      ]
    },
    {
      "cell_type": "markdown",
      "metadata": {
        "id": "bfKSE6KJjFuq"
      },
      "source": [
        "## Show DataFrame\n"
      ]
    },
    {
      "cell_type": "code",
      "metadata": {
        "colab": {
          "base_uri": "https://localhost:8080/"
        },
        "id": "JQMevRT-jK4J",
        "outputId": "cd8e9dc6-00f7-4fe4-90e8-604c3ee32dfa"
      },
      "source": [
        "df.show()"
      ],
      "execution_count": null,
      "outputs": [
        {
          "output_type": "stream",
          "text": [
            "+----+----+\n",
            "| age|name|\n",
            "+----+----+\n",
            "|null| Bob|\n",
            "|  40| Jim|\n",
            "|  24|Mary|\n",
            "+----+----+\n",
            "\n"
          ],
          "name": "stdout"
        }
      ]
    },
    {
      "cell_type": "code",
      "metadata": {
        "colab": {
          "base_uri": "https://localhost:8080/"
        },
        "id": "sF2i36PsnLlC",
        "outputId": "d95a31b9-78d6-43d7-b700-c4c5d8fe19c4"
      },
      "source": [
        "df.printSchema()"
      ],
      "execution_count": null,
      "outputs": [
        {
          "output_type": "stream",
          "text": [
            "root\n",
            " |-- age: long (nullable = true)\n",
            " |-- name: string (nullable = true)\n",
            "\n"
          ],
          "name": "stdout"
        }
      ]
    },
    {
      "cell_type": "code",
      "metadata": {
        "colab": {
          "base_uri": "https://localhost:8080/"
        },
        "id": "y7mJ1ZFxnPiF",
        "outputId": "7ee5b54f-0809-4211-cd55-89967a729d88"
      },
      "source": [
        "df.columns"
      ],
      "execution_count": null,
      "outputs": [
        {
          "output_type": "execute_result",
          "data": {
            "text/plain": [
              "['age', 'name']"
            ]
          },
          "metadata": {
            "tags": []
          },
          "execution_count": 40
        }
      ]
    },
    {
      "cell_type": "code",
      "metadata": {
        "id": "GummdOXQlK9Q",
        "colab": {
          "base_uri": "https://localhost:8080/"
        },
        "outputId": "0f5658a4-4297-4624-be42-36d4a1fbf8f0"
      },
      "source": [
        "df.describe()"
      ],
      "execution_count": null,
      "outputs": [
        {
          "output_type": "execute_result",
          "data": {
            "text/plain": [
              "DataFrame[summary: string, age: string, name: string]"
            ]
          },
          "metadata": {
            "tags": []
          },
          "execution_count": 15
        }
      ]
    },
    {
      "cell_type": "code",
      "metadata": {
        "colab": {
          "base_uri": "https://localhost:8080/"
        },
        "id": "HgTEqsABnhlZ",
        "outputId": "5c2d490b-9e6d-449e-a6fe-96ed4b07b9b8"
      },
      "source": [
        "df.describe().show()"
      ],
      "execution_count": null,
      "outputs": [
        {
          "output_type": "stream",
          "text": [
            "+-------+------------------+----+\n",
            "|summary|               age|name|\n",
            "+-------+------------------+----+\n",
            "|  count|                 2|   3|\n",
            "|   mean|              32.0|null|\n",
            "| stddev|11.313708498984761|null|\n",
            "|    min|                24| Bob|\n",
            "|    max|                40|Mary|\n",
            "+-------+------------------+----+\n",
            "\n"
          ],
          "name": "stdout"
        }
      ]
    },
    {
      "cell_type": "markdown",
      "metadata": {
        "id": "d_unxKKfjmy7"
      },
      "source": [
        "## Specifying Schema Structure\n",
        "\n",
        "- Some data types make it easier to infer schema. \n",
        "\n",
        "- Often have to set the schema yourself\n",
        "\n",
        "- Spark has tools to help specify the structure\n",
        "\n",
        "Next we need to create the list of Structure fields\n",
        "  * :param name: string, name of the field.\n",
        "  * :param dataType: :class:`DataType` of the field.\n",
        "  * :param nullable: boolean, whether the field can be null (None) "
      ]
    },
    {
      "cell_type": "code",
      "metadata": {
        "id": "KwpWKuOsn0KC"
      },
      "source": [
        "from pyspark.sql.types import StructField, StringType, IntegerType, StructType"
      ],
      "execution_count": null,
      "outputs": []
    },
    {
      "cell_type": "code",
      "metadata": {
        "id": "TTCd9Kn6oBAt"
      },
      "source": [
        "data_schema = [StructField(\"age\", IntegerType(), True), StructField(\"name\",StringType(), True)]"
      ],
      "execution_count": null,
      "outputs": []
    },
    {
      "cell_type": "code",
      "metadata": {
        "id": "3B-U5Uy9oOJ1"
      },
      "source": [
        "final_struc = StructType(fields=data_schema)"
      ],
      "execution_count": null,
      "outputs": []
    },
    {
      "cell_type": "code",
      "metadata": {
        "id": "HRceAk5OoZ4a"
      },
      "source": [
        "df = spark.read.json(\"user_simple.json\", schema=final_struc)"
      ],
      "execution_count": null,
      "outputs": []
    },
    {
      "cell_type": "code",
      "metadata": {
        "colab": {
          "base_uri": "https://localhost:8080/"
        },
        "id": "O1JV1wX-ohr_",
        "outputId": "46701dfb-abec-4c5e-de84-36ba99ea05ff"
      },
      "source": [
        "df.printSchema()"
      ],
      "execution_count": null,
      "outputs": [
        {
          "output_type": "stream",
          "text": [
            "root\n",
            " |-- age: integer (nullable = true)\n",
            " |-- name: string (nullable = true)\n",
            "\n"
          ],
          "name": "stdout"
        }
      ]
    },
    {
      "cell_type": "code",
      "metadata": {
        "id": "_bxUbj1NmwCn",
        "colab": {
          "base_uri": "https://localhost:8080/"
        },
        "outputId": "2c8e43a0-0849-4040-c2c4-f892055a0de8"
      },
      "source": [
        "df.show()"
      ],
      "execution_count": null,
      "outputs": [
        {
          "output_type": "stream",
          "text": [
            "+----+----+\n",
            "| age|name|\n",
            "+----+----+\n",
            "|null| Bob|\n",
            "|  40| Jim|\n",
            "|  24|Mary|\n",
            "+----+----+\n",
            "\n"
          ],
          "name": "stdout"
        }
      ]
    },
    {
      "cell_type": "markdown",
      "metadata": {
        "id": "9BstAkwekUW4"
      },
      "source": [
        "## Grab Data"
      ]
    },
    {
      "cell_type": "code",
      "metadata": {
        "colab": {
          "base_uri": "https://localhost:8080/"
        },
        "id": "3BXtJ8Vtjqor",
        "outputId": "f717dc81-6b79-4bee-a31e-c5130e0d9c6d"
      },
      "source": [
        "df['age']"
      ],
      "execution_count": null,
      "outputs": [
        {
          "output_type": "execute_result",
          "data": {
            "text/plain": [
              "Column<b'age'>"
            ]
          },
          "metadata": {
            "tags": []
          },
          "execution_count": 47
        }
      ]
    },
    {
      "cell_type": "code",
      "metadata": {
        "colab": {
          "base_uri": "https://localhost:8080/"
        },
        "id": "pAVvHNehowFL",
        "outputId": "e1f91ced-ba3d-414e-bd0f-279e009c9f2b"
      },
      "source": [
        "type(df['age'])"
      ],
      "execution_count": null,
      "outputs": [
        {
          "output_type": "execute_result",
          "data": {
            "text/plain": [
              "pyspark.sql.column.Column"
            ]
          },
          "metadata": {
            "tags": []
          },
          "execution_count": 48
        }
      ]
    },
    {
      "cell_type": "code",
      "metadata": {
        "colab": {
          "base_uri": "https://localhost:8080/"
        },
        "id": "gEzDx_AKox5b",
        "outputId": "906cc52c-58bb-4367-e6cd-1a6659a6bfa7"
      },
      "source": [
        "df.select(\"age\")"
      ],
      "execution_count": null,
      "outputs": [
        {
          "output_type": "execute_result",
          "data": {
            "text/plain": [
              "DataFrame[age: int]"
            ]
          },
          "metadata": {
            "tags": []
          },
          "execution_count": 49
        }
      ]
    },
    {
      "cell_type": "code",
      "metadata": {
        "colab": {
          "base_uri": "https://localhost:8080/"
        },
        "id": "E8Kq6dcmpADD",
        "outputId": "d4f4cee0-19d3-484f-c8f6-2d271f91636a"
      },
      "source": [
        "type(df.select(\"age\"))"
      ],
      "execution_count": null,
      "outputs": [
        {
          "output_type": "execute_result",
          "data": {
            "text/plain": [
              "pyspark.sql.dataframe.DataFrame"
            ]
          },
          "metadata": {
            "tags": []
          },
          "execution_count": 50
        }
      ]
    },
    {
      "cell_type": "code",
      "metadata": {
        "colab": {
          "base_uri": "https://localhost:8080/"
        },
        "id": "dKdekPhcpCms",
        "outputId": "0886faed-b8a4-4063-fd33-00d6586a8b12"
      },
      "source": [
        "df.select(\"age\").show()"
      ],
      "execution_count": null,
      "outputs": [
        {
          "output_type": "stream",
          "text": [
            "+----+\n",
            "| age|\n",
            "+----+\n",
            "|null|\n",
            "|  40|\n",
            "|  24|\n",
            "+----+\n",
            "\n"
          ],
          "name": "stdout"
        }
      ]
    },
    {
      "cell_type": "code",
      "metadata": {
        "colab": {
          "base_uri": "https://localhost:8080/"
        },
        "id": "iXNWVdjZpK-K",
        "outputId": "01598f77-f962-424b-bc66-d69bfc602ef5"
      },
      "source": [
        "df.head(2)"
      ],
      "execution_count": null,
      "outputs": [
        {
          "output_type": "execute_result",
          "data": {
            "text/plain": [
              "[Row(age=None, name='Bob'), Row(age=40, name='Jim')]"
            ]
          },
          "metadata": {
            "tags": []
          },
          "execution_count": 54
        }
      ]
    },
    {
      "cell_type": "code",
      "metadata": {
        "colab": {
          "base_uri": "https://localhost:8080/"
        },
        "id": "Uhtn6i2hpd2v",
        "outputId": "377256b6-ef56-4443-e57a-1e113c875f9a"
      },
      "source": [
        "df.select([\"name\",\"age\"])"
      ],
      "execution_count": null,
      "outputs": [
        {
          "output_type": "execute_result",
          "data": {
            "text/plain": [
              "DataFrame[name: string, age: int]"
            ]
          },
          "metadata": {
            "tags": []
          },
          "execution_count": 55
        }
      ]
    },
    {
      "cell_type": "code",
      "metadata": {
        "colab": {
          "base_uri": "https://localhost:8080/"
        },
        "id": "XPCk9uufphpK",
        "outputId": "60e21cd6-393f-4d03-f2b2-520dd12afbf7"
      },
      "source": [
        "df.select([\"name\",\"age\"]).show()"
      ],
      "execution_count": null,
      "outputs": [
        {
          "output_type": "stream",
          "text": [
            "+----+----+\n",
            "|name| age|\n",
            "+----+----+\n",
            "| Bob|null|\n",
            "| Jim|  40|\n",
            "|Mary|  24|\n",
            "+----+----+\n",
            "\n"
          ],
          "name": "stdout"
        }
      ]
    },
    {
      "cell_type": "markdown",
      "metadata": {
        "id": "KOXJGzI1kYA8"
      },
      "source": [
        "## Create New Columns"
      ]
    },
    {
      "cell_type": "code",
      "metadata": {
        "colab": {
          "base_uri": "https://localhost:8080/"
        },
        "id": "sT6NHjD9kZ-u",
        "outputId": "1f927202-b911-455e-b573-eb4cd5ac1aef"
      },
      "source": [
        "df.withColumn(\"newAge\", df['age']).show()"
      ],
      "execution_count": null,
      "outputs": [
        {
          "output_type": "stream",
          "text": [
            "+----+----+------+\n",
            "| age|name|newAge|\n",
            "+----+----+------+\n",
            "|null| Bob|  null|\n",
            "|  40| Jim|    40|\n",
            "|  24|Mary|    24|\n",
            "+----+----+------+\n",
            "\n"
          ],
          "name": "stdout"
        }
      ]
    },
    {
      "cell_type": "code",
      "metadata": {
        "colab": {
          "base_uri": "https://localhost:8080/"
        },
        "id": "0IGHHPbQqEww",
        "outputId": "347d93fe-8634-4d4f-ad38-f3832fb3e76c"
      },
      "source": [
        "df.show()"
      ],
      "execution_count": null,
      "outputs": [
        {
          "output_type": "stream",
          "text": [
            "+----+----+\n",
            "| age|name|\n",
            "+----+----+\n",
            "|null| Bob|\n",
            "|  40| Jim|\n",
            "|  24|Mary|\n",
            "+----+----+\n",
            "\n"
          ],
          "name": "stdout"
        }
      ]
    },
    {
      "cell_type": "code",
      "metadata": {
        "colab": {
          "base_uri": "https://localhost:8080/"
        },
        "id": "1qKwhBTjqNuc",
        "outputId": "6d822821-9d9e-48ed-89b9-df9691c58d8a"
      },
      "source": [
        "df.withColumnRenamed(\"name\",\"firstName\").show()"
      ],
      "execution_count": null,
      "outputs": [
        {
          "output_type": "stream",
          "text": [
            "+----+---------+\n",
            "| age|firstName|\n",
            "+----+---------+\n",
            "|null|      Bob|\n",
            "|  40|      Jim|\n",
            "|  24|     Mary|\n",
            "+----+---------+\n",
            "\n"
          ],
          "name": "stdout"
        }
      ]
    },
    {
      "cell_type": "code",
      "metadata": {
        "colab": {
          "base_uri": "https://localhost:8080/"
        },
        "id": "Uco9P30jqXii",
        "outputId": "bb350fef-c23d-46e5-eebd-c4127ac36cb9"
      },
      "source": [
        "df.show()"
      ],
      "execution_count": null,
      "outputs": [
        {
          "output_type": "stream",
          "text": [
            "+----+----+\n",
            "| age|name|\n",
            "+----+----+\n",
            "|null| Bob|\n",
            "|  40| Jim|\n",
            "|  24|Mary|\n",
            "+----+----+\n",
            "\n"
          ],
          "name": "stdout"
        }
      ]
    },
    {
      "cell_type": "code",
      "metadata": {
        "colab": {
          "base_uri": "https://localhost:8080/"
        },
        "id": "JKCCXXy-qbqC",
        "outputId": "e05a67e3-23ce-4b7b-a4c9-a830f65bcf62"
      },
      "source": [
        "df.withColumn(\"agePlusTen\", df['age']+10).show()"
      ],
      "execution_count": null,
      "outputs": [
        {
          "output_type": "stream",
          "text": [
            "+----+----+----------+\n",
            "| age|name|agePlusTen|\n",
            "+----+----+----------+\n",
            "|null| Bob|      null|\n",
            "|  40| Jim|        50|\n",
            "|  24|Mary|        34|\n",
            "+----+----+----------+\n",
            "\n"
          ],
          "name": "stdout"
        }
      ]
    },
    {
      "cell_type": "code",
      "metadata": {
        "colab": {
          "base_uri": "https://localhost:8080/"
        },
        "id": "FYrscKO8qyJd",
        "outputId": "8332e008-dcb1-44ad-9e63-d47d97266f57"
      },
      "source": [
        "df.withColumn(\"age_minus_5\", df['age']-5).show()"
      ],
      "execution_count": null,
      "outputs": [
        {
          "output_type": "stream",
          "text": [
            "+----+----+-----------+\n",
            "| age|name|age_minus_5|\n",
            "+----+----+-----------+\n",
            "|null| Bob|       null|\n",
            "|  40| Jim|         35|\n",
            "|  24|Mary|         19|\n",
            "+----+----+-----------+\n",
            "\n"
          ],
          "name": "stdout"
        }
      ]
    },
    {
      "cell_type": "markdown",
      "metadata": {
        "id": "yRgWZeRekasQ"
      },
      "source": [
        "## Using SQL"
      ]
    },
    {
      "cell_type": "code",
      "metadata": {
        "id": "489jaijnkfno"
      },
      "source": [
        "df.createOrReplaceTempView(\"custmers\")"
      ],
      "execution_count": null,
      "outputs": []
    },
    {
      "cell_type": "code",
      "metadata": {
        "id": "EEPRi6zorG8Q"
      },
      "source": [
        "sql_results = spark.sql(\"SELECT * from custmers\")"
      ],
      "execution_count": null,
      "outputs": []
    },
    {
      "cell_type": "code",
      "metadata": {
        "colab": {
          "base_uri": "https://localhost:8080/"
        },
        "id": "1f2j94UKrNpt",
        "outputId": "d3420ba8-3554-4d00-8636-4eeaa61c8b9c"
      },
      "source": [
        "sql_results"
      ],
      "execution_count": null,
      "outputs": [
        {
          "output_type": "execute_result",
          "data": {
            "text/plain": [
              "DataFrame[age: int, name: string]"
            ]
          },
          "metadata": {
            "tags": []
          },
          "execution_count": 66
        }
      ]
    },
    {
      "cell_type": "code",
      "metadata": {
        "colab": {
          "base_uri": "https://localhost:8080/"
        },
        "id": "_wcBefx-rO9K",
        "outputId": "a31e4cb3-97c9-459b-dc9e-915ca82e7b85"
      },
      "source": [
        "sql_results.show()"
      ],
      "execution_count": null,
      "outputs": [
        {
          "output_type": "stream",
          "text": [
            "+----+----+\n",
            "| age|name|\n",
            "+----+----+\n",
            "|null| Bob|\n",
            "|  40| Jim|\n",
            "|  24|Mary|\n",
            "+----+----+\n",
            "\n"
          ],
          "name": "stdout"
        }
      ]
    },
    {
      "cell_type": "code",
      "metadata": {
        "colab": {
          "base_uri": "https://localhost:8080/"
        },
        "id": "AuVx3fkfrRJy",
        "outputId": "b3022626-0e1f-46d1-ff06-e5572c6797ce"
      },
      "source": [
        "spark.sql(\"SELECT * FROM custmers WHERE age=24\").show()"
      ],
      "execution_count": null,
      "outputs": [
        {
          "output_type": "stream",
          "text": [
            "+---+----+\n",
            "|age|name|\n",
            "+---+----+\n",
            "| 24|Mary|\n",
            "+---+----+\n",
            "\n"
          ],
          "name": "stdout"
        }
      ]
    },
    {
      "cell_type": "code",
      "metadata": {
        "id": "USe5SLinrcx3"
      },
      "source": [
        ""
      ],
      "execution_count": null,
      "outputs": []
    },
    {
      "cell_type": "markdown",
      "metadata": {
        "id": "xHN9Ff1qr1GB"
      },
      "source": [
        "## DataFrame Operations\n",
        "\n",
        "- Cover basic operations with Spark DataFrames.\n",
        "- Use stock data from Walmart."
      ]
    },
    {
      "cell_type": "code",
      "metadata": {
        "id": "2XA4cW1Gr3ni",
        "colab": {
          "base_uri": "https://localhost:8080/"
        },
        "outputId": "8c380941-1faa-4a54-ec4d-77ced2a82ff6"
      },
      "source": [
        "!curl https://raw.githubusercontent.com/markumreed/colab_pyspark/main/WMT.csv >> WMT.csv"
      ],
      "execution_count": null,
      "outputs": [
        {
          "output_type": "stream",
          "text": [
            "  % Total    % Received % Xferd  Average Speed   Time    Time     Time  Current\n",
            "                                 Dload  Upload   Total   Spent    Left  Speed\n",
            "\r  0     0    0     0    0     0      0      0 --:--:-- --:--:-- --:--:--     0\r100 89556  100 89556    0     0   392k      0 --:--:-- --:--:-- --:--:--  392k\n"
          ],
          "name": "stdout"
        }
      ]
    },
    {
      "cell_type": "code",
      "metadata": {
        "id": "uysJywW3dgUj"
      },
      "source": [
        "from pyspark.sql import SparkSession\n",
        "spark = SparkSession.builder.appName(\"operations\").getOrCreate()\n",
        "df = spark.read.csv('WMT.csv',inferSchema=True,header=True)"
      ],
      "execution_count": null,
      "outputs": []
    },
    {
      "cell_type": "code",
      "metadata": {
        "id": "yEd4eEX4fp1I",
        "colab": {
          "base_uri": "https://localhost:8080/"
        },
        "outputId": "6b955609-422b-47ac-b0cc-2d3f7d5584e5"
      },
      "source": [
        "df.printSchema()"
      ],
      "execution_count": null,
      "outputs": [
        {
          "output_type": "stream",
          "text": [
            "root\n",
            " |-- Date: string (nullable = true)\n",
            " |-- Open: double (nullable = true)\n",
            " |-- High: double (nullable = true)\n",
            " |-- Low: double (nullable = true)\n",
            " |-- Close: double (nullable = true)\n",
            " |-- Adj Close: double (nullable = true)\n",
            " |-- Volume: string (nullable = true)\n",
            "\n"
          ],
          "name": "stdout"
        }
      ]
    },
    {
      "cell_type": "code",
      "metadata": {
        "id": "52TTDejRpU_D",
        "colab": {
          "base_uri": "https://localhost:8080/"
        },
        "outputId": "92eeeebf-8ef7-45b9-c40c-680352e4dfbe"
      },
      "source": [
        "df.head(5)"
      ],
      "execution_count": null,
      "outputs": [
        {
          "output_type": "execute_result",
          "data": {
            "text/plain": [
              "[Row(Date='2016-01-20', Open=61.799999, High=62.330002, Low=60.200001, Close=60.84, Adj Close=53.990601, Volume='17369100'),\n",
              " Row(Date='2016-01-21', Open=60.98, High=62.790001, Low=60.91, Close=61.880001, Adj Close=54.913509, Volume='12089200'),\n",
              " Row(Date='2016-01-22', Open=62.439999, High=63.259998, Low=62.130001, Close=62.689999, Adj Close=55.632324, Volume='9197500'),\n",
              " Row(Date='2016-01-25', Open=62.779999, High=63.82, Low=62.549999, Close=63.450001, Adj Close=56.306763, Volume='12823400'),\n",
              " Row(Date='2016-01-26', Open=63.360001, High=64.470001, Low=63.259998, Close=64.0, Adj Close=56.794834, Volume='9441200')]"
            ]
          },
          "metadata": {
            "tags": []
          },
          "execution_count": 25
        }
      ]
    },
    {
      "cell_type": "markdown",
      "metadata": {
        "id": "1A6KhjDOfKwz"
      },
      "source": [
        "## Filtering Data\n",
        "\n",
        "- DataFrames allow for quick filtering of data based on conditions \n"
      ]
    },
    {
      "cell_type": "code",
      "metadata": {
        "id": "HaP5wGURfnfg",
        "colab": {
          "base_uri": "https://localhost:8080/"
        },
        "outputId": "4b86854c-da17-4747-fc08-6eb6d48f42de"
      },
      "source": [
        "df.filter('Close<62').show()"
      ],
      "execution_count": null,
      "outputs": [
        {
          "output_type": "stream",
          "text": [
            "+----------+---------+---------+---------+---------+---------+--------+\n",
            "|      Date|     Open|     High|      Low|    Close|Adj Close|  Volume|\n",
            "+----------+---------+---------+---------+---------+---------+--------+\n",
            "|2016-01-20|61.799999|62.330002|60.200001|    60.84|53.990601|17369100|\n",
            "|2016-01-21|    60.98|62.790001|    60.91|61.880001|54.913509|12089200|\n",
            "|2016-01-20|61.799999|62.330002|60.200001|    60.84|53.990601|17369100|\n",
            "|2016-01-21|    60.98|62.790001|    60.91|61.880001|54.913509|12089200|\n",
            "+----------+---------+---------+---------+---------+---------+--------+\n",
            "\n"
          ],
          "name": "stdout"
        }
      ]
    },
    {
      "cell_type": "code",
      "metadata": {
        "id": "ef9akX3opx-z",
        "colab": {
          "base_uri": "https://localhost:8080/"
        },
        "outputId": "86c1706c-dc60-4383-c41e-dae8ea34aaa8"
      },
      "source": [
        "df.filter('Close<62').select('Open').show()"
      ],
      "execution_count": null,
      "outputs": [
        {
          "output_type": "stream",
          "text": [
            "+---------+\n",
            "|     Open|\n",
            "+---------+\n",
            "|61.799999|\n",
            "|    60.98|\n",
            "|61.799999|\n",
            "|    60.98|\n",
            "+---------+\n",
            "\n"
          ],
          "name": "stdout"
        }
      ]
    },
    {
      "cell_type": "code",
      "metadata": {
        "id": "wYUFceU6r0nI",
        "colab": {
          "base_uri": "https://localhost:8080/"
        },
        "outputId": "44192b7c-ab61-4fea-a5fa-a49f3ddb7817"
      },
      "source": [
        "df.filter('Close<62').select(['Date','Open']).show()"
      ],
      "execution_count": null,
      "outputs": [
        {
          "output_type": "stream",
          "text": [
            "+----------+---------+\n",
            "|      Date|     Open|\n",
            "+----------+---------+\n",
            "|2016-01-20|61.799999|\n",
            "|2016-01-21|    60.98|\n",
            "|2016-01-20|61.799999|\n",
            "|2016-01-21|    60.98|\n",
            "+----------+---------+\n",
            "\n"
          ],
          "name": "stdout"
        }
      ]
    },
    {
      "cell_type": "markdown",
      "metadata": {
        "id": "E9ISe-A8fxUL"
      },
      "source": [
        "## Using Comparison Operators\n",
        "- Using comparison operators will look similar to SQL operators\n",
        "- Make to call the entire column within the dataframe"
      ]
    },
    {
      "cell_type": "code",
      "metadata": {
        "id": "DCwmv8AegBVz",
        "colab": {
          "base_uri": "https://localhost:8080/"
        },
        "outputId": "1d651713-c6c3-4516-f297-d67139b9d792"
      },
      "source": [
        "df.filter(df['Close'] < 62).show()"
      ],
      "execution_count": null,
      "outputs": [
        {
          "output_type": "stream",
          "text": [
            "+----------+---------+---------+---------+---------+---------+--------+\n",
            "|      Date|     Open|     High|      Low|    Close|Adj Close|  Volume|\n",
            "+----------+---------+---------+---------+---------+---------+--------+\n",
            "|2016-01-20|61.799999|62.330002|60.200001|    60.84|53.990601|17369100|\n",
            "|2016-01-21|    60.98|62.790001|    60.91|61.880001|54.913509|12089200|\n",
            "|2016-01-20|61.799999|62.330002|60.200001|    60.84|53.990601|17369100|\n",
            "|2016-01-21|    60.98|62.790001|    60.91|61.880001|54.913509|12089200|\n",
            "+----------+---------+---------+---------+---------+---------+--------+\n",
            "\n"
          ],
          "name": "stdout"
        }
      ]
    },
    {
      "cell_type": "code",
      "metadata": {
        "id": "CF4kkYnRsL3q",
        "colab": {
          "base_uri": "https://localhost:8080/"
        },
        "outputId": "8523ebdf-c6f9-4377-d05b-80e3b242eb6a"
      },
      "source": [
        "df.filter((df['Close'] < 62) & ~(df['Open'] > 60)).show()"
      ],
      "execution_count": null,
      "outputs": [
        {
          "output_type": "stream",
          "text": [
            "+----+----+----+---+-----+---------+------+\n",
            "|Date|Open|High|Low|Close|Adj Close|Volume|\n",
            "+----+----+----+---+-----+---------+------+\n",
            "+----+----+----+---+-----+---------+------+\n",
            "\n"
          ],
          "name": "stdout"
        }
      ]
    },
    {
      "cell_type": "code",
      "metadata": {
        "id": "O5_fKXo5sac2",
        "colab": {
          "base_uri": "https://localhost:8080/"
        },
        "outputId": "51dca6f0-8f77-4b0d-d76d-75542a46ef5a"
      },
      "source": [
        "df.filter(df['Open'] == 60.98).show(1)"
      ],
      "execution_count": null,
      "outputs": [
        {
          "output_type": "stream",
          "text": [
            "+----------+-----+---------+-----+---------+---------+--------+\n",
            "|      Date| Open|     High|  Low|    Close|Adj Close|  Volume|\n",
            "+----------+-----+---------+-----+---------+---------+--------+\n",
            "|2016-01-21|60.98|62.790001|60.91|61.880001|54.913509|12089200|\n",
            "+----------+-----+---------+-----+---------+---------+--------+\n",
            "only showing top 1 row\n",
            "\n"
          ],
          "name": "stdout"
        }
      ]
    },
    {
      "cell_type": "code",
      "metadata": {
        "id": "LJhfhLIatH3C",
        "colab": {
          "base_uri": "https://localhost:8080/"
        },
        "outputId": "ea0d3a3e-8cf5-43b2-c7db-aa1283fdca10"
      },
      "source": [
        "df.filter(df['Open'] == 60.98).collect()"
      ],
      "execution_count": null,
      "outputs": [
        {
          "output_type": "execute_result",
          "data": {
            "text/plain": [
              "[Row(Date='2016-01-21', Open=60.98, High=62.790001, Low=60.91, Close=61.880001, Adj Close=54.913509, Volume='12089200'),\n",
              " Row(Date='2016-01-21', Open=60.98, High=62.790001, Low=60.91, Close=61.880001, Adj Close=54.913509, Volume='12089200')]"
            ]
          },
          "metadata": {
            "tags": []
          },
          "execution_count": 45
        }
      ]
    },
    {
      "cell_type": "code",
      "metadata": {
        "id": "MGsDRRCutgUx"
      },
      "source": [
        "res =df.filter(df['Open'] == 60.98).collect()"
      ],
      "execution_count": null,
      "outputs": []
    },
    {
      "cell_type": "code",
      "metadata": {
        "id": "DfmZMsaItlXh",
        "colab": {
          "base_uri": "https://localhost:8080/"
        },
        "outputId": "bb16a0e8-257b-4143-ec37-e190d4ffa4c2"
      },
      "source": [
        "type(res[0])"
      ],
      "execution_count": null,
      "outputs": [
        {
          "output_type": "execute_result",
          "data": {
            "text/plain": [
              "pyspark.sql.types.Row"
            ]
          },
          "metadata": {
            "tags": []
          },
          "execution_count": 47
        }
      ]
    },
    {
      "cell_type": "code",
      "metadata": {
        "id": "LxFzHkFTtnXo",
        "colab": {
          "base_uri": "https://localhost:8080/"
        },
        "outputId": "0e34d518-a00b-43cd-b339-9680a1cf391a"
      },
      "source": [
        "res[0].asDict()"
      ],
      "execution_count": null,
      "outputs": [
        {
          "output_type": "execute_result",
          "data": {
            "text/plain": [
              "{'Adj Close': 54.913509,\n",
              " 'Close': 61.880001,\n",
              " 'Date': '2016-01-21',\n",
              " 'High': 62.790001,\n",
              " 'Low': 60.91,\n",
              " 'Open': 60.98,\n",
              " 'Volume': '12089200'}"
            ]
          },
          "metadata": {
            "tags": []
          },
          "execution_count": 48
        }
      ]
    },
    {
      "cell_type": "code",
      "metadata": {
        "id": "tDHaBsTIts-7",
        "colab": {
          "base_uri": "https://localhost:8080/"
        },
        "outputId": "6a1ec434-b736-4d65-9aff-6b480d86bcca"
      },
      "source": [
        "for item in res[0]:\n",
        "  print(item)"
      ],
      "execution_count": null,
      "outputs": [
        {
          "output_type": "stream",
          "text": [
            "2016-01-21\n",
            "60.98\n",
            "62.790001\n",
            "60.91\n",
            "61.880001\n",
            "54.913509\n",
            "12089200\n"
          ],
          "name": "stdout"
        }
      ]
    },
    {
      "cell_type": "code",
      "metadata": {
        "id": "bUb_M36pt459"
      },
      "source": [
        "import pandas as pd"
      ],
      "execution_count": null,
      "outputs": []
    },
    {
      "cell_type": "code",
      "metadata": {
        "id": "VdEFN1pst8Zk",
        "colab": {
          "base_uri": "https://localhost:8080/"
        },
        "outputId": "764c6454-503e-42de-c9c6-c1f39f56f761"
      },
      "source": [
        "pd.Series(res[0].asDict())"
      ],
      "execution_count": null,
      "outputs": [
        {
          "output_type": "execute_result",
          "data": {
            "text/plain": [
              "Date         2016-01-21\n",
              "Open              60.98\n",
              "High              62.79\n",
              "Low               60.91\n",
              "Close             61.88\n",
              "Adj Close       54.9135\n",
              "Volume         12089200\n",
              "dtype: object"
            ]
          },
          "metadata": {
            "tags": []
          },
          "execution_count": 52
        }
      ]
    },
    {
      "cell_type": "code",
      "metadata": {
        "id": "R8-AFjgVt9na"
      },
      "source": [
        ""
      ],
      "execution_count": null,
      "outputs": []
    },
    {
      "cell_type": "markdown",
      "metadata": {
        "id": "cH04CrhILKaH"
      },
      "source": [
        "# GroupBy and Aggregate Functions\n",
        "- `GroupBy` allows you to group rows together based off some column value\n",
        "- Once you've performed the `GroupBy` operation you can use an aggregate function off that data. \n",
        "- An aggregate function aggregates multiple rows of data into a single output, such as taking the sum of inputs, or counting the number of inputs.\n",
        "\n"
      ]
    },
    {
      "cell_type": "code",
      "metadata": {
        "id": "1dj8S7F5LeHO"
      },
      "source": [
        "from pyspark.sql import SparkSession"
      ],
      "execution_count": null,
      "outputs": []
    },
    {
      "cell_type": "code",
      "metadata": {
        "id": "SgyolVy-Sl__"
      },
      "source": [
        "spark = SparkSession.builder.appName(\"groupbyagg\").getOrCreate()"
      ],
      "execution_count": null,
      "outputs": []
    },
    {
      "cell_type": "markdown",
      "metadata": {
        "id": "eVPgV-xyL9lW"
      },
      "source": [
        "## Import Data\n"
      ]
    },
    {
      "cell_type": "code",
      "metadata": {
        "id": "56wrqUq8MAOh",
        "colab": {
          "base_uri": "https://localhost:8080/"
        },
        "outputId": "ca9ddc73-5921-4885-bb5d-60caa03ec0c1"
      },
      "source": [
        "!curl https://raw.githubusercontent.com/markumreed/colab_pyspark/main/sales_data.csv >> sales_data.csv"
      ],
      "execution_count": null,
      "outputs": [
        {
          "output_type": "stream",
          "text": [
            "  % Total    % Received % Xferd  Average Speed   Time    Time     Time  Current\n",
            "                                 Dload  Upload   Total   Spent    Left  Speed\n",
            "\r  0     0    0     0    0     0      0      0 --:--:-- --:--:-- --:--:--     0\r100   202  100   202    0     0   1836      0 --:--:-- --:--:-- --:--:--  1836\n"
          ],
          "name": "stdout"
        }
      ]
    },
    {
      "cell_type": "code",
      "metadata": {
        "id": "kEgYTipcOh0r"
      },
      "source": [
        "df = spark.read.csv(\"sales_data.csv\", inferSchema=True, header=True)"
      ],
      "execution_count": null,
      "outputs": []
    },
    {
      "cell_type": "code",
      "metadata": {
        "id": "jVjWzzsRS1-6",
        "colab": {
          "base_uri": "https://localhost:8080/"
        },
        "outputId": "58692fc0-f35b-42a0-a011-b85f9202a863"
      },
      "source": [
        "df.printSchema()"
      ],
      "execution_count": null,
      "outputs": [
        {
          "output_type": "stream",
          "text": [
            "root\n",
            " |-- company: string (nullable = true)\n",
            " |-- representative: string (nullable = true)\n",
            " |-- num_sales: double (nullable = true)\n",
            "\n"
          ],
          "name": "stdout"
        }
      ]
    },
    {
      "cell_type": "code",
      "metadata": {
        "id": "Nl_XoAzbS4Hi",
        "colab": {
          "base_uri": "https://localhost:8080/"
        },
        "outputId": "48d9bf57-36d2-42f6-ab8c-92c69d5db42c"
      },
      "source": [
        "df.show()"
      ],
      "execution_count": null,
      "outputs": [
        {
          "output_type": "stream",
          "text": [
            "+-------+--------------+---------+\n",
            "|company|representative|num_sales|\n",
            "+-------+--------------+---------+\n",
            "|    XYZ|           Bob|    200.0|\n",
            "|    XYZ|           Tom|    120.0|\n",
            "|    XYZ|         Frank|    340.0|\n",
            "|   ABCD|         Jerry|    600.0|\n",
            "|   ABCD|           Amy|    124.0|\n",
            "|   ABCD|       Vanessa|    243.0|\n",
            "|     OK|          Carl|    870.0|\n",
            "|     OK|         Sarah|    350.0|\n",
            "|   BLAH|          John|    250.0|\n",
            "|   BLAH|         Linda|    130.0|\n",
            "|   BLAH|          Mike|    750.0|\n",
            "|   BLAH|         Chris|    350.0|\n",
            "+-------+--------------+---------+\n",
            "\n"
          ],
          "name": "stdout"
        }
      ]
    },
    {
      "cell_type": "markdown",
      "metadata": {
        "id": "lMastDr_MBk0"
      },
      "source": [
        "## Grouping Data\n",
        "- Group the data by company"
      ]
    },
    {
      "cell_type": "code",
      "metadata": {
        "id": "yF8gnLHcMExx",
        "colab": {
          "base_uri": "https://localhost:8080/"
        },
        "outputId": "1556e883-1cc6-4de6-f29a-2bd64d038fd8"
      },
      "source": [
        "df.groupBy(\"company\")"
      ],
      "execution_count": null,
      "outputs": [
        {
          "output_type": "execute_result",
          "data": {
            "text/plain": [
              "<pyspark.sql.group.GroupedData at 0x7fe2f0e67ef0>"
            ]
          },
          "metadata": {
            "tags": []
          },
          "execution_count": 15
        }
      ]
    },
    {
      "cell_type": "markdown",
      "metadata": {
        "id": "7NoOQ2BFMMMT"
      },
      "source": [
        "## Aggregate Functions\n",
        "- mean, count, max, min, sum..."
      ]
    },
    {
      "cell_type": "code",
      "metadata": {
        "id": "otQZOtpSMP-Y",
        "colab": {
          "base_uri": "https://localhost:8080/"
        },
        "outputId": "79916fa0-c2b6-45e7-85cb-572fc2978b98"
      },
      "source": [
        "df.groupBy(\"company\").mean().show()"
      ],
      "execution_count": null,
      "outputs": [
        {
          "output_type": "stream",
          "text": [
            "+-------+-----------------+\n",
            "|company|   avg(num_sales)|\n",
            "+-------+-----------------+\n",
            "|   BLAH|            370.0|\n",
            "|    XYZ|            220.0|\n",
            "|     OK|            610.0|\n",
            "|   ABCD|322.3333333333333|\n",
            "+-------+-----------------+\n",
            "\n"
          ],
          "name": "stdout"
        }
      ]
    },
    {
      "cell_type": "code",
      "metadata": {
        "id": "cMza7D7UTxJC",
        "colab": {
          "base_uri": "https://localhost:8080/"
        },
        "outputId": "7ec8f12e-3473-47b3-c5e8-b3f317b86eec"
      },
      "source": [
        "df.groupBy(\"company\").count().show()"
      ],
      "execution_count": null,
      "outputs": [
        {
          "output_type": "stream",
          "text": [
            "+-------+-----+\n",
            "|company|count|\n",
            "+-------+-----+\n",
            "|   BLAH|    4|\n",
            "|    XYZ|    3|\n",
            "|     OK|    2|\n",
            "|   ABCD|    3|\n",
            "+-------+-----+\n",
            "\n"
          ],
          "name": "stdout"
        }
      ]
    },
    {
      "cell_type": "code",
      "metadata": {
        "id": "6DexQqbPT-QJ",
        "colab": {
          "base_uri": "https://localhost:8080/"
        },
        "outputId": "7613bb8c-ff7b-4291-f8c7-7c75f38a8b95"
      },
      "source": [
        "df.groupBy(\"company\").min().show()"
      ],
      "execution_count": null,
      "outputs": [
        {
          "output_type": "stream",
          "text": [
            "+-------+--------------+\n",
            "|company|min(num_sales)|\n",
            "+-------+--------------+\n",
            "|   BLAH|         130.0|\n",
            "|    XYZ|         120.0|\n",
            "|     OK|         350.0|\n",
            "|   ABCD|         124.0|\n",
            "+-------+--------------+\n",
            "\n"
          ],
          "name": "stdout"
        }
      ]
    },
    {
      "cell_type": "code",
      "metadata": {
        "id": "FrL9eCJxUGB4",
        "colab": {
          "base_uri": "https://localhost:8080/"
        },
        "outputId": "c31104dd-8972-483f-befa-9e4e547b8a73"
      },
      "source": [
        "df.groupBy(\"company\").max().show()"
      ],
      "execution_count": null,
      "outputs": [
        {
          "output_type": "stream",
          "text": [
            "+-------+--------------+\n",
            "|company|max(num_sales)|\n",
            "+-------+--------------+\n",
            "|   BLAH|         750.0|\n",
            "|    XYZ|         340.0|\n",
            "|     OK|         870.0|\n",
            "|   ABCD|         600.0|\n",
            "+-------+--------------+\n",
            "\n"
          ],
          "name": "stdout"
        }
      ]
    },
    {
      "cell_type": "code",
      "metadata": {
        "id": "QpSvlEHiUR2j",
        "colab": {
          "base_uri": "https://localhost:8080/"
        },
        "outputId": "803f7a8a-2291-4e77-d78a-c8670eb32c52"
      },
      "source": [
        "df.groupBy(\"company\").sum().show()"
      ],
      "execution_count": null,
      "outputs": [
        {
          "output_type": "stream",
          "text": [
            "+-------+--------------+\n",
            "|company|sum(num_sales)|\n",
            "+-------+--------------+\n",
            "|   BLAH|        1480.0|\n",
            "|    XYZ|         660.0|\n",
            "|     OK|        1220.0|\n",
            "|   ABCD|         967.0|\n",
            "+-------+--------------+\n",
            "\n"
          ],
          "name": "stdout"
        }
      ]
    },
    {
      "cell_type": "markdown",
      "metadata": {
        "id": "XpI9QvtJMQwW"
      },
      "source": [
        "## Aggregating\n",
        "\n",
        "- Not all methods need a groupby call, instead you can just call the generalized `.agg()` method, that will call the aggregate across all rows in the dataframe column specified. \n",
        "- It can take in arguments as a single column, or create multiple aggregate calls all at once using dictionary notation.\n"
      ]
    },
    {
      "cell_type": "code",
      "metadata": {
        "id": "2k-ZvnPvMgYr",
        "colab": {
          "base_uri": "https://localhost:8080/"
        },
        "outputId": "aee3d30f-d16b-4ca4-9fd7-9bebd0d40e51"
      },
      "source": [
        "df.agg({\"num_sales\":\"max\"}).show()"
      ],
      "execution_count": null,
      "outputs": [
        {
          "output_type": "stream",
          "text": [
            "+--------------+\n",
            "|max(num_sales)|\n",
            "+--------------+\n",
            "|         870.0|\n",
            "+--------------+\n",
            "\n"
          ],
          "name": "stdout"
        }
      ]
    },
    {
      "cell_type": "code",
      "metadata": {
        "id": "yLVEMczZU4TB",
        "colab": {
          "base_uri": "https://localhost:8080/"
        },
        "outputId": "4c0accc9-cdd4-4fc8-bfc5-4e342e78b0d7"
      },
      "source": [
        "df.groupBy(\"company\").agg({\"num_sales\":\"mean\"}).show()"
      ],
      "execution_count": null,
      "outputs": [
        {
          "output_type": "stream",
          "text": [
            "+-------+-----------------+\n",
            "|company|   avg(num_sales)|\n",
            "+-------+-----------------+\n",
            "|   BLAH|            370.0|\n",
            "|    XYZ|            220.0|\n",
            "|     OK|            610.0|\n",
            "|   ABCD|322.3333333333333|\n",
            "+-------+-----------------+\n",
            "\n"
          ],
          "name": "stdout"
        }
      ]
    },
    {
      "cell_type": "code",
      "metadata": {
        "id": "nmoEejcgVG53"
      },
      "source": [
        "company_groups = df.groupBy(\"company\")"
      ],
      "execution_count": null,
      "outputs": []
    },
    {
      "cell_type": "code",
      "metadata": {
        "id": "-BTEXsvJVMqM",
        "colab": {
          "base_uri": "https://localhost:8080/"
        },
        "outputId": "25eb0e08-c8b7-4b4a-8d90-56586451da5c"
      },
      "source": [
        "company_groups.min().show()"
      ],
      "execution_count": null,
      "outputs": [
        {
          "output_type": "stream",
          "text": [
            "+-------+--------------+\n",
            "|company|min(num_sales)|\n",
            "+-------+--------------+\n",
            "|   BLAH|         130.0|\n",
            "|    XYZ|         120.0|\n",
            "|     OK|         350.0|\n",
            "|   ABCD|         124.0|\n",
            "+-------+--------------+\n",
            "\n"
          ],
          "name": "stdout"
        }
      ]
    },
    {
      "cell_type": "markdown",
      "metadata": {
        "id": "66d1zN6iMj3V"
      },
      "source": [
        "## Functions\n",
        "There are a variety of functions you can import from pyspark.sql.functions."
      ]
    },
    {
      "cell_type": "code",
      "metadata": {
        "id": "Sf1hR0XMMnzS"
      },
      "source": [
        "from pyspark.sql.functions import countDistinct, avg, stddev"
      ],
      "execution_count": null,
      "outputs": []
    },
    {
      "cell_type": "code",
      "metadata": {
        "id": "Rx7Mt_rWMqiK",
        "colab": {
          "base_uri": "https://localhost:8080/"
        },
        "outputId": "856c9b0e-cbcc-4f23-8116-53652fcfb0af"
      },
      "source": [
        "df.select(countDistinct(\"num_sales\")).show()"
      ],
      "execution_count": null,
      "outputs": [
        {
          "output_type": "stream",
          "text": [
            "+-------------------------+\n",
            "|count(DISTINCT num_sales)|\n",
            "+-------------------------+\n",
            "|                       11|\n",
            "+-------------------------+\n",
            "\n"
          ],
          "name": "stdout"
        }
      ]
    },
    {
      "cell_type": "code",
      "metadata": {
        "id": "wTtgXIJMWWHq",
        "colab": {
          "base_uri": "https://localhost:8080/"
        },
        "outputId": "286edc8c-fc57-4385-c66c-8019fe78f79f"
      },
      "source": [
        "df.select(avg(\"num_sales\")).show()"
      ],
      "execution_count": null,
      "outputs": [
        {
          "output_type": "stream",
          "text": [
            "+-----------------+\n",
            "|   avg(num_sales)|\n",
            "+-----------------+\n",
            "|360.5833333333333|\n",
            "+-----------------+\n",
            "\n"
          ],
          "name": "stdout"
        }
      ]
    },
    {
      "cell_type": "code",
      "metadata": {
        "id": "kETF6uvgWd88",
        "colab": {
          "base_uri": "https://localhost:8080/"
        },
        "outputId": "a602f9b8-4d9e-4832-c3b9-ae3e66793d2a"
      },
      "source": [
        "df.select(stddev(\"num_sales\")).show()"
      ],
      "execution_count": null,
      "outputs": [
        {
          "output_type": "stream",
          "text": [
            "+----------------------+\n",
            "|stddev_samp(num_sales)|\n",
            "+----------------------+\n",
            "|    250.08742410799007|\n",
            "+----------------------+\n",
            "\n"
          ],
          "name": "stdout"
        }
      ]
    },
    {
      "cell_type": "markdown",
      "metadata": {
        "id": "wo2IWVdMMq0l"
      },
      "source": [
        "### Alias\n",
        "- To change the name, use the `.alias()` method for this:"
      ]
    },
    {
      "cell_type": "code",
      "metadata": {
        "id": "82U7lERVMytz",
        "colab": {
          "base_uri": "https://localhost:8080/"
        },
        "outputId": "12432dda-2766-49ae-89cd-7b329b6afbb8"
      },
      "source": [
        "df.select(countDistinct(\"num_sales\").alias(\"ANYTHING WE WANT\")).show()"
      ],
      "execution_count": null,
      "outputs": [
        {
          "output_type": "stream",
          "text": [
            "+----------------+\n",
            "|ANYTHING WE WANT|\n",
            "+----------------+\n",
            "|              11|\n",
            "+----------------+\n",
            "\n"
          ],
          "name": "stdout"
        }
      ]
    },
    {
      "cell_type": "code",
      "metadata": {
        "id": "Esxxvx7KWU9f"
      },
      "source": [
        ""
      ],
      "execution_count": null,
      "outputs": []
    },
    {
      "cell_type": "markdown",
      "metadata": {
        "id": "UJTrtVbiM1zj"
      },
      "source": [
        "### Precision\n",
        "- Use the `format_number` to change precision\n"
      ]
    },
    {
      "cell_type": "code",
      "metadata": {
        "id": "LqgFZW_0NA7N"
      },
      "source": [
        "from pyspark.sql.functions import format_number"
      ],
      "execution_count": null,
      "outputs": []
    },
    {
      "cell_type": "code",
      "metadata": {
        "id": "qSpARgeGWpCb"
      },
      "source": [
        "sales_std = df.select(stddev(\"num_sales\").alias(\"stddev\"))"
      ],
      "execution_count": null,
      "outputs": []
    },
    {
      "cell_type": "code",
      "metadata": {
        "id": "LMg4hJ-KW2IC",
        "colab": {
          "base_uri": "https://localhost:8080/"
        },
        "outputId": "ca5b2f70-2928-40d5-d2c7-d638f3ad77d5"
      },
      "source": [
        "sales_std.show()"
      ],
      "execution_count": null,
      "outputs": [
        {
          "output_type": "stream",
          "text": [
            "+------------------+\n",
            "|            stddev|\n",
            "+------------------+\n",
            "|250.08742410799007|\n",
            "+------------------+\n",
            "\n"
          ],
          "name": "stdout"
        }
      ]
    },
    {
      "cell_type": "code",
      "metadata": {
        "id": "jsk0g7wMW8NZ",
        "colab": {
          "base_uri": "https://localhost:8080/"
        },
        "outputId": "d0ddb3c9-5b6e-4b7c-d765-7f620087e4a0"
      },
      "source": [
        "sales_std.select(format_number(\"stddev\",2)).show()"
      ],
      "execution_count": null,
      "outputs": [
        {
          "output_type": "stream",
          "text": [
            "+------------------------+\n",
            "|format_number(stddev, 2)|\n",
            "+------------------------+\n",
            "|                  250.09|\n",
            "+------------------------+\n",
            "\n"
          ],
          "name": "stdout"
        }
      ]
    },
    {
      "cell_type": "markdown",
      "metadata": {
        "id": "gdg0Rk-pNB51"
      },
      "source": [
        "## Order By\n"
      ]
    },
    {
      "cell_type": "code",
      "metadata": {
        "id": "bI7g8LIfNFyE",
        "colab": {
          "base_uri": "https://localhost:8080/"
        },
        "outputId": "2d9f409b-4319-466f-87f0-3656691d7fbd"
      },
      "source": [
        "df.orderBy(\"num_sales\").show() # Ascending Order"
      ],
      "execution_count": null,
      "outputs": [
        {
          "output_type": "stream",
          "text": [
            "+-------+--------------+---------+\n",
            "|company|representative|num_sales|\n",
            "+-------+--------------+---------+\n",
            "|    XYZ|           Tom|    120.0|\n",
            "|   ABCD|           Amy|    124.0|\n",
            "|   BLAH|         Linda|    130.0|\n",
            "|    XYZ|           Bob|    200.0|\n",
            "|   ABCD|       Vanessa|    243.0|\n",
            "|   BLAH|          John|    250.0|\n",
            "|    XYZ|         Frank|    340.0|\n",
            "|     OK|         Sarah|    350.0|\n",
            "|   BLAH|         Chris|    350.0|\n",
            "|   ABCD|         Jerry|    600.0|\n",
            "|   BLAH|          Mike|    750.0|\n",
            "|     OK|          Carl|    870.0|\n",
            "+-------+--------------+---------+\n",
            "\n"
          ],
          "name": "stdout"
        }
      ]
    },
    {
      "cell_type": "code",
      "metadata": {
        "id": "t5utKqoxXPEl",
        "colab": {
          "base_uri": "https://localhost:8080/"
        },
        "outputId": "d683d0c2-11af-4f59-c614-8961cb73ab4b"
      },
      "source": [
        "df.orderBy(df['num_sales'].desc()).show()"
      ],
      "execution_count": null,
      "outputs": [
        {
          "output_type": "stream",
          "text": [
            "+-------+--------------+---------+\n",
            "|company|representative|num_sales|\n",
            "+-------+--------------+---------+\n",
            "|     OK|          Carl|    870.0|\n",
            "|   BLAH|          Mike|    750.0|\n",
            "|   ABCD|         Jerry|    600.0|\n",
            "|     OK|         Sarah|    350.0|\n",
            "|   BLAH|         Chris|    350.0|\n",
            "|    XYZ|         Frank|    340.0|\n",
            "|   BLAH|          John|    250.0|\n",
            "|   ABCD|       Vanessa|    243.0|\n",
            "|    XYZ|           Bob|    200.0|\n",
            "|   BLAH|         Linda|    130.0|\n",
            "|   ABCD|           Amy|    124.0|\n",
            "|    XYZ|           Tom|    120.0|\n",
            "+-------+--------------+---------+\n",
            "\n"
          ],
          "name": "stdout"
        }
      ]
    },
    {
      "cell_type": "code",
      "metadata": {
        "id": "ChHtoo9KXYQA"
      },
      "source": [
        ""
      ],
      "execution_count": null,
      "outputs": []
    },
    {
      "cell_type": "markdown",
      "metadata": {
        "id": "QFwrfNMXhGGQ"
      },
      "source": [
        "# Missing Data\n",
        "\n",
        "- Often data sources are incomplete\n",
        "- There are 3 options for filling in missing data:\n",
        "  1. Just keep the missing data points.\n",
        "  1. Drop them missing data points/row\n",
        "  1. Fill them in with some other value.\n",
        "\n",
        "## Keeping the missing data\n",
        "A few machine learning algorithms can easily deal with missing data, let's see what it looks like:"
      ]
    },
    {
      "cell_type": "code",
      "metadata": {
        "id": "rWe9t-XXiFTq"
      },
      "source": [
        "!curl https://raw.githubusercontent.com/markumreed/colab_pyspark/main/missing_data.csv >> missing_data.csv"
      ],
      "execution_count": null,
      "outputs": []
    },
    {
      "cell_type": "code",
      "metadata": {
        "id": "9DCCktgsjOPC"
      },
      "source": [
        "from pyspark.sql import SparkSession\n",
        "spark = SparkSession.builder.appName(\"missing_data\").getOrCreate()"
      ],
      "execution_count": null,
      "outputs": []
    },
    {
      "cell_type": "code",
      "metadata": {
        "id": "jY5afHKulmu4"
      },
      "source": [
        "df = spark.read.csv(\"missing_data.csv\", header=True, inferSchema=True)"
      ],
      "execution_count": null,
      "outputs": []
    },
    {
      "cell_type": "code",
      "metadata": {
        "id": "wq_9UowHlsDN",
        "colab": {
          "base_uri": "https://localhost:8080/"
        },
        "outputId": "afb30720-8bf6-45c1-f8c8-1c4d70b18292"
      },
      "source": [
        "df.show()"
      ],
      "execution_count": null,
      "outputs": [
        {
          "output_type": "stream",
          "text": [
            "+-----+-----+-----+\n",
            "|   id| name|sales|\n",
            "+-----+-----+-----+\n",
            "|id001|  Bob| null|\n",
            "|id002| null| null|\n",
            "|id003| null|585.0|\n",
            "|id004|Karen|404.0|\n",
            "+-----+-----+-----+\n",
            "\n"
          ],
          "name": "stdout"
        }
      ]
    },
    {
      "cell_type": "code",
      "metadata": {
        "id": "Z9bKgVZ0l6Dz",
        "colab": {
          "base_uri": "https://localhost:8080/"
        },
        "outputId": "cd98e05a-6669-4fc9-ae56-7f849d434880"
      },
      "source": [
        "df.printSchema()"
      ],
      "execution_count": null,
      "outputs": [
        {
          "output_type": "stream",
          "text": [
            "root\n",
            " |-- id: string (nullable = true)\n",
            " |-- name: string (nullable = true)\n",
            " |-- sales: double (nullable = true)\n",
            "\n"
          ],
          "name": "stdout"
        }
      ]
    },
    {
      "cell_type": "markdown",
      "metadata": {
        "id": "V94I3GA0iIr9"
      },
      "source": [
        "## Drop the missing data\n",
        "\n",
        "You can use the `.na` functions for missing data. The `drop` command has the following parameters:\n",
        "\n",
        "```df.na.drop(how='any', thresh=None, subset=None)```\n",
        "    \n",
        "    * param how: 'any' or 'all'.\n",
        "    \n",
        "        If 'any', drop a row if it contains any nulls.\n",
        "        If 'all', drop a row only if all its values are null.\n",
        "    \n",
        "    * param thresh: int, default None\n",
        "    \n",
        "        If specified, drop rows that have less than `thresh` non-null values.\n",
        "        This overwrites the `how` parameter.\n",
        "        \n",
        "    * param subset: \n",
        "        optional list of column names to consider.\n"
      ]
    },
    {
      "cell_type": "code",
      "metadata": {
        "colab": {
          "base_uri": "https://localhost:8080/"
        },
        "id": "IbOl5osTjg0W",
        "outputId": "7d56c455-fe0e-42d5-8dbf-66bdd44b108e"
      },
      "source": [
        "df.na.drop().show()"
      ],
      "execution_count": null,
      "outputs": [
        {
          "output_type": "stream",
          "text": [
            "+-----+-----+-----+\n",
            "|   id| name|sales|\n",
            "+-----+-----+-----+\n",
            "|id004|Karen|404.0|\n",
            "+-----+-----+-----+\n",
            "\n"
          ],
          "name": "stdout"
        }
      ]
    },
    {
      "cell_type": "code",
      "metadata": {
        "id": "LLL9RqF_mlwF",
        "colab": {
          "base_uri": "https://localhost:8080/"
        },
        "outputId": "285a3e35-3872-48e0-8004-c85699fe26d8"
      },
      "source": [
        "df.na.drop(thresh=2).show()"
      ],
      "execution_count": null,
      "outputs": [
        {
          "output_type": "stream",
          "text": [
            "+-----+-----+-----+\n",
            "|   id| name|sales|\n",
            "+-----+-----+-----+\n",
            "|id001|  Bob| null|\n",
            "|id003| null|585.0|\n",
            "|id004|Karen|404.0|\n",
            "+-----+-----+-----+\n",
            "\n"
          ],
          "name": "stdout"
        }
      ]
    },
    {
      "cell_type": "code",
      "metadata": {
        "id": "YMrnoSccm0YP",
        "colab": {
          "base_uri": "https://localhost:8080/"
        },
        "outputId": "33723070-38bb-4228-8508-f03acad3604c"
      },
      "source": [
        "df.na.drop(subset=['sales']).show()"
      ],
      "execution_count": null,
      "outputs": [
        {
          "output_type": "stream",
          "text": [
            "+-----+-----+-----+\n",
            "|   id| name|sales|\n",
            "+-----+-----+-----+\n",
            "|id003| null|585.0|\n",
            "|id004|Karen|404.0|\n",
            "+-----+-----+-----+\n",
            "\n"
          ],
          "name": "stdout"
        }
      ]
    },
    {
      "cell_type": "code",
      "metadata": {
        "id": "yvUXc4R0m_x6",
        "colab": {
          "base_uri": "https://localhost:8080/"
        },
        "outputId": "28af6c93-e5e0-4d91-dc17-ed144de54e84"
      },
      "source": [
        "df.na.drop(how='any').show()"
      ],
      "execution_count": null,
      "outputs": [
        {
          "output_type": "stream",
          "text": [
            "+-----+-----+-----+\n",
            "|   id| name|sales|\n",
            "+-----+-----+-----+\n",
            "|id004|Karen|404.0|\n",
            "+-----+-----+-----+\n",
            "\n"
          ],
          "name": "stdout"
        }
      ]
    },
    {
      "cell_type": "code",
      "metadata": {
        "id": "nzfmG7DmnJTt",
        "colab": {
          "base_uri": "https://localhost:8080/"
        },
        "outputId": "398ee716-40a2-4a9d-f1ac-2bde169d33fe"
      },
      "source": [
        "df.na.drop(how='all').show()"
      ],
      "execution_count": null,
      "outputs": [
        {
          "output_type": "stream",
          "text": [
            "+-----+-----+-----+\n",
            "|   id| name|sales|\n",
            "+-----+-----+-----+\n",
            "|id001|  Bob| null|\n",
            "|id002| null| null|\n",
            "|id003| null|585.0|\n",
            "|id004|Karen|404.0|\n",
            "+-----+-----+-----+\n",
            "\n"
          ],
          "name": "stdout"
        }
      ]
    },
    {
      "cell_type": "markdown",
      "metadata": {
        "id": "3kuY9DNajhIZ"
      },
      "source": [
        "## Fill the missing values\n",
        "\n",
        "We can also fill the missing values with new values. If you have multiple nulls across multiple data types, Spark is actually smart enough to match up the data types. For example:\n"
      ]
    },
    {
      "cell_type": "code",
      "metadata": {
        "colab": {
          "base_uri": "https://localhost:8080/"
        },
        "id": "Qkca01oTjjsk",
        "outputId": "e028f5c8-5caf-4164-ca18-34cee54c598e"
      },
      "source": [
        "df.na.fill('SOME VALUE').show()"
      ],
      "execution_count": null,
      "outputs": [
        {
          "output_type": "stream",
          "text": [
            "+-----+----------+-----+\n",
            "|   id|      name|sales|\n",
            "+-----+----------+-----+\n",
            "|id001|       Bob| null|\n",
            "|id002|SOME VALUE| null|\n",
            "|id003|SOME VALUE|585.0|\n",
            "|id004|     Karen|404.0|\n",
            "+-----+----------+-----+\n",
            "\n"
          ],
          "name": "stdout"
        }
      ]
    },
    {
      "cell_type": "code",
      "metadata": {
        "id": "1QTnHF7xneE4",
        "colab": {
          "base_uri": "https://localhost:8080/"
        },
        "outputId": "7ec72a8b-0760-4fba-9dcd-beddccf3261a"
      },
      "source": [
        "df.na.fill(999).show()"
      ],
      "execution_count": null,
      "outputs": [
        {
          "output_type": "stream",
          "text": [
            "+-----+-----+-----+\n",
            "|   id| name|sales|\n",
            "+-----+-----+-----+\n",
            "|id001|  Bob|999.0|\n",
            "|id002| null|999.0|\n",
            "|id003| null|585.0|\n",
            "|id004|Karen|404.0|\n",
            "+-----+-----+-----+\n",
            "\n"
          ],
          "name": "stdout"
        }
      ]
    },
    {
      "cell_type": "code",
      "metadata": {
        "id": "xj56GgkAnk14",
        "colab": {
          "base_uri": "https://localhost:8080/"
        },
        "outputId": "fd6d1434-cd51-4ffe-b094-62d2524bbbad"
      },
      "source": [
        "df.na.fill(\"Missing Name\", subset=[\"name\"]).show()"
      ],
      "execution_count": null,
      "outputs": [
        {
          "output_type": "stream",
          "text": [
            "+-----+------------+-----+\n",
            "|   id|        name|sales|\n",
            "+-----+------------+-----+\n",
            "|id001|         Bob| null|\n",
            "|id002|Missing Name| null|\n",
            "|id003|Missing Name|585.0|\n",
            "|id004|       Karen|404.0|\n",
            "+-----+------------+-----+\n",
            "\n"
          ],
          "name": "stdout"
        }
      ]
    },
    {
      "cell_type": "code",
      "metadata": {
        "id": "Vsmlb7Yvn59E"
      },
      "source": [
        "from pyspark.sql.functions import mean"
      ],
      "execution_count": null,
      "outputs": []
    },
    {
      "cell_type": "code",
      "metadata": {
        "id": "9FjhZLrloAsz"
      },
      "source": [
        "mean_value = df.select(mean(df['sales'])).collect()"
      ],
      "execution_count": null,
      "outputs": []
    },
    {
      "cell_type": "code",
      "metadata": {
        "id": "WqFzudpCoG1q"
      },
      "source": [
        "mean_sales_value = mean_value[0][0]"
      ],
      "execution_count": null,
      "outputs": []
    },
    {
      "cell_type": "code",
      "metadata": {
        "id": "_YLJpDMhoIv1",
        "colab": {
          "base_uri": "https://localhost:8080/"
        },
        "outputId": "69183dd9-faa3-4322-d33c-89d3b5cafd71"
      },
      "source": [
        "df.na.fill(mean_sales_value, [\"sales\"]).show()"
      ],
      "execution_count": null,
      "outputs": [
        {
          "output_type": "stream",
          "text": [
            "+-----+-----+-----+\n",
            "|   id| name|sales|\n",
            "+-----+-----+-----+\n",
            "|id001|  Bob|494.5|\n",
            "|id002| null|494.5|\n",
            "|id003| null|585.0|\n",
            "|id004|Karen|404.0|\n",
            "+-----+-----+-----+\n",
            "\n"
          ],
          "name": "stdout"
        }
      ]
    },
    {
      "cell_type": "code",
      "metadata": {
        "id": "2lZ8Y0ziodT_",
        "colab": {
          "base_uri": "https://localhost:8080/"
        },
        "outputId": "59eadfd6-de0b-4c1d-9a4a-c2859f278f11"
      },
      "source": [
        "# DON'T DO THIS\n",
        "df.na.fill(df.select(mean(df['sales'])).collect()[0][0] ,['sales']).show() # NOT EASY TO READ"
      ],
      "execution_count": null,
      "outputs": [
        {
          "output_type": "stream",
          "text": [
            "+-----+-----+-----+\n",
            "|   id| name|sales|\n",
            "+-----+-----+-----+\n",
            "|id001|  Bob|494.5|\n",
            "|id002| null|494.5|\n",
            "|id003| null|585.0|\n",
            "|id004|Karen|404.0|\n",
            "+-----+-----+-----+\n",
            "\n"
          ],
          "name": "stdout"
        }
      ]
    },
    {
      "cell_type": "markdown",
      "metadata": {
        "id": "d5uWGuqMjkBq"
      },
      "source": [
        "# Dates and Timestamps\n",
        "\n",
        "You will often find yourself working with Time and Date information\n"
      ]
    },
    {
      "cell_type": "code",
      "metadata": {
        "colab": {
          "base_uri": "https://localhost:8080/"
        },
        "id": "7Hobk2LFjpDG",
        "outputId": "c92fbffb-88f9-4448-a510-50d18f6d37f2"
      },
      "source": [
        "!curl https://raw.githubusercontent.com/markumreed/colab_pyspark/main/WMT.csv >> WMT.csv"
      ],
      "execution_count": null,
      "outputs": [
        {
          "output_type": "stream",
          "text": [
            "  % Total    % Received % Xferd  Average Speed   Time    Time     Time  Current\n",
            "                                 Dload  Upload   Total   Spent    Left  Speed\n",
            "100 89556  100 89556    0     0   352k      0 --:--:-- --:--:-- --:--:--  351k\n"
          ],
          "name": "stdout"
        }
      ]
    },
    {
      "cell_type": "code",
      "metadata": {
        "id": "Lrdxm8U4jtMB"
      },
      "source": [
        "spark = SparkSession.builder.appName('walmart_dates').getOrCreate()"
      ],
      "execution_count": null,
      "outputs": []
    },
    {
      "cell_type": "code",
      "metadata": {
        "id": "Lj3S5esdo3e2"
      },
      "source": [
        "df = spark.read.csv('WMT.csv', header=True, inferSchema=True)"
      ],
      "execution_count": null,
      "outputs": []
    },
    {
      "cell_type": "code",
      "metadata": {
        "id": "DNCOshFHo9Ks",
        "colab": {
          "base_uri": "https://localhost:8080/"
        },
        "outputId": "ef55fdbc-8f0e-403a-def2-d4c9b4b9be56"
      },
      "source": [
        "df.show()"
      ],
      "execution_count": null,
      "outputs": [
        {
          "output_type": "stream",
          "text": [
            "+----------+---------+---------+---------+---------+---------+--------+\n",
            "|      Date|     Open|     High|      Low|    Close|Adj Close|  Volume|\n",
            "+----------+---------+---------+---------+---------+---------+--------+\n",
            "|2016-01-20|61.799999|62.330002|60.200001|    60.84|53.990601|17369100|\n",
            "|2016-01-21|    60.98|62.790001|    60.91|61.880001|54.913509|12089200|\n",
            "|2016-01-22|62.439999|63.259998|62.130001|62.689999|55.632324| 9197500|\n",
            "|2016-01-25|62.779999|    63.82|62.549999|63.450001|56.306763|12823400|\n",
            "|2016-01-26|63.360001|64.470001|63.259998|     64.0|56.794834| 9441200|\n",
            "|2016-01-27|64.099998|    65.18|63.889999|63.950001|56.750477|10214300|\n",
            "|2016-01-28|64.029999|64.510002|    63.43|64.220001| 56.99007|11278300|\n",
            "|2016-01-29|    64.75|66.529999|64.739998|66.360001|58.889149|16439100|\n",
            "|2016-02-01|65.910004|    67.93|65.889999|     67.5| 59.90081|14728400|\n",
            "|2016-02-02|67.300003|67.839996|66.279999|66.860001|59.332867|13585900|\n",
            "|2016-02-03|67.309998|     67.5|    65.07|66.269997| 58.80928|12315600|\n",
            "|2016-02-04|65.760002|66.550003|65.010002|66.419998| 58.94239|12833400|\n",
            "|2016-02-05|66.860001|67.529999|65.879997|     67.0|  59.4571|14196500|\n",
            "|2016-02-08|     66.5|67.150002|65.160004|66.900002|59.368362|20743600|\n",
            "|2016-02-09|65.489998|66.410004|    64.68|65.809998|58.401058|14642400|\n",
            "|2016-02-10|66.190002|66.589996|65.650002|65.790001| 58.38332| 9709300|\n",
            "|2016-02-11|65.019997|65.760002|64.779999|    65.32|57.966228|11186700|\n",
            "|2016-02-12|65.519997|    66.25|64.870003|    66.18|58.729424| 9695500|\n",
            "|2016-02-16|66.610001|66.800003|     65.5|65.900002|58.480934|11360500|\n",
            "|2016-02-17|66.099998|66.610001|65.809998|66.110001|58.667301|12426700|\n",
            "+----------+---------+---------+---------+---------+---------+--------+\n",
            "only showing top 20 rows\n",
            "\n"
          ],
          "name": "stdout"
        }
      ]
    },
    {
      "cell_type": "code",
      "metadata": {
        "id": "p_8FAcLko93g"
      },
      "source": [
        "from pyspark.sql.functions import format_number, dayofmonth, hour, dayofyear, month, year, weekofyear, date_format"
      ],
      "execution_count": null,
      "outputs": []
    },
    {
      "cell_type": "code",
      "metadata": {
        "id": "f8ol3wSepN12",
        "colab": {
          "base_uri": "https://localhost:8080/"
        },
        "outputId": "6adc1d4c-f595-49a6-cb75-56add912f4cd"
      },
      "source": [
        "df.select(dayofmonth(df['Date'])).show()"
      ],
      "execution_count": null,
      "outputs": [
        {
          "output_type": "stream",
          "text": [
            "+----------------+\n",
            "|dayofmonth(Date)|\n",
            "+----------------+\n",
            "|              20|\n",
            "|              21|\n",
            "|              22|\n",
            "|              25|\n",
            "|              26|\n",
            "|              27|\n",
            "|              28|\n",
            "|              29|\n",
            "|               1|\n",
            "|               2|\n",
            "|               3|\n",
            "|               4|\n",
            "|               5|\n",
            "|               8|\n",
            "|               9|\n",
            "|              10|\n",
            "|              11|\n",
            "|              12|\n",
            "|              16|\n",
            "|              17|\n",
            "+----------------+\n",
            "only showing top 20 rows\n",
            "\n"
          ],
          "name": "stdout"
        }
      ]
    },
    {
      "cell_type": "code",
      "metadata": {
        "id": "OfZvFRfopUUI",
        "colab": {
          "base_uri": "https://localhost:8080/"
        },
        "outputId": "bb4eacf8-0614-41af-a8e3-48340ae07d94"
      },
      "source": [
        "df.select(hour(df['Date'])).show()"
      ],
      "execution_count": null,
      "outputs": [
        {
          "output_type": "stream",
          "text": [
            "+----------+\n",
            "|hour(Date)|\n",
            "+----------+\n",
            "|         0|\n",
            "|         0|\n",
            "|         0|\n",
            "|         0|\n",
            "|         0|\n",
            "|         0|\n",
            "|         0|\n",
            "|         0|\n",
            "|         0|\n",
            "|         0|\n",
            "|         0|\n",
            "|         0|\n",
            "|         0|\n",
            "|         0|\n",
            "|         0|\n",
            "|         0|\n",
            "|         0|\n",
            "|         0|\n",
            "|         0|\n",
            "|         0|\n",
            "+----------+\n",
            "only showing top 20 rows\n",
            "\n"
          ],
          "name": "stdout"
        }
      ]
    },
    {
      "cell_type": "code",
      "metadata": {
        "id": "nZW7mEdVpjPH",
        "colab": {
          "base_uri": "https://localhost:8080/"
        },
        "outputId": "24fc981c-40cc-4a31-c51f-7c1cae438ad3"
      },
      "source": [
        "df.select(dayofyear(df['Date'])).show()"
      ],
      "execution_count": null,
      "outputs": [
        {
          "output_type": "stream",
          "text": [
            "+---------------+\n",
            "|dayofyear(Date)|\n",
            "+---------------+\n",
            "|             20|\n",
            "|             21|\n",
            "|             22|\n",
            "|             25|\n",
            "|             26|\n",
            "|             27|\n",
            "|             28|\n",
            "|             29|\n",
            "|             32|\n",
            "|             33|\n",
            "|             34|\n",
            "|             35|\n",
            "|             36|\n",
            "|             39|\n",
            "|             40|\n",
            "|             41|\n",
            "|             42|\n",
            "|             43|\n",
            "|             47|\n",
            "|             48|\n",
            "+---------------+\n",
            "only showing top 20 rows\n",
            "\n"
          ],
          "name": "stdout"
        }
      ]
    },
    {
      "cell_type": "code",
      "metadata": {
        "id": "nPb4Vf0Ipt3M",
        "colab": {
          "base_uri": "https://localhost:8080/"
        },
        "outputId": "88e45090-a2ba-42eb-8659-e8d12ae0325d"
      },
      "source": [
        "df.select(month(df['Date'])).show()"
      ],
      "execution_count": null,
      "outputs": [
        {
          "output_type": "stream",
          "text": [
            "+-----------+\n",
            "|month(Date)|\n",
            "+-----------+\n",
            "|          1|\n",
            "|          1|\n",
            "|          1|\n",
            "|          1|\n",
            "|          1|\n",
            "|          1|\n",
            "|          1|\n",
            "|          1|\n",
            "|          2|\n",
            "|          2|\n",
            "|          2|\n",
            "|          2|\n",
            "|          2|\n",
            "|          2|\n",
            "|          2|\n",
            "|          2|\n",
            "|          2|\n",
            "|          2|\n",
            "|          2|\n",
            "|          2|\n",
            "+-----------+\n",
            "only showing top 20 rows\n",
            "\n"
          ],
          "name": "stdout"
        }
      ]
    },
    {
      "cell_type": "markdown",
      "metadata": {
        "id": "1yI_Xo8ZqEya"
      },
      "source": [
        "Find Avg Close Price per month."
      ]
    },
    {
      "cell_type": "code",
      "metadata": {
        "id": "p2buRuZup2Qt",
        "colab": {
          "base_uri": "https://localhost:8080/"
        },
        "outputId": "3f863575-6cef-4d76-bdd7-50c75d6f883a"
      },
      "source": [
        "df.select(month(df['Date'])).show()"
      ],
      "execution_count": null,
      "outputs": [
        {
          "output_type": "stream",
          "text": [
            "+-----------+\n",
            "|month(Date)|\n",
            "+-----------+\n",
            "|          1|\n",
            "|          1|\n",
            "|          1|\n",
            "|          1|\n",
            "|          1|\n",
            "|          1|\n",
            "|          1|\n",
            "|          1|\n",
            "|          2|\n",
            "|          2|\n",
            "|          2|\n",
            "|          2|\n",
            "|          2|\n",
            "|          2|\n",
            "|          2|\n",
            "|          2|\n",
            "|          2|\n",
            "|          2|\n",
            "|          2|\n",
            "|          2|\n",
            "+-----------+\n",
            "only showing top 20 rows\n",
            "\n"
          ],
          "name": "stdout"
        }
      ]
    },
    {
      "cell_type": "code",
      "metadata": {
        "id": "Br9nY4VVqABE",
        "colab": {
          "base_uri": "https://localhost:8080/"
        },
        "outputId": "0728a5e9-8e74-4d1f-e075-b74a15c30644"
      },
      "source": [
        "df.withColumn(\"Month\", month(df['Date'])).show()"
      ],
      "execution_count": null,
      "outputs": [
        {
          "output_type": "stream",
          "text": [
            "+----------+---------+---------+---------+---------+---------+--------+-----+\n",
            "|      Date|     Open|     High|      Low|    Close|Adj Close|  Volume|Month|\n",
            "+----------+---------+---------+---------+---------+---------+--------+-----+\n",
            "|2016-01-20|61.799999|62.330002|60.200001|    60.84|53.990601|17369100|    1|\n",
            "|2016-01-21|    60.98|62.790001|    60.91|61.880001|54.913509|12089200|    1|\n",
            "|2016-01-22|62.439999|63.259998|62.130001|62.689999|55.632324| 9197500|    1|\n",
            "|2016-01-25|62.779999|    63.82|62.549999|63.450001|56.306763|12823400|    1|\n",
            "|2016-01-26|63.360001|64.470001|63.259998|     64.0|56.794834| 9441200|    1|\n",
            "|2016-01-27|64.099998|    65.18|63.889999|63.950001|56.750477|10214300|    1|\n",
            "|2016-01-28|64.029999|64.510002|    63.43|64.220001| 56.99007|11278300|    1|\n",
            "|2016-01-29|    64.75|66.529999|64.739998|66.360001|58.889149|16439100|    1|\n",
            "|2016-02-01|65.910004|    67.93|65.889999|     67.5| 59.90081|14728400|    2|\n",
            "|2016-02-02|67.300003|67.839996|66.279999|66.860001|59.332867|13585900|    2|\n",
            "|2016-02-03|67.309998|     67.5|    65.07|66.269997| 58.80928|12315600|    2|\n",
            "|2016-02-04|65.760002|66.550003|65.010002|66.419998| 58.94239|12833400|    2|\n",
            "|2016-02-05|66.860001|67.529999|65.879997|     67.0|  59.4571|14196500|    2|\n",
            "|2016-02-08|     66.5|67.150002|65.160004|66.900002|59.368362|20743600|    2|\n",
            "|2016-02-09|65.489998|66.410004|    64.68|65.809998|58.401058|14642400|    2|\n",
            "|2016-02-10|66.190002|66.589996|65.650002|65.790001| 58.38332| 9709300|    2|\n",
            "|2016-02-11|65.019997|65.760002|64.779999|    65.32|57.966228|11186700|    2|\n",
            "|2016-02-12|65.519997|    66.25|64.870003|    66.18|58.729424| 9695500|    2|\n",
            "|2016-02-16|66.610001|66.800003|     65.5|65.900002|58.480934|11360500|    2|\n",
            "|2016-02-17|66.099998|66.610001|65.809998|66.110001|58.667301|12426700|    2|\n",
            "+----------+---------+---------+---------+---------+---------+--------+-----+\n",
            "only showing top 20 rows\n",
            "\n"
          ],
          "name": "stdout"
        }
      ]
    },
    {
      "cell_type": "code",
      "metadata": {
        "id": "3_DA8yroqRZD"
      },
      "source": [
        "df2 = df.withColumn(\"Month\", month(df['Date']))"
      ],
      "execution_count": null,
      "outputs": []
    },
    {
      "cell_type": "code",
      "metadata": {
        "id": "aVXTu-UCqWu6",
        "colab": {
          "base_uri": "https://localhost:8080/"
        },
        "outputId": "ea305093-a5a9-4d26-8a01-92813340ae40"
      },
      "source": [
        "df2.groupBy(\"Month\").mean()[['avg(Month)', 'avg(Close)']].show()"
      ],
      "execution_count": null,
      "outputs": [
        {
          "output_type": "stream",
          "text": [
            "+----------+------------------+\n",
            "|avg(Month)|        avg(Close)|\n",
            "+----------+------------------+\n",
            "|      12.0|106.02932022330099|\n",
            "|       1.0| 98.94980368627448|\n",
            "|       6.0|  92.2302801401869|\n",
            "|       3.0| 87.44880724770645|\n",
            "|       5.0| 90.54859816822429|\n",
            "|       9.0|100.69396066336634|\n",
            "|       4.0| 91.55893247572816|\n",
            "|       8.0| 96.97705391071432|\n",
            "|       7.0| 96.65647596190469|\n",
            "|      10.0|102.74810810810811|\n",
            "|      11.0|105.59009729126215|\n",
            "|       2.0| 89.16364570833336|\n",
            "+----------+------------------+\n",
            "\n"
          ],
          "name": "stdout"
        }
      ]
    },
    {
      "cell_type": "code",
      "metadata": {
        "id": "aEtqZO-uqkQ-",
        "colab": {
          "base_uri": "https://localhost:8080/"
        },
        "outputId": "4122f5a6-d477-4ef0-c308-a23676e568b9"
      },
      "source": [
        "res = df2.groupBy(\"Month\").mean()[['avg(Month)', 'avg(Close)']]\n",
        "res = res.withColumnRenamed(\"avg(Month)\", \"Month\")\n",
        "res = res.select(\"Month\", format_number('avg(Close)',2).alias(\"Mean Close\")).show()"
      ],
      "execution_count": null,
      "outputs": [
        {
          "output_type": "stream",
          "text": [
            "+-----+----------+\n",
            "|Month|Mean Close|\n",
            "+-----+----------+\n",
            "| 12.0|    106.03|\n",
            "|  1.0|     98.95|\n",
            "|  6.0|     92.23|\n",
            "|  3.0|     87.45|\n",
            "|  5.0|     90.55|\n",
            "|  9.0|    100.69|\n",
            "|  4.0|     91.56|\n",
            "|  8.0|     96.98|\n",
            "|  7.0|     96.66|\n",
            "| 10.0|    102.75|\n",
            "| 11.0|    105.59|\n",
            "|  2.0|     89.16|\n",
            "+-----+----------+\n",
            "\n"
          ],
          "name": "stdout"
        }
      ]
    },
    {
      "cell_type": "markdown",
      "metadata": {
        "id": "7ULQkBngS6gQ"
      },
      "source": [
        "# Spark DataFrames Review"
      ]
    },
    {
      "cell_type": "code",
      "metadata": {
        "id": "iN0fU_G_q810"
      },
      "source": [
        "from pyspark.sql import SparkSession\n",
        "spark = SparkSession.builder.appName(\"walmart_stock\").getOrCreate()"
      ],
      "execution_count": null,
      "outputs": []
    },
    {
      "cell_type": "code",
      "metadata": {
        "id": "UVgziEhLVRAP"
      },
      "source": [
        "df = spark.read.csv(\"walmart_stock.csv\", header=True, inferSchema=True)"
      ],
      "execution_count": null,
      "outputs": []
    },
    {
      "cell_type": "code",
      "metadata": {
        "colab": {
          "base_uri": "https://localhost:8080/"
        },
        "id": "f3A3xYKoVl2M",
        "outputId": "00809980-e744-4a0e-b11a-ca235b56bc7b"
      },
      "source": [
        "df.columns"
      ],
      "execution_count": null,
      "outputs": [
        {
          "output_type": "execute_result",
          "data": {
            "text/plain": [
              "['Date', 'Open', 'High', 'Low', 'Close', 'Volume', 'Adj Close']"
            ]
          },
          "metadata": {
            "tags": []
          },
          "execution_count": 8
        }
      ]
    },
    {
      "cell_type": "code",
      "metadata": {
        "colab": {
          "base_uri": "https://localhost:8080/"
        },
        "id": "mfYreoDWVpmq",
        "outputId": "beffa89c-676f-4f33-cecd-79f1395bebbc"
      },
      "source": [
        "df.printSchema()"
      ],
      "execution_count": null,
      "outputs": [
        {
          "output_type": "stream",
          "text": [
            "root\n",
            " |-- Date: string (nullable = true)\n",
            " |-- Open: double (nullable = true)\n",
            " |-- High: double (nullable = true)\n",
            " |-- Low: double (nullable = true)\n",
            " |-- Close: double (nullable = true)\n",
            " |-- Volume: integer (nullable = true)\n",
            " |-- Adj Close: double (nullable = true)\n",
            "\n"
          ],
          "name": "stdout"
        }
      ]
    },
    {
      "cell_type": "code",
      "metadata": {
        "colab": {
          "base_uri": "https://localhost:8080/"
        },
        "id": "nd7ISAq3Vv6G",
        "outputId": "20d73aaf-f3a9-4eef-ee9b-90e4880d7585"
      },
      "source": [
        "df.head(5)"
      ],
      "execution_count": null,
      "outputs": [
        {
          "output_type": "execute_result",
          "data": {
            "text/plain": [
              "[Row(Date='2012-01-03', Open=59.970001, High=61.060001, Low=59.869999, Close=60.330002, Volume=12668800, Adj Close=52.619234999999996),\n",
              " Row(Date='2012-01-04', Open=60.209998999999996, High=60.349998, Low=59.470001, Close=59.709998999999996, Volume=9593300, Adj Close=52.078475),\n",
              " Row(Date='2012-01-05', Open=59.349998, High=59.619999, Low=58.369999, Close=59.419998, Volume=12768200, Adj Close=51.825539),\n",
              " Row(Date='2012-01-06', Open=59.419998, High=59.450001, Low=58.869999, Close=59.0, Volume=8069400, Adj Close=51.45922),\n",
              " Row(Date='2012-01-09', Open=59.029999, High=59.549999, Low=58.919998, Close=59.18, Volume=6679300, Adj Close=51.616215000000004)]"
            ]
          },
          "metadata": {
            "tags": []
          },
          "execution_count": 12
        }
      ]
    },
    {
      "cell_type": "code",
      "metadata": {
        "colab": {
          "base_uri": "https://localhost:8080/"
        },
        "id": "EuCwBTbIV7nm",
        "outputId": "e1f21455-e611-47c7-c36d-195d6f59993b"
      },
      "source": [
        "df.describe().show()"
      ],
      "execution_count": null,
      "outputs": [
        {
          "output_type": "stream",
          "text": [
            "+-------+----------+------------------+-----------------+-----------------+-----------------+-----------------+-----------------+\n",
            "|summary|      Date|              Open|             High|              Low|            Close|           Volume|        Adj Close|\n",
            "+-------+----------+------------------+-----------------+-----------------+-----------------+-----------------+-----------------+\n",
            "|  count|      1258|              1258|             1258|             1258|             1258|             1258|             1258|\n",
            "|   mean|      null| 72.35785375357709|72.83938807631165| 71.9186009594594|72.38844998012726|8222093.481717011|67.23883848728146|\n",
            "| stddev|      null|  6.76809024470826|6.768186808159218|6.744075756255496|6.756859163732991|  4519780.8431556|6.722609449996857|\n",
            "|    min|2012-01-03|56.389998999999996|        57.060001|        56.299999|        56.419998|          2094900|        50.363689|\n",
            "|    max|2016-12-30|         90.800003|        90.970001|            89.25|        90.470001|         80898100|84.91421600000001|\n",
            "+-------+----------+------------------+-----------------+-----------------+-----------------+-----------------+-----------------+\n",
            "\n"
          ],
          "name": "stdout"
        }
      ]
    },
    {
      "cell_type": "code",
      "metadata": {
        "colab": {
          "base_uri": "https://localhost:8080/"
        },
        "id": "gInl6jFwWDQ4",
        "outputId": "7fc2a7dc-b596-4a6b-b155-bdfed4fcdf85"
      },
      "source": [
        "df.describe().printSchema()"
      ],
      "execution_count": null,
      "outputs": [
        {
          "output_type": "stream",
          "text": [
            "root\n",
            " |-- summary: string (nullable = true)\n",
            " |-- Date: string (nullable = true)\n",
            " |-- Open: string (nullable = true)\n",
            " |-- High: string (nullable = true)\n",
            " |-- Low: string (nullable = true)\n",
            " |-- Close: string (nullable = true)\n",
            " |-- Volume: string (nullable = true)\n",
            " |-- Adj Close: string (nullable = true)\n",
            "\n"
          ],
          "name": "stdout"
        }
      ]
    },
    {
      "cell_type": "code",
      "metadata": {
        "id": "8L558GrEWNKY"
      },
      "source": [
        "from pyspark.sql.functions import format_number"
      ],
      "execution_count": null,
      "outputs": []
    },
    {
      "cell_type": "code",
      "metadata": {
        "id": "2qtslK8fWVkl"
      },
      "source": [
        "res = df.describe()"
      ],
      "execution_count": null,
      "outputs": []
    },
    {
      "cell_type": "code",
      "metadata": {
        "colab": {
          "base_uri": "https://localhost:8080/"
        },
        "id": "nGNZVAseWjz7",
        "outputId": "1e78379e-3051-4e0c-fab0-33dcb05d3b93"
      },
      "source": [
        "df.describe().columns"
      ],
      "execution_count": null,
      "outputs": [
        {
          "output_type": "execute_result",
          "data": {
            "text/plain": [
              "['summary', 'Date', 'Open', 'High', 'Low', 'Close', 'Volume', 'Adj Close']"
            ]
          },
          "metadata": {
            "tags": []
          },
          "execution_count": 17
        }
      ]
    },
    {
      "cell_type": "code",
      "metadata": {
        "colab": {
          "base_uri": "https://localhost:8080/"
        },
        "id": "ivqX5xYAWaSm",
        "outputId": "cc7addc7-77f9-4839-e8b6-be3c09408fe9"
      },
      "source": [
        "res.select(res[\"summary\"],\n",
        "             format_number(res['Open'].cast('float'), 2).alias('Open'),\n",
        "             format_number(res['High'].cast('float'), 2).alias('High'),\n",
        "             format_number(res['Low'].cast('float'), 2).alias('Low'),\n",
        "             format_number(res['Close'].cast('float'), 2).alias('Close'),\n",
        "             res['Volume'] .cast('int').alias('Volume')\n",
        "             ).show()"
      ],
      "execution_count": null,
      "outputs": [
        {
          "output_type": "stream",
          "text": [
            "+-------+--------+--------+--------+--------+--------+\n",
            "|summary|    Open|    High|     Low|   Close|  Volume|\n",
            "+-------+--------+--------+--------+--------+--------+\n",
            "|  count|1,258.00|1,258.00|1,258.00|1,258.00|    1258|\n",
            "|   mean|   72.36|   72.84|   71.92|   72.39| 8222093|\n",
            "| stddev|    6.77|    6.77|    6.74|    6.76| 4519780|\n",
            "|    min|   56.39|   57.06|   56.30|   56.42| 2094900|\n",
            "|    max|   90.80|   90.97|   89.25|   90.47|80898100|\n",
            "+-------+--------+--------+--------+--------+--------+\n",
            "\n"
          ],
          "name": "stdout"
        }
      ]
    },
    {
      "cell_type": "code",
      "metadata": {
        "id": "HrvxJateXGK-"
      },
      "source": [
        "# High vs Volume\n",
        "df2 = df.withColumn(\"HV Ratio\", df['High']/df['Volume'])"
      ],
      "execution_count": null,
      "outputs": []
    },
    {
      "cell_type": "code",
      "metadata": {
        "colab": {
          "base_uri": "https://localhost:8080/"
        },
        "id": "HCuoYCD4XZus",
        "outputId": "a7175593-3f7e-448e-9356-eb5bd2cb08ac"
      },
      "source": [
        "df2.show()"
      ],
      "execution_count": null,
      "outputs": [
        {
          "output_type": "stream",
          "text": [
            "+----------+------------------+------------------+------------------+------------------+--------+------------------+--------------------+\n",
            "|      Date|              Open|              High|               Low|             Close|  Volume|         Adj Close|            HV Ratio|\n",
            "+----------+------------------+------------------+------------------+------------------+--------+------------------+--------------------+\n",
            "|2012-01-03|         59.970001|         61.060001|         59.869999|         60.330002|12668800|52.619234999999996|4.819714653321546E-6|\n",
            "|2012-01-04|60.209998999999996|         60.349998|         59.470001|59.709998999999996| 9593300|         52.078475|6.290848613094555E-6|\n",
            "|2012-01-05|         59.349998|         59.619999|         58.369999|         59.419998|12768200|         51.825539|4.669412994783916E-6|\n",
            "|2012-01-06|         59.419998|         59.450001|         58.869999|              59.0| 8069400|          51.45922|7.367338463826307E-6|\n",
            "|2012-01-09|         59.029999|         59.549999|         58.919998|             59.18| 6679300|51.616215000000004|8.915604778943901E-6|\n",
            "|2012-01-10|             59.43|59.709998999999996|             58.98|59.040001000000004| 6907300|         51.494109|8.644477436914568E-6|\n",
            "|2012-01-11|         59.060001|         59.529999|59.040001000000004|         59.400002| 6365600|         51.808098|9.351828421515645E-6|\n",
            "|2012-01-12|59.790001000000004|              60.0|         59.400002|              59.5| 7236400|51.895315999999994| 8.29141562102703E-6|\n",
            "|2012-01-13|             59.18|59.610001000000004|59.009997999999996|59.540001000000004| 7729300|51.930203999999996|7.712212102001476E-6|\n",
            "|2012-01-17|         59.869999|60.110001000000004|             59.52|         59.849998| 8500000|         52.200581|7.071764823529412E-6|\n",
            "|2012-01-18|59.790001000000004|         60.029999|         59.650002|60.009997999999996| 5911400|         52.340131|1.015495466386981E-5|\n",
            "|2012-01-19|             59.93|             60.73|             59.75|60.610001000000004| 9234600|         52.863447|6.576354146362592...|\n",
            "|2012-01-20|             60.75|             61.25|         60.669998|61.009997999999996|10378800|53.212320999999996| 5.90145296180676E-6|\n",
            "|2012-01-23|         60.810001|             60.98|60.509997999999996|             60.91| 7134100|         53.125104|8.547679455011844E-6|\n",
            "|2012-01-24|             60.75|              62.0|             60.75|61.389998999999996| 7362800| 53.54375400000001|8.420709512685392E-6|\n",
            "|2012-01-25|             61.18|61.610001000000004|61.040001000000004|         61.470001| 5915800| 53.61353100000001|1.041448341728929...|\n",
            "|2012-01-26|         61.799999|             61.84|             60.77|         60.970001| 7436200|         53.177436|8.316075414862431E-6|\n",
            "|2012-01-27|60.860001000000004|         61.119999|60.540001000000004|60.709998999999996| 6287300|         52.950665|9.721183814992126E-6|\n",
            "|2012-01-30|         60.470001|             61.32|         60.349998|         61.299999| 7636900|53.465256999999994|8.029436027707578E-6|\n",
            "|2012-01-31|         61.529999|             61.57|         60.580002|61.360001000000004| 9761500|53.517590000000006|6.307432259386365E-6|\n",
            "+----------+------------------+------------------+------------------+------------------+--------+------------------+--------------------+\n",
            "only showing top 20 rows\n",
            "\n"
          ],
          "name": "stdout"
        }
      ]
    },
    {
      "cell_type": "code",
      "metadata": {
        "colab": {
          "base_uri": "https://localhost:8080/"
        },
        "id": "jcOCPNaZXajw",
        "outputId": "38769fe6-7ac3-4735-cc35-f04fb9646e49"
      },
      "source": [
        "df2.select('HV Ratio').show()"
      ],
      "execution_count": null,
      "outputs": [
        {
          "output_type": "stream",
          "text": [
            "+--------------------+\n",
            "|            HV Ratio|\n",
            "+--------------------+\n",
            "|4.819714653321546E-6|\n",
            "|6.290848613094555E-6|\n",
            "|4.669412994783916E-6|\n",
            "|7.367338463826307E-6|\n",
            "|8.915604778943901E-6|\n",
            "|8.644477436914568E-6|\n",
            "|9.351828421515645E-6|\n",
            "| 8.29141562102703E-6|\n",
            "|7.712212102001476E-6|\n",
            "|7.071764823529412E-6|\n",
            "|1.015495466386981E-5|\n",
            "|6.576354146362592...|\n",
            "| 5.90145296180676E-6|\n",
            "|8.547679455011844E-6|\n",
            "|8.420709512685392E-6|\n",
            "|1.041448341728929...|\n",
            "|8.316075414862431E-6|\n",
            "|9.721183814992126E-6|\n",
            "|8.029436027707578E-6|\n",
            "|6.307432259386365E-6|\n",
            "+--------------------+\n",
            "only showing top 20 rows\n",
            "\n"
          ],
          "name": "stdout"
        }
      ]
    },
    {
      "cell_type": "code",
      "metadata": {
        "colab": {
          "base_uri": "https://localhost:8080/",
          "height": 37
        },
        "id": "D7ordPbjXhfx",
        "outputId": "c02f1fd5-04a6-4224-e24a-3974f1529d41"
      },
      "source": [
        "df.orderBy(df['High'].desc()).head(1)[0][0]"
      ],
      "execution_count": null,
      "outputs": [
        {
          "output_type": "execute_result",
          "data": {
            "application/vnd.google.colaboratory.intrinsic+json": {
              "type": "string"
            },
            "text/plain": [
              "'2015-01-13'"
            ]
          },
          "metadata": {
            "tags": []
          },
          "execution_count": 22
        }
      ]
    },
    {
      "cell_type": "code",
      "metadata": {
        "colab": {
          "base_uri": "https://localhost:8080/"
        },
        "id": "7ljoBGJJXssF",
        "outputId": "065bba7b-6cb1-4f98-f254-5f457a395e3b"
      },
      "source": [
        "from pyspark.sql.functions import mean\n",
        "df.select(mean('Close')).show()"
      ],
      "execution_count": null,
      "outputs": [
        {
          "output_type": "stream",
          "text": [
            "+-----------------+\n",
            "|       avg(Close)|\n",
            "+-----------------+\n",
            "|72.38844998012726|\n",
            "+-----------------+\n",
            "\n"
          ],
          "name": "stdout"
        }
      ]
    },
    {
      "cell_type": "code",
      "metadata": {
        "id": "hsAdLi1CX2ZQ"
      },
      "source": [
        "from pyspark.sql.functions import max, min"
      ],
      "execution_count": null,
      "outputs": []
    },
    {
      "cell_type": "code",
      "metadata": {
        "colab": {
          "base_uri": "https://localhost:8080/"
        },
        "id": "tzRB1VF1YAet",
        "outputId": "a271e80d-ec9f-4296-ac5f-966caaf1a66d"
      },
      "source": [
        "df.select(max('Volume'), min('Volume')).show()"
      ],
      "execution_count": null,
      "outputs": [
        {
          "output_type": "stream",
          "text": [
            "+-----------+-----------+\n",
            "|max(Volume)|min(Volume)|\n",
            "+-----------+-----------+\n",
            "|   80898100|    2094900|\n",
            "+-----------+-----------+\n",
            "\n"
          ],
          "name": "stdout"
        }
      ]
    },
    {
      "cell_type": "code",
      "metadata": {
        "colab": {
          "base_uri": "https://localhost:8080/"
        },
        "id": "6TGenn_5YEwO",
        "outputId": "55e16423-183e-4300-9bb6-ef92e62a3e9b"
      },
      "source": [
        "df.filter(\"Close < 60\").count()"
      ],
      "execution_count": null,
      "outputs": [
        {
          "output_type": "execute_result",
          "data": {
            "text/plain": [
              "81"
            ]
          },
          "metadata": {
            "tags": []
          },
          "execution_count": 26
        }
      ]
    },
    {
      "cell_type": "code",
      "metadata": {
        "id": "QH34sAmsYRYc"
      },
      "source": [
        "from pyspark.sql.functions import count"
      ],
      "execution_count": null,
      "outputs": []
    },
    {
      "cell_type": "code",
      "metadata": {
        "colab": {
          "base_uri": "https://localhost:8080/"
        },
        "id": "_UGRdhhkYa23",
        "outputId": "9aa22121-5117-4a61-cc73-9463b65ec76d"
      },
      "source": [
        "res = df.filter('Close < 60')\n",
        "res.select(count('Close')).show()"
      ],
      "execution_count": null,
      "outputs": [
        {
          "output_type": "stream",
          "text": [
            "+------------+\n",
            "|count(Close)|\n",
            "+------------+\n",
            "|          81|\n",
            "+------------+\n",
            "\n"
          ],
          "name": "stdout"
        }
      ]
    },
    {
      "cell_type": "code",
      "metadata": {
        "colab": {
          "base_uri": "https://localhost:8080/"
        },
        "id": "s93rgt_vYj0P",
        "outputId": "f852411e-5a67-422f-8e1b-c1142d4d7423"
      },
      "source": [
        "(df.filter('High > 80').count() * 1.0/df.count()) * 100"
      ],
      "execution_count": null,
      "outputs": [
        {
          "output_type": "execute_result",
          "data": {
            "text/plain": [
              "9.141494435612083"
            ]
          },
          "metadata": {
            "tags": []
          },
          "execution_count": 30
        }
      ]
    },
    {
      "cell_type": "code",
      "metadata": {
        "id": "aYOFUjt_Y0tz"
      },
      "source": [
        "from pyspark.sql.functions import corr"
      ],
      "execution_count": null,
      "outputs": []
    },
    {
      "cell_type": "code",
      "metadata": {
        "colab": {
          "base_uri": "https://localhost:8080/"
        },
        "id": "3iWVCxWyY-kp",
        "outputId": "fd16e890-e288-4e92-c8f3-78843c89e44a"
      },
      "source": [
        "df.select(corr('High', 'Volume')).show()"
      ],
      "execution_count": null,
      "outputs": [
        {
          "output_type": "stream",
          "text": [
            "+-------------------+\n",
            "| corr(High, Volume)|\n",
            "+-------------------+\n",
            "|-0.3384326061737161|\n",
            "+-------------------+\n",
            "\n"
          ],
          "name": "stdout"
        }
      ]
    },
    {
      "cell_type": "code",
      "metadata": {
        "id": "Z9tZFmHSZCUw"
      },
      "source": [
        "from pyspark.sql.functions import year\n",
        "yeardf = df.withColumn(\"Year\", year(df['Date']))"
      ],
      "execution_count": null,
      "outputs": []
    },
    {
      "cell_type": "code",
      "metadata": {
        "id": "IOz73y1YZMQX"
      },
      "source": [
        "max_df = yeardf.groupBy('Year').max()"
      ],
      "execution_count": null,
      "outputs": []
    },
    {
      "cell_type": "code",
      "metadata": {
        "colab": {
          "base_uri": "https://localhost:8080/"
        },
        "id": "fk1itiSsZPmo",
        "outputId": "5de10268-bdfe-4e55-e480-3bf98c576b94"
      },
      "source": [
        "max_df.select('Year', 'max(High)').show()"
      ],
      "execution_count": null,
      "outputs": [
        {
          "output_type": "stream",
          "text": [
            "+----+---------+\n",
            "|Year|max(High)|\n",
            "+----+---------+\n",
            "|2015|90.970001|\n",
            "|2013|81.370003|\n",
            "|2014|88.089996|\n",
            "|2012|77.599998|\n",
            "|2016|75.190002|\n",
            "+----+---------+\n",
            "\n"
          ],
          "name": "stdout"
        }
      ]
    },
    {
      "cell_type": "code",
      "metadata": {
        "colab": {
          "base_uri": "https://localhost:8080/"
        },
        "id": "YpoJjT01ZXJV",
        "outputId": "130a9b7f-f962-40d7-c840-2680dacb1f29"
      },
      "source": [
        "max_df.show()"
      ],
      "execution_count": null,
      "outputs": [
        {
          "output_type": "stream",
          "text": [
            "+----+-----------------+---------+---------+----------+-----------+-----------------+---------+\n",
            "|Year|        max(Open)|max(High)| max(Low)|max(Close)|max(Volume)|   max(Adj Close)|max(Year)|\n",
            "+----+-----------------+---------+---------+----------+-----------+-----------------+---------+\n",
            "|2015|        90.800003|90.970001|    89.25| 90.470001|   80898100|84.91421600000001|     2015|\n",
            "|2013|        81.209999|81.370003|    80.82| 81.209999|   25683700|        73.929868|     2013|\n",
            "|2014|87.08000200000001|88.089996|86.480003| 87.540001|   22812400|81.70768000000001|     2014|\n",
            "|2012|        77.599998|77.599998|76.690002| 77.150002|   38007300|        68.568371|     2012|\n",
            "|2016|             74.5|75.190002|73.629997| 74.300003|   35076700|        73.233524|     2016|\n",
            "+----+-----------------+---------+---------+----------+-----------+-----------------+---------+\n",
            "\n"
          ],
          "name": "stdout"
        }
      ]
    },
    {
      "cell_type": "code",
      "metadata": {
        "id": "v00PH2pPZUCV"
      },
      "source": [
        "from pyspark.sql.functions import month"
      ],
      "execution_count": null,
      "outputs": []
    },
    {
      "cell_type": "code",
      "metadata": {
        "colab": {
          "base_uri": "https://localhost:8080/"
        },
        "id": "fIkbBH2AZjW1",
        "outputId": "a5ceae70-8687-4f05-ba1e-9a1288cba6ac"
      },
      "source": [
        "monthdf = df.withColumn(\"Month\", month(\"Date\"))\n",
        "monthavgs = monthdf.select(\"Month\", \"Close\").groupBy(\"Month\").mean()\n",
        "monthavgs.select(\"Month\", \"avg(Close)\").orderBy('Month').show()"
      ],
      "execution_count": null,
      "outputs": [
        {
          "output_type": "stream",
          "text": [
            "+-----+-----------------+\n",
            "|Month|       avg(Close)|\n",
            "+-----+-----------------+\n",
            "|    1|71.44801958415842|\n",
            "|    2|  71.306804443299|\n",
            "|    3|71.77794377570092|\n",
            "|    4|72.97361900952382|\n",
            "|    5|72.30971688679247|\n",
            "|    6| 72.4953774245283|\n",
            "|    7|74.43971943925233|\n",
            "|    8|73.02981855454546|\n",
            "|    9|72.18411785294116|\n",
            "|   10|71.57854545454543|\n",
            "|   11| 72.1110893069307|\n",
            "|   12|72.84792478301885|\n",
            "+-----+-----------------+\n",
            "\n"
          ],
          "name": "stdout"
        }
      ]
    },
    {
      "cell_type": "markdown",
      "metadata": {
        "id": "IC86E9Pxexxx"
      },
      "source": [
        "## Spark DataFrame Review 02\n"
      ]
    },
    {
      "cell_type": "code",
      "metadata": {
        "colab": {
          "base_uri": "https://localhost:8080/"
        },
        "id": "2rEWIh-iZyrq",
        "outputId": "d369d810-3a82-4dc9-84bf-267c1a939c36"
      },
      "source": [
        "!curl https://raw.githubusercontent.com/markumreed/colab_pyspark/main/appl_stock.csv >> apple_stock.csv"
      ],
      "execution_count": null,
      "outputs": [
        {
          "output_type": "stream",
          "text": [
            "  % Total    % Received % Xferd  Average Speed   Time    Time     Time  Current\n",
            "                                 Dload  Upload   Total   Spent    Left  Speed\n",
            "\r  0     0    0     0    0     0      0      0 --:--:-- --:--:-- --:--:--     0\r  5  139k    5  7753    0     0  53102      0  0:00:02 --:--:--  0:00:02 52741\r100  139k  100  139k    0     0   817k      0 --:--:-- --:--:-- --:--:--  817k\n"
          ],
          "name": "stdout"
        }
      ]
    },
    {
      "cell_type": "markdown",
      "metadata": {
        "id": "ZrAk7sPLk-j0"
      },
      "source": [
        "# Linear Regression with PySpark\n",
        "\n",
        "- Based on the Official Spark Documentation for PySpark"
      ]
    },
    {
      "cell_type": "code",
      "metadata": {
        "id": "PL8ktnqOlLdq",
        "colab": {
          "base_uri": "https://localhost:8080/"
        },
        "outputId": "784a7ad6-4809-484f-ca9f-a82c4c7e910d"
      },
      "source": [
        "!curl https://raw.githubusercontent.com/apache/spark/master/data/mllib/sample_linear_regression_data.txt >> sample_linear_regression_data.txt"
      ],
      "execution_count": null,
      "outputs": [
        {
          "output_type": "stream",
          "text": [
            "  % Total    % Received % Xferd  Average Speed   Time    Time     Time  Current\n",
            "                                 Dload  Upload   Total   Spent    Left  Speed\n",
            "\r  0     0    0     0    0     0      0      0 --:--:-- --:--:-- --:--:--     0\r100  116k  100  116k    0     0  1306k      0 --:--:-- --:--:-- --:--:-- 1306k\n"
          ],
          "name": "stdout"
        }
      ]
    },
    {
      "cell_type": "code",
      "metadata": {
        "id": "miWKcrd3lOWY"
      },
      "source": [
        "from pyspark.sql import SparkSession"
      ],
      "execution_count": null,
      "outputs": []
    },
    {
      "cell_type": "code",
      "metadata": {
        "id": "gvtcbtg5p-p4"
      },
      "source": [
        "spark = SparkSession.builder.appName(\"lr_ex\").getOrCreate()"
      ],
      "execution_count": null,
      "outputs": []
    },
    {
      "cell_type": "code",
      "metadata": {
        "id": "d1ELzedBqDvq"
      },
      "source": [
        "from pyspark.ml.regression import LinearRegression"
      ],
      "execution_count": null,
      "outputs": []
    },
    {
      "cell_type": "code",
      "metadata": {
        "id": "OKoAoMQ-qNaP"
      },
      "source": [
        "training = spark.read.format(\"libsvm\").load(\"sample_linear_regression_data.txt\")"
      ],
      "execution_count": null,
      "outputs": []
    },
    {
      "cell_type": "code",
      "metadata": {
        "id": "fdcehtq3qZRb",
        "colab": {
          "base_uri": "https://localhost:8080/"
        },
        "outputId": "6aa8d5e2-bfbd-41d5-8d9a-05c0d559b617"
      },
      "source": [
        "training.show()"
      ],
      "execution_count": null,
      "outputs": [
        {
          "output_type": "stream",
          "text": [
            "+-------------------+--------------------+\n",
            "|              label|            features|\n",
            "+-------------------+--------------------+\n",
            "| -9.490009878824548|(10,[0,1,2,3,4,5,...|\n",
            "| 0.2577820163584905|(10,[0,1,2,3,4,5,...|\n",
            "| -4.438869807456516|(10,[0,1,2,3,4,5,...|\n",
            "|-19.782762789614537|(10,[0,1,2,3,4,5,...|\n",
            "| -7.966593841555266|(10,[0,1,2,3,4,5,...|\n",
            "| -7.896274316726144|(10,[0,1,2,3,4,5,...|\n",
            "| -8.464803554195287|(10,[0,1,2,3,4,5,...|\n",
            "| 2.1214592666251364|(10,[0,1,2,3,4,5,...|\n",
            "| 1.0720117616524107|(10,[0,1,2,3,4,5,...|\n",
            "|-13.772441561702871|(10,[0,1,2,3,4,5,...|\n",
            "| -5.082010756207233|(10,[0,1,2,3,4,5,...|\n",
            "|  7.887786536531237|(10,[0,1,2,3,4,5,...|\n",
            "| 14.323146365332388|(10,[0,1,2,3,4,5,...|\n",
            "|-20.057482615789212|(10,[0,1,2,3,4,5,...|\n",
            "|-0.8995693247765151|(10,[0,1,2,3,4,5,...|\n",
            "| -19.16829262296376|(10,[0,1,2,3,4,5,...|\n",
            "|  5.601801561245534|(10,[0,1,2,3,4,5,...|\n",
            "|-3.2256352187273354|(10,[0,1,2,3,4,5,...|\n",
            "| 1.5299675726687754|(10,[0,1,2,3,4,5,...|\n",
            "| -0.250102447941961|(10,[0,1,2,3,4,5,...|\n",
            "+-------------------+--------------------+\n",
            "only showing top 20 rows\n",
            "\n"
          ],
          "name": "stdout"
        }
      ]
    },
    {
      "cell_type": "code",
      "metadata": {
        "id": "YA7YUGcAsfcv"
      },
      "source": [
        "lr = LinearRegression(featuresCol=\"features\", labelCol=\"label\", predictionCol=\"prediction\")"
      ],
      "execution_count": null,
      "outputs": []
    },
    {
      "cell_type": "code",
      "metadata": {
        "id": "p-zKzjihtcFJ"
      },
      "source": [
        "lrModel = lr.fit(training)"
      ],
      "execution_count": null,
      "outputs": []
    },
    {
      "cell_type": "code",
      "metadata": {
        "id": "sICq8WhitijH",
        "colab": {
          "base_uri": "https://localhost:8080/"
        },
        "outputId": "d7732b24-a53f-4275-af8f-53c87d1eccc4"
      },
      "source": [
        "print(\"Coefficients:\", str(lrModel.coefficients))\n",
        "print(\"Intercept:\", str(lrModel.intercept))"
      ],
      "execution_count": null,
      "outputs": [
        {
          "output_type": "stream",
          "text": [
            "Coefficients: [0.0073350710225801715,0.8313757584337543,-0.8095307954684084,2.441191686884721,0.5191713795290003,1.1534591903547016,-0.2989124112808717,-0.5128514186201779,-0.619712827067017,0.6956151804322931]\n",
            "Intercept: 0.14228558260358093\n"
          ],
          "name": "stdout"
        }
      ]
    },
    {
      "cell_type": "code",
      "metadata": {
        "id": "3IP5jAbNtoen"
      },
      "source": [
        "trainSummary = lrModel.summary"
      ],
      "execution_count": null,
      "outputs": []
    },
    {
      "cell_type": "code",
      "metadata": {
        "id": "l0W4dfOkt9jU",
        "colab": {
          "base_uri": "https://localhost:8080/"
        },
        "outputId": "0b2767c2-ef09-4912-c9c9-80893a227543"
      },
      "source": [
        "print(\"MAE: \", trainSummary.meanAbsoluteError)\n",
        "print(\"MSE: \", trainSummary.meanSquaredError)\n",
        "print(\"RMSE: \", trainSummary.rootMeanSquaredError)\n",
        "print(\"R2: \", trainSummary.r2)\n",
        "print(\"Adj R2: \", trainSummary.r2adj)\n"
      ],
      "execution_count": null,
      "outputs": [
        {
          "output_type": "stream",
          "text": [
            "MAE:  8.145215527783876\n",
            "MSE:  103.28843028724194\n",
            "RMSE:  10.16309157133015\n",
            "R2:  0.027839179518600154\n",
            "Adj R2:  0.007999162774081858\n"
          ],
          "name": "stdout"
        }
      ]
    },
    {
      "cell_type": "markdown",
      "metadata": {
        "id": "Sp1AL6xSutsF"
      },
      "source": [
        "## Train Test Split with PySpark\n",
        "- Pass in the split between training/test as a list.\n",
        "-  No correct, but generally 70/30 or 60/40 splits are used.\n",
        "-  Depending on how much data you have and how unbalanced it is."
      ]
    },
    {
      "cell_type": "code",
      "metadata": {
        "id": "-y9VxsAwt-2e"
      },
      "source": [
        "df = spark.read.format(\"libsvm\").load(\"sample_linear_regression_data.txt\") # FULL DATASET"
      ],
      "execution_count": null,
      "outputs": []
    },
    {
      "cell_type": "code",
      "metadata": {
        "id": "n05TTVsHu126"
      },
      "source": [
        "train_data, test_data = df.randomSplit([0.7, 0.3], seed=42)"
      ],
      "execution_count": null,
      "outputs": []
    },
    {
      "cell_type": "code",
      "metadata": {
        "id": "aviUru8PvOr9",
        "colab": {
          "base_uri": "https://localhost:8080/"
        },
        "outputId": "2d45b9b3-75d8-4bf8-a06c-9e4c4833b9ed"
      },
      "source": [
        "test_data.show()"
      ],
      "execution_count": null,
      "outputs": [
        {
          "output_type": "stream",
          "text": [
            "+-------------------+--------------------+\n",
            "|              label|            features|\n",
            "+-------------------+--------------------+\n",
            "|-26.805483428483072|(10,[0,1,2,3,4,5,...|\n",
            "|-22.949825936196074|(10,[0,1,2,3,4,5,...|\n",
            "|-21.432387764165806|(10,[0,1,2,3,4,5,...|\n",
            "|-20.212077258958672|(10,[0,1,2,3,4,5,...|\n",
            "|-19.782762789614537|(10,[0,1,2,3,4,5,...|\n",
            "| -19.66731861537172|(10,[0,1,2,3,4,5,...|\n",
            "|-19.402336030214553|(10,[0,1,2,3,4,5,...|\n",
            "|-17.803626188664516|(10,[0,1,2,3,4,5,...|\n",
            "|-17.428674570939506|(10,[0,1,2,3,4,5,...|\n",
            "|-17.065399625876015|(10,[0,1,2,3,4,5,...|\n",
            "|-17.026492264209548|(10,[0,1,2,3,4,5,...|\n",
            "|-16.151349351277112|(10,[0,1,2,3,4,5,...|\n",
            "| -16.08565904102149|(10,[0,1,2,3,4,5,...|\n",
            "|-15.951512565794573|(10,[0,1,2,3,4,5,...|\n",
            "|-15.780685032623301|(10,[0,1,2,3,4,5,...|\n",
            "| -15.72351561304857|(10,[0,1,2,3,4,5,...|\n",
            "|-15.437384793431217|(10,[0,1,2,3,4,5,...|\n",
            "|-15.334767479922341|(10,[0,1,2,3,4,5,...|\n",
            "|-14.822152909751189|(10,[0,1,2,3,4,5,...|\n",
            "|-14.762758252931127|(10,[0,1,2,3,4,5,...|\n",
            "+-------------------+--------------------+\n",
            "only showing top 20 rows\n",
            "\n"
          ],
          "name": "stdout"
        }
      ]
    },
    {
      "cell_type": "code",
      "metadata": {
        "id": "ebuDxrJdvRgo"
      },
      "source": [
        "unlabeled_data = test_data.select('features')"
      ],
      "execution_count": null,
      "outputs": []
    },
    {
      "cell_type": "code",
      "metadata": {
        "id": "K9_g2ezgvhBP"
      },
      "source": [
        "corrected_model = lr.fit(train_data) "
      ],
      "execution_count": null,
      "outputs": []
    },
    {
      "cell_type": "code",
      "metadata": {
        "id": "Su2Dxthbv4H2"
      },
      "source": [
        "res = corrected_model.evaluate(test_data)"
      ],
      "execution_count": null,
      "outputs": []
    },
    {
      "cell_type": "code",
      "metadata": {
        "id": "T6G06ARSv-YR",
        "colab": {
          "base_uri": "https://localhost:8080/"
        },
        "outputId": "9e6f2370-613a-46f7-cafd-b64c9de811af"
      },
      "source": [
        "print(\"MAE: \", res.meanAbsoluteError)\n",
        "print(\"MSE: \", res.meanSquaredError)\n",
        "print(\"RMSE: \", res.rootMeanSquaredError)\n",
        "print(\"R2: \", res.r2)\n",
        "print(\"Adj R2: \", res.r2adj)"
      ],
      "execution_count": null,
      "outputs": [
        {
          "output_type": "stream",
          "text": [
            "MAE:  9.855750048378727\n",
            "MSE:  142.31866794563598\n",
            "RMSE:  11.929738804585622\n",
            "R2:  -0.14679155085585793\n",
            "Adj R2:  -0.24651255527810645\n"
          ],
          "name": "stdout"
        }
      ]
    },
    {
      "cell_type": "code",
      "metadata": {
        "id": "0n9IDCFzwHZs"
      },
      "source": [
        "predictions = corrected_model.transform(unlabeled_data)"
      ],
      "execution_count": null,
      "outputs": []
    },
    {
      "cell_type": "code",
      "metadata": {
        "id": "EISzcJmXwV_-",
        "colab": {
          "base_uri": "https://localhost:8080/"
        },
        "outputId": "f2f1ef4a-1338-481d-e1d5-b570a0751b8a"
      },
      "source": [
        "predictions.show()"
      ],
      "execution_count": null,
      "outputs": [
        {
          "output_type": "stream",
          "text": [
            "+--------------------+--------------------+\n",
            "|            features|          prediction|\n",
            "+--------------------+--------------------+\n",
            "|(10,[0,1,2,3,4,5,...|   1.500419302439231|\n",
            "|(10,[0,1,2,3,4,5,...|   6.540721556576252|\n",
            "|(10,[0,1,2,3,4,5,...|  1.4369775273526635|\n",
            "|(10,[0,1,2,3,4,5,...|  1.3156052948594428|\n",
            "|(10,[0,1,2,3,4,5,...|-0.09510236182489817|\n",
            "|(10,[0,1,2,3,4,5,...| 0.12648407749270263|\n",
            "|(10,[0,1,2,3,4,5,...|-0.40745999229762575|\n",
            "|(10,[0,1,2,3,4,5,...| -1.3827504557268635|\n",
            "|(10,[0,1,2,3,4,5,...|  2.6965070486236957|\n",
            "|(10,[0,1,2,3,4,5,...|    2.42284270742401|\n",
            "|(10,[0,1,2,3,4,5,...|-0.33620505674116263|\n",
            "|(10,[0,1,2,3,4,5,...|  1.5811910073932323|\n",
            "|(10,[0,1,2,3,4,5,...| -0.9126865153126812|\n",
            "|(10,[0,1,2,3,4,5,...| -2.4337353560269603|\n",
            "|(10,[0,1,2,3,4,5,...|  4.7238640017384945|\n",
            "|(10,[0,1,2,3,4,5,...|  1.7972086764514907|\n",
            "|(10,[0,1,2,3,4,5,...| -0.3727532193177282|\n",
            "|(10,[0,1,2,3,4,5,...|   3.393593882956883|\n",
            "|(10,[0,1,2,3,4,5,...|   1.173823533651508|\n",
            "|(10,[0,1,2,3,4,5,...| 0.40092321249281315|\n",
            "+--------------------+--------------------+\n",
            "only showing top 20 rows\n",
            "\n"
          ],
          "name": "stdout"
        }
      ]
    },
    {
      "cell_type": "markdown",
      "metadata": {
        "id": "v6MakK4CSEzE"
      },
      "source": [
        "# Data Transformations with PySpark"
      ]
    },
    {
      "cell_type": "code",
      "metadata": {
        "id": "oYzt1CmgSkmK"
      },
      "source": [
        "from pyspark.sql import SparkSession\n",
        "spark = SparkSession.builder.appName('data_transformer').getOrCreate()"
      ],
      "execution_count": null,
      "outputs": []
    },
    {
      "cell_type": "code",
      "metadata": {
        "id": "7ohnaWgvY85U"
      },
      "source": [
        "df = spark.read.csv('customers.csv', inferSchema=True, header=True)"
      ],
      "execution_count": null,
      "outputs": []
    },
    {
      "cell_type": "code",
      "metadata": {
        "id": "dg1pPYweZKHU",
        "colab": {
          "base_uri": "https://localhost:8080/"
        },
        "outputId": "4cffdfb0-3dcf-42cf-f8a5-b97f520a2890"
      },
      "source": [
        "df.printSchema()"
      ],
      "execution_count": null,
      "outputs": [
        {
          "output_type": "stream",
          "text": [
            "root\n",
            " |-- Name: string (nullable = true)\n",
            " |-- Phone: long (nullable = true)\n",
            " |-- Group: string (nullable = true)\n",
            "\n"
          ],
          "name": "stdout"
        }
      ]
    },
    {
      "cell_type": "code",
      "metadata": {
        "id": "loVsNuacZMtD",
        "colab": {
          "base_uri": "https://localhost:8080/"
        },
        "outputId": "cf85eca0-49a0-4ca7-8bd8-6ab6f91c6748"
      },
      "source": [
        "df.show()"
      ],
      "execution_count": null,
      "outputs": [
        {
          "output_type": "stream",
          "text": [
            "+------+----------+-----+\n",
            "|  Name|     Phone|Group|\n",
            "+------+----------+-----+\n",
            "|  John|4085552424|    I|\n",
            "|  Mike|3105552738|   II|\n",
            "|Cassie|4085552424|   II|\n",
            "| Laura|3105552438|   II|\n",
            "| Sarah|4085551234|    I|\n",
            "| David|3105557463|  III|\n",
            "|  Zach|4085553987|  III|\n",
            "| Kiera|3105552938|    I|\n",
            "| Alexa|4085559467|  III|\n",
            "+------+----------+-----+\n",
            "\n"
          ],
          "name": "stdout"
        }
      ]
    },
    {
      "cell_type": "markdown",
      "metadata": {
        "id": "up11ZCXeVpLD"
      },
      "source": [
        "## Data Features\n",
        "### StringIndexer\n",
        "- Convert string data into numerical (categorical feature)\n",
        "- Encode as dummy variables/OneHotEncoder\n",
        "- `StringIndexer`"
      ]
    },
    {
      "cell_type": "code",
      "metadata": {
        "id": "lTx86qtuVyI2"
      },
      "source": [
        "from pyspark.ml.feature import StringIndexer\n",
        "\n",
        "df2 = spark.createDataFrame(\n",
        "    [(0,\"a\"), (1, \"b\"), (2, \"c\"), (3, \"a\"), (4, \"b\"), (5, \"c\")],\n",
        "    [\"user_id\", \"category\"]\n",
        ")"
      ],
      "execution_count": null,
      "outputs": []
    },
    {
      "cell_type": "code",
      "metadata": {
        "id": "R698LIYmZ5ig",
        "colab": {
          "base_uri": "https://localhost:8080/"
        },
        "outputId": "d8539347-9873-434d-ce62-18374f79f1e1"
      },
      "source": [
        "df2.show()"
      ],
      "execution_count": null,
      "outputs": [
        {
          "output_type": "stream",
          "text": [
            "+-------+--------+\n",
            "|user_id|category|\n",
            "+-------+--------+\n",
            "|      0|       a|\n",
            "|      1|       b|\n",
            "|      2|       c|\n",
            "|      3|       a|\n",
            "|      4|       b|\n",
            "|      5|       c|\n",
            "+-------+--------+\n",
            "\n"
          ],
          "name": "stdout"
        }
      ]
    },
    {
      "cell_type": "code",
      "metadata": {
        "id": "AB6edwjhaIWP"
      },
      "source": [
        "indexer = StringIndexer(inputCol=\"category\", outputCol=\"categoryIndex\")"
      ],
      "execution_count": null,
      "outputs": []
    },
    {
      "cell_type": "code",
      "metadata": {
        "id": "_0WiBd4KaYNW"
      },
      "source": [
        "indexed = indexer.fit(df2).transform(df2)"
      ],
      "execution_count": null,
      "outputs": []
    },
    {
      "cell_type": "code",
      "metadata": {
        "id": "WSvZEevjao_i",
        "colab": {
          "base_uri": "https://localhost:8080/"
        },
        "outputId": "982e205d-7aaf-4896-eb5e-f1acfe8c3ab6"
      },
      "source": [
        "indexed.show()"
      ],
      "execution_count": null,
      "outputs": [
        {
          "output_type": "stream",
          "text": [
            "+-------+--------+-------------+\n",
            "|user_id|category|categoryIndex|\n",
            "+-------+--------+-------------+\n",
            "|      0|       a|          0.0|\n",
            "|      1|       b|          1.0|\n",
            "|      2|       c|          2.0|\n",
            "|      3|       a|          0.0|\n",
            "|      4|       b|          1.0|\n",
            "|      5|       c|          2.0|\n",
            "+-------+--------+-------------+\n",
            "\n"
          ],
          "name": "stdout"
        }
      ]
    },
    {
      "cell_type": "markdown",
      "metadata": {
        "id": "tQWkMmz9V6qn"
      },
      "source": [
        "## VectorIndexer\n",
        "- **VectorAssembler** is a transformer that combines a given list of columns into a single vector column. \n",
        "- **VectorAssembler** accepts the following input column types: \n",
        "  - all numeric types, boolean type, and vector type.  \n",
        "\n",
        "---\n",
        "\n",
        "- Assume that we have a DataFrame with the columns id, hour, mobile, userFeatures, and clicked:\n",
        "\n",
        "id | hour | mobile | userFeatures     | clicked\n",
        "----|------|--------|------------------|---------\n",
        "0  | 18   | 1.0    | [0.0, 10.0, 0.5] | 1.0\n",
        "     \n",
        "- userFeatures is a vector column that contains three user features.  \n",
        "- After transformation we should get the following DataFrame:\n",
        "\n",
        "id | hour | mobile | userFeatures     | clicked | features\n",
        "----|------|--------|------------------|---------|-----------------------------\n",
        "0  | 18   | 1.0    | [0.0, 10.0, 0.5] | 1.0     | [18.0, 1.0, 0.0, 10.0, 0.5]"
      ]
    },
    {
      "cell_type": "code",
      "metadata": {
        "id": "R1aTeRAGWipt"
      },
      "source": [
        "from pyspark.ml.linalg import Vectors \n",
        "from pyspark.ml.feature import VectorAssembler"
      ],
      "execution_count": null,
      "outputs": []
    },
    {
      "cell_type": "code",
      "metadata": {
        "id": "fyBSoLYKbwBG",
        "colab": {
          "base_uri": "https://localhost:8080/"
        },
        "outputId": "96a74c0f-dde4-46e2-ffb5-ecbdec9c8ce0"
      },
      "source": [
        "df3 = spark.createDataFrame(\n",
        "    [(0, 18, 1.0, Vectors.dense([0.0, 10.0, 0.5]), 1.0)],\n",
        "    [\"id\", \"hour\", \"mobile\", \"userFeatures\", \"clicked\"]\n",
        ")\n",
        "df3.show()"
      ],
      "execution_count": null,
      "outputs": [
        {
          "output_type": "stream",
          "text": [
            "+---+----+------+--------------+-------+\n",
            "| id|hour|mobile|  userFeatures|clicked|\n",
            "+---+----+------+--------------+-------+\n",
            "|  0|  18|   1.0|[0.0,10.0,0.5]|    1.0|\n",
            "+---+----+------+--------------+-------+\n",
            "\n"
          ],
          "name": "stdout"
        }
      ]
    },
    {
      "cell_type": "code",
      "metadata": {
        "id": "l_cT_4yvcE5d"
      },
      "source": [
        "assembler = VectorAssembler(\n",
        "    inputCols = [\"hour\", \"mobile\", \"userFeatures\"],\n",
        "    outputCol = \"features\"\n",
        ")\n",
        "output = assembler.transform(df3)"
      ],
      "execution_count": null,
      "outputs": []
    },
    {
      "cell_type": "code",
      "metadata": {
        "id": "pMKqn4MLce0J",
        "colab": {
          "base_uri": "https://localhost:8080/"
        },
        "outputId": "8a8e9506-02b4-4b35-ef62-4bf482adc615"
      },
      "source": [
        "output.select(\"features\", \"clicked\").show()"
      ],
      "execution_count": null,
      "outputs": [
        {
          "output_type": "stream",
          "text": [
            "+--------------------+-------+\n",
            "|            features|clicked|\n",
            "+--------------------+-------+\n",
            "|[18.0,1.0,0.0,10....|    1.0|\n",
            "+--------------------+-------+\n",
            "\n"
          ],
          "name": "stdout"
        }
      ]
    },
    {
      "cell_type": "markdown",
      "metadata": {
        "id": "ZgB4TlC2ctKU"
      },
      "source": [
        "## Example with Customer Data"
      ]
    },
    {
      "cell_type": "code",
      "metadata": {
        "id": "nj46g5cScgqX",
        "colab": {
          "base_uri": "https://localhost:8080/"
        },
        "outputId": "d74a90f9-ec75-4afd-8db8-2af55d5d6ad1"
      },
      "source": [
        "df.show()"
      ],
      "execution_count": null,
      "outputs": [
        {
          "output_type": "stream",
          "text": [
            "+------+----------+-----+\n",
            "|  Name|     Phone|Group|\n",
            "+------+----------+-----+\n",
            "|  John|4085552424|    I|\n",
            "|  Mike|3105552738|   II|\n",
            "|Cassie|4085552424|   II|\n",
            "| Laura|3105552438|   II|\n",
            "| Sarah|4085551234|    I|\n",
            "| David|3105557463|  III|\n",
            "|  Zach|4085553987|  III|\n",
            "| Kiera|3105552938|    I|\n",
            "| Alexa|4085559467|  III|\n",
            "+------+----------+-----+\n",
            "\n"
          ],
          "name": "stdout"
        }
      ]
    },
    {
      "cell_type": "code",
      "metadata": {
        "id": "TLpXmv2Nc9yW",
        "colab": {
          "base_uri": "https://localhost:8080/"
        },
        "outputId": "1e34ff4a-8cc1-4649-f655-eb7ff9923169"
      },
      "source": [
        "indexer = StringIndexer(inputCol=\"Group\", outputCol=\"groupIndex\")\n",
        "indexed = indexer.fit(df).transform(df)\n",
        "indexed.show()"
      ],
      "execution_count": null,
      "outputs": [
        {
          "output_type": "stream",
          "text": [
            "+------+----------+-----+----------+\n",
            "|  Name|     Phone|Group|groupIndex|\n",
            "+------+----------+-----+----------+\n",
            "|  John|4085552424|    I|       0.0|\n",
            "|  Mike|3105552738|   II|       1.0|\n",
            "|Cassie|4085552424|   II|       1.0|\n",
            "| Laura|3105552438|   II|       1.0|\n",
            "| Sarah|4085551234|    I|       0.0|\n",
            "| David|3105557463|  III|       2.0|\n",
            "|  Zach|4085553987|  III|       2.0|\n",
            "| Kiera|3105552938|    I|       0.0|\n",
            "| Alexa|4085559467|  III|       2.0|\n",
            "+------+----------+-----+----------+\n",
            "\n"
          ],
          "name": "stdout"
        }
      ]
    },
    {
      "cell_type": "code",
      "metadata": {
        "id": "jOG2s-1-dIL0",
        "colab": {
          "base_uri": "https://localhost:8080/"
        },
        "outputId": "19cc271e-6240-4375-83c0-c1e08a3e50d4"
      },
      "source": [
        "assembler = VectorAssembler(\n",
        "    inputCols = [\"Phone\", \"groupIndex\"],\n",
        "    outputCol = \"features\"\n",
        ")\n",
        "output = assembler.transform(indexed)\n",
        "output.select(\"Name\", \"features\").show()"
      ],
      "execution_count": null,
      "outputs": [
        {
          "output_type": "stream",
          "text": [
            "+------+-------------------+\n",
            "|  Name|           features|\n",
            "+------+-------------------+\n",
            "|  John|[4.085552424E9,0.0]|\n",
            "|  Mike|[3.105552738E9,1.0]|\n",
            "|Cassie|[4.085552424E9,1.0]|\n",
            "| Laura|[3.105552438E9,1.0]|\n",
            "| Sarah|[4.085551234E9,0.0]|\n",
            "| David|[3.105557463E9,2.0]|\n",
            "|  Zach|[4.085553987E9,2.0]|\n",
            "| Kiera|[3.105552938E9,0.0]|\n",
            "| Alexa|[4.085559467E9,2.0]|\n",
            "+------+-------------------+\n",
            "\n"
          ],
          "name": "stdout"
        }
      ]
    },
    {
      "cell_type": "code",
      "metadata": {
        "id": "F3k2aCUkdUyq"
      },
      "source": [
        ""
      ],
      "execution_count": null,
      "outputs": []
    },
    {
      "cell_type": "markdown",
      "metadata": {
        "id": "HnjvJFrV-zIk"
      },
      "source": [
        "## Linear Regression with PySpark 2"
      ]
    },
    {
      "cell_type": "code",
      "metadata": {
        "id": "ilX6-se1-2RQ"
      },
      "source": [
        "from pyspark.sql import SparkSession"
      ],
      "execution_count": null,
      "outputs": []
    },
    {
      "cell_type": "code",
      "metadata": {
        "id": "45Hg0LCV-4fq"
      },
      "source": [
        "spark = SparkSession.builder.appName(\"lin_reg\").getOrCreate()"
      ],
      "execution_count": null,
      "outputs": []
    },
    {
      "cell_type": "code",
      "metadata": {
        "id": "xwGFIQnS-9Lq"
      },
      "source": [
        "df = spark.read.csv(\"Ecommerce_Customers.csv\", inferSchema=True, header=True)"
      ],
      "execution_count": null,
      "outputs": []
    },
    {
      "cell_type": "code",
      "metadata": {
        "id": "5-b3fIs4_Gxc",
        "colab": {
          "base_uri": "https://localhost:8080/"
        },
        "outputId": "bfc359bc-9e17-43c5-ce38-ddd6d6883571"
      },
      "source": [
        "df.printSchema()"
      ],
      "execution_count": null,
      "outputs": [
        {
          "output_type": "stream",
          "text": [
            "root\n",
            " |-- Email: string (nullable = true)\n",
            " |-- Address: string (nullable = true)\n",
            " |-- Avatar: string (nullable = true)\n",
            " |-- Avg Session Length: double (nullable = true)\n",
            " |-- Time on App: double (nullable = true)\n",
            " |-- Time on Website: double (nullable = true)\n",
            " |-- Length of Membership: double (nullable = true)\n",
            " |-- Yearly Amount Spent: double (nullable = true)\n",
            "\n"
          ],
          "name": "stdout"
        }
      ]
    },
    {
      "cell_type": "code",
      "metadata": {
        "id": "KB_QFnbv_J_-",
        "colab": {
          "base_uri": "https://localhost:8080/"
        },
        "outputId": "07ac3dbd-490d-4500-906b-2a88e1a9973b"
      },
      "source": [
        "df.show()"
      ],
      "execution_count": null,
      "outputs": [
        {
          "output_type": "stream",
          "text": [
            "+--------------------+--------------------+----------------+------------------+------------------+------------------+--------------------+-------------------+\n",
            "|               Email|             Address|          Avatar|Avg Session Length|       Time on App|   Time on Website|Length of Membership|Yearly Amount Spent|\n",
            "+--------------------+--------------------+----------------+------------------+------------------+------------------+--------------------+-------------------+\n",
            "|mstephenson@ferna...|835 Frank TunnelW...|          Violet| 34.49726772511229| 12.65565114916675| 39.57766801952616|  4.0826206329529615|  587.9510539684005|\n",
            "|   hduke@hotmail.com|4547 Archer Commo...|       DarkGreen| 31.92627202636016|11.109460728682564|37.268958868297744|    2.66403418213262|  392.2049334443264|\n",
            "|    pallen@yahoo.com|24645 Valerie Uni...|          Bisque|33.000914755642675|11.330278057777512|37.110597442120856|   4.104543202376424| 487.54750486747207|\n",
            "|riverarebecca@gma...|1414 David Throug...|     SaddleBrown| 34.30555662975554|13.717513665142507| 36.72128267790313|   3.120178782748092|  581.8523440352177|\n",
            "|mstephens@davidso...|14023 Rodriguez P...|MediumAquaMarine| 33.33067252364639|12.795188551078114| 37.53665330059473|   4.446308318351434|  599.4060920457634|\n",
            "|alvareznancy@luca...|645 Martha Park A...|     FloralWhite|33.871037879341976|12.026925339755056| 34.47687762925054|   5.493507201364199|   637.102447915074|\n",
            "|katherine20@yahoo...|68388 Reyes Light...|   DarkSlateBlue| 32.02159550138701|11.366348309710526| 36.68377615286961|   4.685017246570912|  521.5721747578274|\n",
            "|  awatkins@yahoo.com|Unit 6538 Box 898...|            Aqua|32.739142938380326| 12.35195897300293| 37.37335885854755|  4.4342734348999375|  549.9041461052942|\n",
            "|vchurch@walter-ma...|860 Lee KeyWest D...|          Salmon| 33.98777289568564|13.386235275676436|37.534497341555735|  3.2734335777477144|  570.2004089636196|\n",
            "|    bonnie69@lin.biz|PSC 2734, Box 525...|           Brown|31.936548618448917|11.814128294972196| 37.14516822352819|   3.202806071553459|  427.1993848953282|\n",
            "|andrew06@peterson...|26104 Alexander G...|          Tomato|33.992572774953736|13.338975447662113| 37.22580613162114|   2.482607770510596|  492.6060127179966|\n",
            "|ryanwerner@freema...|Unit 2413 Box 034...|          Tomato| 33.87936082480498|11.584782999535266| 37.08792607098381|    3.71320920294043|  522.3374046069357|\n",
            "|   knelson@gmail.com|6705 Miller Orcha...|       RoyalBlue|29.532428967057943|10.961298400154098| 37.42021557502538|   4.046423164299585|  408.6403510726275|\n",
            "|wrightpeter@yahoo...|05302 Dunlap Ferr...|          Bisque| 33.19033404372265|12.959226091609382|36.144666700041924|   3.918541839158999|  573.4158673313865|\n",
            "|taylormason@gmail...|7773 Powell Sprin...|        DarkBlue|32.387975853153876|13.148725692056516| 36.61995708279922|   2.494543646659249|  470.4527333009554|\n",
            "| jstark@anderson.com|49558 Ramirez Roa...|            Peru|30.737720372628182|12.636606052000127|36.213763093698624|  3.3578468423262944|  461.7807421962299|\n",
            "| wjennings@gmail.com|6362 Wilson Mount...|      PowderBlue| 32.12538689728784|11.733861690857394|  34.8940927514398|  3.1361327164897803| 457.84769594494855|\n",
            "|rebecca45@hale-ba...|8982 Burton RowWi...|       OliveDrab|32.338899323067196|12.013194694014402| 38.38513659413844|   2.420806160901484| 407.70454754954415|\n",
            "|alejandro75@hotma...|64475 Andre Club ...|            Cyan|32.187812045932155|  14.7153875441565| 38.24411459434352|   1.516575580831944|  452.3156754800354|\n",
            "|samuel46@love-wes...|544 Alexander Hei...|   LightSeaGreen| 32.61785606282345|13.989592555825254|37.190503800397956|   4.064548550437977|   605.061038804892|\n",
            "+--------------------+--------------------+----------------+------------------+------------------+------------------+--------------------+-------------------+\n",
            "only showing top 20 rows\n",
            "\n"
          ],
          "name": "stdout"
        }
      ]
    },
    {
      "cell_type": "code",
      "metadata": {
        "id": "0wvj5mAc_3Zc",
        "colab": {
          "base_uri": "https://localhost:8080/"
        },
        "outputId": "1e6c67bb-cbd9-4f78-dc33-ee00876a283c"
      },
      "source": [
        "df.head()"
      ],
      "execution_count": null,
      "outputs": [
        {
          "output_type": "execute_result",
          "data": {
            "text/plain": [
              "Row(Email='mstephenson@fernandez.com', Address='835 Frank TunnelWrightmouth, MI 82180-9605', Avatar='Violet', Avg Session Length=34.49726772511229, Time on App=12.65565114916675, Time on Website=39.57766801952616, Length of Membership=4.0826206329529615, Yearly Amount Spent=587.9510539684005)"
            ]
          },
          "metadata": {
            "tags": []
          },
          "execution_count": 15
        }
      ]
    },
    {
      "cell_type": "code",
      "metadata": {
        "id": "tfYqP_s7_6k5"
      },
      "source": [
        "from pyspark.ml.linalg import Vectors\n",
        "from pyspark.ml.feature import VectorAssembler"
      ],
      "execution_count": null,
      "outputs": []
    },
    {
      "cell_type": "code",
      "metadata": {
        "id": "Cm2cwwRcADyO",
        "colab": {
          "base_uri": "https://localhost:8080/"
        },
        "outputId": "de59dbc4-3875-4904-abd7-70b341ea7f2b"
      },
      "source": [
        "df.columns"
      ],
      "execution_count": null,
      "outputs": [
        {
          "output_type": "execute_result",
          "data": {
            "text/plain": [
              "['Email',\n",
              " 'Address',\n",
              " 'Avatar',\n",
              " 'Avg Session Length',\n",
              " 'Time on App',\n",
              " 'Time on Website',\n",
              " 'Length of Membership',\n",
              " 'Yearly Amount Spent']"
            ]
          },
          "metadata": {
            "tags": []
          },
          "execution_count": 17
        }
      ]
    },
    {
      "cell_type": "code",
      "metadata": {
        "id": "VdDcgXSgAEfj"
      },
      "source": [
        "assembler = VectorAssembler(inputCols=['Avg Session Length', 'Time on App',\n",
        "                                       'Time on Website','Length of Membership'],\n",
        "                            outputCol='features')"
      ],
      "execution_count": null,
      "outputs": []
    },
    {
      "cell_type": "code",
      "metadata": {
        "id": "EvX56r21ATEo"
      },
      "source": [
        "output = assembler.transform(df)"
      ],
      "execution_count": null,
      "outputs": []
    },
    {
      "cell_type": "code",
      "metadata": {
        "id": "bWwaB490AVFj",
        "colab": {
          "base_uri": "https://localhost:8080/"
        },
        "outputId": "4175f5a2-2221-49e4-f5fe-a7ebe0ae8493"
      },
      "source": [
        "output.select(\"features\").show()"
      ],
      "execution_count": null,
      "outputs": [
        {
          "output_type": "stream",
          "text": [
            "+--------------------+\n",
            "|            features|\n",
            "+--------------------+\n",
            "|[34.4972677251122...|\n",
            "|[31.9262720263601...|\n",
            "|[33.0009147556426...|\n",
            "|[34.3055566297555...|\n",
            "|[33.3306725236463...|\n",
            "|[33.8710378793419...|\n",
            "|[32.0215955013870...|\n",
            "|[32.7391429383803...|\n",
            "|[33.9877728956856...|\n",
            "|[31.9365486184489...|\n",
            "|[33.9925727749537...|\n",
            "|[33.8793608248049...|\n",
            "|[29.5324289670579...|\n",
            "|[33.1903340437226...|\n",
            "|[32.3879758531538...|\n",
            "|[30.7377203726281...|\n",
            "|[32.1253868972878...|\n",
            "|[32.3388993230671...|\n",
            "|[32.1878120459321...|\n",
            "|[32.6178560628234...|\n",
            "+--------------------+\n",
            "only showing top 20 rows\n",
            "\n"
          ],
          "name": "stdout"
        }
      ]
    },
    {
      "cell_type": "code",
      "metadata": {
        "id": "hY8E1x0FAYCD"
      },
      "source": [
        "final_data = output.select(\"features\", \"Yearly Amount Spent\")"
      ],
      "execution_count": null,
      "outputs": []
    },
    {
      "cell_type": "code",
      "metadata": {
        "id": "4VUDf8omAfU-"
      },
      "source": [
        "train_data, test_data = final_data.randomSplit([0.7, 0.3])"
      ],
      "execution_count": null,
      "outputs": []
    },
    {
      "cell_type": "code",
      "metadata": {
        "id": "BSuhK_i5AlE_",
        "colab": {
          "base_uri": "https://localhost:8080/"
        },
        "outputId": "dfef8343-903a-4400-e1d7-53abbac7235e"
      },
      "source": [
        "train_data.describe().show()"
      ],
      "execution_count": null,
      "outputs": [
        {
          "output_type": "stream",
          "text": [
            "+-------+-------------------+\n",
            "|summary|Yearly Amount Spent|\n",
            "+-------+-------------------+\n",
            "|  count|                362|\n",
            "|   mean|  501.1491393902461|\n",
            "| stddev|  77.10133843526118|\n",
            "|    min| 256.67058229005585|\n",
            "|    max|  744.2218671047146|\n",
            "+-------+-------------------+\n",
            "\n"
          ],
          "name": "stdout"
        }
      ]
    },
    {
      "cell_type": "code",
      "metadata": {
        "id": "CQbUF7s2Am7z",
        "colab": {
          "base_uri": "https://localhost:8080/"
        },
        "outputId": "1ec0320b-5f2d-457c-80df-9bf3dabfa017"
      },
      "source": [
        "test_data.describe().show()"
      ],
      "execution_count": null,
      "outputs": [
        {
          "output_type": "stream",
          "text": [
            "+-------+-------------------+\n",
            "|summary|Yearly Amount Spent|\n",
            "+-------+-------------------+\n",
            "|  count|                138|\n",
            "|   mean|   494.500222246567|\n",
            "| stddev|  84.95181183261874|\n",
            "|    min|   266.086340948469|\n",
            "|    max|  765.5184619388373|\n",
            "+-------+-------------------+\n",
            "\n"
          ],
          "name": "stdout"
        }
      ]
    },
    {
      "cell_type": "code",
      "metadata": {
        "id": "nao_FJx3ArMB"
      },
      "source": [
        "from pyspark.ml.regression import LinearRegression"
      ],
      "execution_count": null,
      "outputs": []
    },
    {
      "cell_type": "code",
      "metadata": {
        "id": "ONZq04cvA5So"
      },
      "source": [
        "lr = LinearRegression(labelCol='Yearly Amount Spent')"
      ],
      "execution_count": null,
      "outputs": []
    },
    {
      "cell_type": "code",
      "metadata": {
        "id": "ZRYrz9zKA8yc"
      },
      "source": [
        "model = lr.fit(train_data)"
      ],
      "execution_count": null,
      "outputs": []
    },
    {
      "cell_type": "code",
      "metadata": {
        "id": "zKawWONDA_gP"
      },
      "source": [
        "import pandas as pd"
      ],
      "execution_count": null,
      "outputs": []
    },
    {
      "cell_type": "code",
      "metadata": {
        "id": "1et5UqYlBGvO",
        "colab": {
          "base_uri": "https://localhost:8080/",
          "height": 168
        },
        "outputId": "056dd94c-758f-478a-8c45-98c9f56c8936"
      },
      "source": [
        "pd.DataFrame({\"Coefficients\":model.coefficients}, index=['Avg Session Length', 'Time on App',\n",
        "                                       'Time on Website','Length of Membership'])"
      ],
      "execution_count": null,
      "outputs": [
        {
          "output_type": "execute_result",
          "data": {
            "text/html": [
              "<div>\n",
              "<style scoped>\n",
              "    .dataframe tbody tr th:only-of-type {\n",
              "        vertical-align: middle;\n",
              "    }\n",
              "\n",
              "    .dataframe tbody tr th {\n",
              "        vertical-align: top;\n",
              "    }\n",
              "\n",
              "    .dataframe thead th {\n",
              "        text-align: right;\n",
              "    }\n",
              "</style>\n",
              "<table border=\"1\" class=\"dataframe\">\n",
              "  <thead>\n",
              "    <tr style=\"text-align: right;\">\n",
              "      <th></th>\n",
              "      <th>Coefficients</th>\n",
              "    </tr>\n",
              "  </thead>\n",
              "  <tbody>\n",
              "    <tr>\n",
              "      <th>Avg Session Length</th>\n",
              "      <td>25.752205</td>\n",
              "    </tr>\n",
              "    <tr>\n",
              "      <th>Time on App</th>\n",
              "      <td>39.396649</td>\n",
              "    </tr>\n",
              "    <tr>\n",
              "      <th>Time on Website</th>\n",
              "      <td>0.491886</td>\n",
              "    </tr>\n",
              "    <tr>\n",
              "      <th>Length of Membership</th>\n",
              "      <td>61.227496</td>\n",
              "    </tr>\n",
              "  </tbody>\n",
              "</table>\n",
              "</div>"
            ],
            "text/plain": [
              "                      Coefficients\n",
              "Avg Session Length       25.752205\n",
              "Time on App              39.396649\n",
              "Time on Website           0.491886\n",
              "Length of Membership     61.227496"
            ]
          },
          "metadata": {
            "tags": []
          },
          "execution_count": 33
        }
      ]
    },
    {
      "cell_type": "code",
      "metadata": {
        "id": "IewgJbnvBNnC"
      },
      "source": [
        "res = model.evaluate(test_data)"
      ],
      "execution_count": null,
      "outputs": []
    },
    {
      "cell_type": "code",
      "metadata": {
        "id": "RUX-4czHBdrP",
        "colab": {
          "base_uri": "https://localhost:8080/"
        },
        "outputId": "63112eba-f413-4470-9d66-4edb02eeb02c"
      },
      "source": [
        "res.residuals.show()"
      ],
      "execution_count": null,
      "outputs": [
        {
          "output_type": "stream",
          "text": [
            "+-------------------+\n",
            "|          residuals|\n",
            "+-------------------+\n",
            "| 11.652868881650193|\n",
            "|-11.675731134906414|\n",
            "| -5.196849520818262|\n",
            "|-17.438580116879734|\n",
            "|  -4.65535635127452|\n",
            "|  -4.35657976156466|\n",
            "| -3.733584859298844|\n",
            "| 3.2279193114615055|\n",
            "|  2.454174490866592|\n",
            "| -1.727017481807593|\n",
            "|  18.20670747878171|\n",
            "|  16.59363435001461|\n",
            "|-26.212788151766404|\n",
            "| -2.528969527062827|\n",
            "|-19.182971363148056|\n",
            "|-1.2422155981684568|\n",
            "| -9.576885889320181|\n",
            "| 12.941876205740868|\n",
            "|-1.8250912153936838|\n",
            "| 12.448230647836965|\n",
            "+-------------------+\n",
            "only showing top 20 rows\n",
            "\n"
          ],
          "name": "stdout"
        }
      ]
    },
    {
      "cell_type": "code",
      "metadata": {
        "id": "UELyAw2oBfyP"
      },
      "source": [
        "unlabeled_data = test_data.select(\"features\")"
      ],
      "execution_count": null,
      "outputs": []
    },
    {
      "cell_type": "code",
      "metadata": {
        "id": "i51SRKfXBm_4"
      },
      "source": [
        "predictions = model.transform(unlabeled_data)"
      ],
      "execution_count": null,
      "outputs": []
    },
    {
      "cell_type": "code",
      "metadata": {
        "id": "39HSr01XBqKe",
        "colab": {
          "base_uri": "https://localhost:8080/"
        },
        "outputId": "2da6bf04-1d32-4903-9768-c64ff0ba4b22"
      },
      "source": [
        "predictions.show()"
      ],
      "execution_count": null,
      "outputs": [
        {
          "output_type": "stream",
          "text": [
            "+--------------------+------------------+\n",
            "|            features|        prediction|\n",
            "+--------------------+------------------+\n",
            "|[29.5324289670579...| 396.9874821909773|\n",
            "|[30.3931845423455...|    331.6046009381|\n",
            "|[30.4925366965402...| 287.6680952407328|\n",
            "|[30.8162006488763...|283.52492106534874|\n",
            "|[30.8364326747734...| 472.1572567782641|\n",
            "|[30.8794843441274...|494.56317974641934|\n",
            "|[31.2681042107507...|427.20411803312277|\n",
            "|[31.3091926408918...| 429.4927985284721|\n",
            "|[31.5316044825729...|434.06143123849597|\n",
            "|[31.5761319713222...| 542.9536014711359|\n",
            "|[31.6005122003032...| 460.9661440123152|\n",
            "|[31.6098395733896...|427.95191530109355|\n",
            "|[31.6739155032749...| 501.9378560616476|\n",
            "|[31.8124825597242...|395.33931451086005|\n",
            "|[31.8164283341993...| 520.3054628668044|\n",
            "|[31.8186165667690...| 447.6608889683041|\n",
            "|[31.8279790554652...| 449.5796334362617|\n",
            "|[31.9096268275227...| 550.5041594674983|\n",
            "|[31.9120759292006...| 389.3598075211014|\n",
            "|[31.9262720263601...|379.75670279648944|\n",
            "+--------------------+------------------+\n",
            "only showing top 20 rows\n",
            "\n"
          ],
          "name": "stdout"
        }
      ]
    },
    {
      "cell_type": "code",
      "metadata": {
        "id": "MZUm7bulBrHo",
        "colab": {
          "base_uri": "https://localhost:8080/"
        },
        "outputId": "aeefddcf-ec20-4ba1-83b0-0cb4d9a94c87"
      },
      "source": [
        "print(\"MAE:\", res.meanAbsoluteError)\n",
        "print(\"MSE:\", res.meanSquaredError)\n",
        "print(\"RMSE:\", res.rootMeanSquaredError)\n",
        "print(\"R2\", res.r2)\n",
        "print(\"Adj R2\", res.r2adj)"
      ],
      "execution_count": null,
      "outputs": [
        {
          "output_type": "stream",
          "text": [
            "MAE: 7.489850335633214\n",
            "MSE: 84.76608914377711\n",
            "RMSE: 9.206850120631763\n",
            "R2 0.9881686207931215\n",
            "Adj R2 0.9878127898395311\n"
          ],
          "name": "stdout"
        }
      ]
    },
    {
      "cell_type": "code",
      "metadata": {
        "id": "itGi283hCB54"
      },
      "source": [
        ""
      ],
      "execution_count": null,
      "outputs": []
    },
    {
      "cell_type": "markdown",
      "metadata": {
        "id": "SfKkRWgDcrJ_"
      },
      "source": [
        "# Logistic Regression with PySpark"
      ]
    },
    {
      "cell_type": "code",
      "metadata": {
        "id": "utJK6INtcuYw"
      },
      "source": [
        "from pyspark.sql import SparkSession"
      ],
      "execution_count": null,
      "outputs": []
    },
    {
      "cell_type": "code",
      "metadata": {
        "id": "crtgTDKSfVtP"
      },
      "source": [
        "spark = SparkSession.builder.appName(\"log_reg\").getOrCreate()"
      ],
      "execution_count": null,
      "outputs": []
    },
    {
      "cell_type": "code",
      "metadata": {
        "id": "iw5XB_xxgVnK",
        "colab": {
          "base_uri": "https://localhost:8080/"
        },
        "outputId": "8df18d75-f86f-404d-8fbe-e730e6650992"
      },
      "source": [
        "!curl https://raw.githubusercontent.com/apache/spark/master/data/mllib/sample_libsvm_data.txt >> sample_libsvm_data_2.txt"
      ],
      "execution_count": null,
      "outputs": [
        {
          "output_type": "stream",
          "text": [
            "  % Total    % Received % Xferd  Average Speed   Time    Time     Time  Current\n",
            "                                 Dload  Upload   Total   Spent    Left  Speed\n",
            "100  102k  100  102k    0     0   349k      0 --:--:-- --:--:-- --:--:--  350k\n"
          ],
          "name": "stdout"
        }
      ]
    },
    {
      "cell_type": "code",
      "metadata": {
        "id": "HyY3E2z5faXW"
      },
      "source": [
        "df = spark.read.format(\"libsvm\").load(\"sample_libsvm_data.txt\")"
      ],
      "execution_count": null,
      "outputs": []
    },
    {
      "cell_type": "code",
      "metadata": {
        "id": "Tk4AUM4tfk29",
        "colab": {
          "base_uri": "https://localhost:8080/"
        },
        "outputId": "dbacb9f0-4c51-4de7-fb83-bd502bb5eb55"
      },
      "source": [
        "df.printSchema()"
      ],
      "execution_count": null,
      "outputs": [
        {
          "output_type": "stream",
          "text": [
            "root\n",
            " |-- label: double (nullable = true)\n",
            " |-- features: vector (nullable = true)\n",
            "\n"
          ],
          "name": "stdout"
        }
      ]
    },
    {
      "cell_type": "code",
      "metadata": {
        "id": "tv5APJp_gsDU"
      },
      "source": [
        "from pyspark.ml.classification import LogisticRegression"
      ],
      "execution_count": null,
      "outputs": []
    },
    {
      "cell_type": "code",
      "metadata": {
        "id": "RU33l08cg1ba"
      },
      "source": [
        "lr = LogisticRegression()\n",
        "\n",
        "model = lr.fit(df)\n",
        "\n",
        "summary = model.summary"
      ],
      "execution_count": null,
      "outputs": []
    },
    {
      "cell_type": "code",
      "metadata": {
        "id": "dSeNblqsg79x",
        "colab": {
          "base_uri": "https://localhost:8080/"
        },
        "outputId": "39b24b77-217f-4cd1-ed80-d5bf65701019"
      },
      "source": [
        "summary.predictions.show()"
      ],
      "execution_count": null,
      "outputs": [
        {
          "output_type": "stream",
          "text": [
            "+-----+--------------------+--------------------+--------------------+----------+\n",
            "|label|            features|       rawPrediction|         probability|prediction|\n",
            "+-----+--------------------+--------------------+--------------------+----------+\n",
            "|  0.0|(692,[127,128,129...|[19.8534775947478...|[0.99999999761359...|       0.0|\n",
            "|  1.0|(692,[158,159,160...|[-20.377398194908...|[1.41321555111056...|       1.0|\n",
            "|  1.0|(692,[124,125,126...|[-27.401459284891...|[1.25804865126979...|       1.0|\n",
            "|  1.0|(692,[152,153,154...|[-18.862741612668...|[6.42710509170303...|       1.0|\n",
            "|  1.0|(692,[151,152,153...|[-20.483011833009...|[1.27157209200604...|       1.0|\n",
            "|  0.0|(692,[129,130,131...|[19.8506078990277...|[0.99999999760673...|       0.0|\n",
            "|  1.0|(692,[158,159,160...|[-20.337256674833...|[1.47109814695581...|       1.0|\n",
            "|  1.0|(692,[99,100,101,...|[-19.595579753418...|[3.08850168102631...|       1.0|\n",
            "|  0.0|(692,[154,155,156...|[19.2708803215613...|[0.99999999572670...|       0.0|\n",
            "|  0.0|(692,[127,128,129...|[23.6202328360422...|[0.99999999994480...|       0.0|\n",
            "|  1.0|(692,[154,155,156...|[-24.385235147661...|[2.56818872776510...|       1.0|\n",
            "|  0.0|(692,[153,154,155...|[26.3082522490179...|[0.99999999999624...|       0.0|\n",
            "|  0.0|(692,[151,152,153...|[25.8329060318703...|[0.99999999999396...|       0.0|\n",
            "|  1.0|(692,[129,130,131...|[-19.794609139086...|[2.53110684529575...|       1.0|\n",
            "|  0.0|(692,[154,155,156...|[21.0260440948067...|[0.99999999926123...|       0.0|\n",
            "|  1.0|(692,[150,151,152...|[-22.764979942873...|[1.29806018790941...|       1.0|\n",
            "|  0.0|(692,[124,125,126...|[21.5049307193954...|[0.99999999954235...|       0.0|\n",
            "|  0.0|(692,[152,153,154...|[31.9927184226421...|[0.99999999999998...|       0.0|\n",
            "|  1.0|(692,[97,98,99,12...|[-20.521067180414...|[1.22409115616505...|       1.0|\n",
            "|  1.0|(692,[124,125,126...|[-22.245377742755...|[2.18250475400332...|       1.0|\n",
            "+-----+--------------------+--------------------+--------------------+----------+\n",
            "only showing top 20 rows\n",
            "\n"
          ],
          "name": "stdout"
        }
      ]
    },
    {
      "cell_type": "code",
      "metadata": {
        "id": "vcMpxsVWhAaN"
      },
      "source": [
        "from pyspark.mllib.evaluation import MulticlassMetrics"
      ],
      "execution_count": null,
      "outputs": []
    },
    {
      "cell_type": "code",
      "metadata": {
        "id": "vgj2p-lEhJ3u",
        "colab": {
          "base_uri": "https://localhost:8080/"
        },
        "outputId": "17d74bc4-4944-4ee4-f7d2-5cd04d9625ad"
      },
      "source": [
        "model.evaluate(df)"
      ],
      "execution_count": null,
      "outputs": [
        {
          "output_type": "execute_result",
          "data": {
            "text/plain": [
              "<pyspark.ml.classification.BinaryLogisticRegressionSummary at 0x7fbe44cae400>"
            ]
          },
          "metadata": {
            "tags": []
          },
          "execution_count": 22
        }
      ]
    },
    {
      "cell_type": "code",
      "metadata": {
        "id": "S385rAdshL1O"
      },
      "source": [
        "pred_and_labels = model.evaluate(df)"
      ],
      "execution_count": null,
      "outputs": []
    },
    {
      "cell_type": "code",
      "metadata": {
        "id": "k7vsBpV7hTUE",
        "colab": {
          "base_uri": "https://localhost:8080/"
        },
        "outputId": "72c1ff97-d032-4f52-87ca-fa18838dcef9"
      },
      "source": [
        "pred_and_labels.predictions.show()"
      ],
      "execution_count": null,
      "outputs": [
        {
          "output_type": "stream",
          "text": [
            "+-----+--------------------+--------------------+--------------------+----------+\n",
            "|label|            features|       rawPrediction|         probability|prediction|\n",
            "+-----+--------------------+--------------------+--------------------+----------+\n",
            "|  0.0|(692,[127,128,129...|[19.8534775947478...|[0.99999999761359...|       0.0|\n",
            "|  1.0|(692,[158,159,160...|[-20.377398194908...|[1.41321555111056...|       1.0|\n",
            "|  1.0|(692,[124,125,126...|[-27.401459284891...|[1.25804865126979...|       1.0|\n",
            "|  1.0|(692,[152,153,154...|[-18.862741612668...|[6.42710509170303...|       1.0|\n",
            "|  1.0|(692,[151,152,153...|[-20.483011833009...|[1.27157209200604...|       1.0|\n",
            "|  0.0|(692,[129,130,131...|[19.8506078990277...|[0.99999999760673...|       0.0|\n",
            "|  1.0|(692,[158,159,160...|[-20.337256674833...|[1.47109814695581...|       1.0|\n",
            "|  1.0|(692,[99,100,101,...|[-19.595579753418...|[3.08850168102631...|       1.0|\n",
            "|  0.0|(692,[154,155,156...|[19.2708803215613...|[0.99999999572670...|       0.0|\n",
            "|  0.0|(692,[127,128,129...|[23.6202328360422...|[0.99999999994480...|       0.0|\n",
            "|  1.0|(692,[154,155,156...|[-24.385235147661...|[2.56818872776510...|       1.0|\n",
            "|  0.0|(692,[153,154,155...|[26.3082522490179...|[0.99999999999624...|       0.0|\n",
            "|  0.0|(692,[151,152,153...|[25.8329060318703...|[0.99999999999396...|       0.0|\n",
            "|  1.0|(692,[129,130,131...|[-19.794609139086...|[2.53110684529575...|       1.0|\n",
            "|  0.0|(692,[154,155,156...|[21.0260440948067...|[0.99999999926123...|       0.0|\n",
            "|  1.0|(692,[150,151,152...|[-22.764979942873...|[1.29806018790941...|       1.0|\n",
            "|  0.0|(692,[124,125,126...|[21.5049307193954...|[0.99999999954235...|       0.0|\n",
            "|  0.0|(692,[152,153,154...|[31.9927184226421...|[0.99999999999998...|       0.0|\n",
            "|  1.0|(692,[97,98,99,12...|[-20.521067180414...|[1.22409115616505...|       1.0|\n",
            "|  1.0|(692,[124,125,126...|[-22.245377742755...|[2.18250475400332...|       1.0|\n",
            "+-----+--------------------+--------------------+--------------------+----------+\n",
            "only showing top 20 rows\n",
            "\n"
          ],
          "name": "stdout"
        }
      ]
    },
    {
      "cell_type": "code",
      "metadata": {
        "id": "XnTmLRlthVq2"
      },
      "source": [
        "pred_and_labels = pred_and_labels.predictions.select(\"label\", \"prediction\")"
      ],
      "execution_count": null,
      "outputs": []
    },
    {
      "cell_type": "code",
      "metadata": {
        "id": "qmCPPQ1Lhgu2",
        "colab": {
          "base_uri": "https://localhost:8080/"
        },
        "outputId": "068fa24b-05c4-4c28-c1b4-94205b8f354a"
      },
      "source": [
        "pred_and_labels.show()"
      ],
      "execution_count": null,
      "outputs": [
        {
          "output_type": "stream",
          "text": [
            "+-----+----------+\n",
            "|label|prediction|\n",
            "+-----+----------+\n",
            "|  0.0|       0.0|\n",
            "|  1.0|       1.0|\n",
            "|  1.0|       1.0|\n",
            "|  1.0|       1.0|\n",
            "|  1.0|       1.0|\n",
            "|  0.0|       0.0|\n",
            "|  1.0|       1.0|\n",
            "|  1.0|       1.0|\n",
            "|  0.0|       0.0|\n",
            "|  0.0|       0.0|\n",
            "|  1.0|       1.0|\n",
            "|  0.0|       0.0|\n",
            "|  0.0|       0.0|\n",
            "|  1.0|       1.0|\n",
            "|  0.0|       0.0|\n",
            "|  1.0|       1.0|\n",
            "|  0.0|       0.0|\n",
            "|  0.0|       0.0|\n",
            "|  1.0|       1.0|\n",
            "|  1.0|       1.0|\n",
            "+-----+----------+\n",
            "only showing top 20 rows\n",
            "\n"
          ],
          "name": "stdout"
        }
      ]
    },
    {
      "cell_type": "markdown",
      "metadata": {
        "id": "3AMd1FHPhldi"
      },
      "source": [
        "# Evaluation"
      ]
    },
    {
      "cell_type": "code",
      "metadata": {
        "id": "QkLOsocfhh4X"
      },
      "source": [
        "from pyspark.ml.evaluation import BinaryClassificationEvaluator, MulticlassClassificationEvaluator"
      ],
      "execution_count": null,
      "outputs": []
    },
    {
      "cell_type": "code",
      "metadata": {
        "id": "jjCTMjK9hsUT"
      },
      "source": [
        "eval = BinaryClassificationEvaluator(rawPredictionCol=\"prediction\", labelCol=\"label\")"
      ],
      "execution_count": null,
      "outputs": []
    },
    {
      "cell_type": "code",
      "metadata": {
        "id": "sJ-6RIaDh3Ga"
      },
      "source": [
        "eval_multi = MulticlassClassificationEvaluator(predictionCol=\"prediction\", \n",
        "                                               labelCol=\"label\", \n",
        "                                               metricName=\"accuracy\")"
      ],
      "execution_count": null,
      "outputs": []
    },
    {
      "cell_type": "code",
      "metadata": {
        "id": "pZtRtIKrh60w"
      },
      "source": [
        "acc = eval.evaluate(pred_and_labels)"
      ],
      "execution_count": null,
      "outputs": []
    },
    {
      "cell_type": "code",
      "metadata": {
        "id": "xUdz7yu-iN6l",
        "colab": {
          "base_uri": "https://localhost:8080/"
        },
        "outputId": "5ef05416-a062-45eb-f9b0-998417084f1a"
      },
      "source": [
        "acc"
      ],
      "execution_count": null,
      "outputs": [
        {
          "output_type": "execute_result",
          "data": {
            "text/plain": [
              "1.0"
            ]
          },
          "metadata": {
            "tags": []
          },
          "execution_count": 33
        }
      ]
    },
    {
      "cell_type": "markdown",
      "metadata": {
        "id": "RbSMeqg3i1ff"
      },
      "source": [
        "# Logistic Regression: Titantic Dataset"
      ]
    },
    {
      "cell_type": "code",
      "metadata": {
        "id": "ZTGS-LpOiOg5",
        "colab": {
          "base_uri": "https://localhost:8080/"
        },
        "outputId": "c92e8d47-4fdb-421d-9d27-5c882a2c1f38"
      },
      "source": [
        "!curl https://raw.githubusercontent.com/markumreed/colab_pyspark/main/titanic.csv >> titanic_2.csv"
      ],
      "execution_count": null,
      "outputs": [
        {
          "output_type": "stream",
          "text": [
            "  % Total    % Received % Xferd  Average Speed   Time    Time     Time  Current\n",
            "                                 Dload  Upload   Total   Spent    Left  Speed\n",
            "\r  0     0    0     0    0     0      0      0 --:--:-- --:--:-- --:--:--     0\r100 60302  100 60302    0     0   303k      0 --:--:-- --:--:-- --:--:--  303k\n"
          ],
          "name": "stdout"
        }
      ]
    },
    {
      "cell_type": "code",
      "metadata": {
        "id": "1Kvnjap_i706"
      },
      "source": [
        "from pyspark.sql import SparkSession"
      ],
      "execution_count": null,
      "outputs": []
    },
    {
      "cell_type": "code",
      "metadata": {
        "id": "PTAdSyM4jELE"
      },
      "source": [
        "spark = SparkSession.builder.appName(\"titanic\").getOrCreate()"
      ],
      "execution_count": null,
      "outputs": []
    },
    {
      "cell_type": "code",
      "metadata": {
        "id": "iUDa2AStjLDM"
      },
      "source": [
        "df = spark.read.csv(\"titanic.csv\", inferSchema=True, header=True)"
      ],
      "execution_count": null,
      "outputs": []
    },
    {
      "cell_type": "code",
      "metadata": {
        "id": "oI-TwAF8jRb5",
        "colab": {
          "base_uri": "https://localhost:8080/"
        },
        "outputId": "d7d62809-0389-4d4f-909a-512e5a29c048"
      },
      "source": [
        "df.printSchema()"
      ],
      "execution_count": null,
      "outputs": [
        {
          "output_type": "stream",
          "text": [
            "root\n",
            " |-- PassengerId: integer (nullable = true)\n",
            " |-- Survived: integer (nullable = true)\n",
            " |-- Pclass: integer (nullable = true)\n",
            " |-- Name: string (nullable = true)\n",
            " |-- Sex: string (nullable = true)\n",
            " |-- Age: double (nullable = true)\n",
            " |-- SibSp: integer (nullable = true)\n",
            " |-- Parch: integer (nullable = true)\n",
            " |-- Ticket: string (nullable = true)\n",
            " |-- Fare: double (nullable = true)\n",
            " |-- Cabin: string (nullable = true)\n",
            " |-- Embarked: string (nullable = true)\n",
            "\n"
          ],
          "name": "stdout"
        }
      ]
    },
    {
      "cell_type": "code",
      "metadata": {
        "id": "XzulCYEQjWez",
        "colab": {
          "base_uri": "https://localhost:8080/"
        },
        "outputId": "7c32a13f-e8b3-4ad9-b0bc-8bdd8dc01ed7"
      },
      "source": [
        "df.columns"
      ],
      "execution_count": null,
      "outputs": [
        {
          "output_type": "execute_result",
          "data": {
            "text/plain": [
              "['PassengerId',\n",
              " 'Survived',\n",
              " 'Pclass',\n",
              " 'Name',\n",
              " 'Sex',\n",
              " 'Age',\n",
              " 'SibSp',\n",
              " 'Parch',\n",
              " 'Ticket',\n",
              " 'Fare',\n",
              " 'Cabin',\n",
              " 'Embarked']"
            ]
          },
          "metadata": {
            "tags": []
          },
          "execution_count": 41
        }
      ]
    },
    {
      "cell_type": "code",
      "metadata": {
        "id": "3yl6cSyDjdnH"
      },
      "source": [
        "data = df.select([\n",
        " 'Survived',\n",
        " 'Pclass',\n",
        " 'Sex',\n",
        " 'Age',\n",
        " 'SibSp',\n",
        " 'Parch',\n",
        " 'Fare',\n",
        " 'Embarked'])"
      ],
      "execution_count": null,
      "outputs": []
    },
    {
      "cell_type": "code",
      "metadata": {
        "id": "1XKalFdxkAB-",
        "colab": {
          "base_uri": "https://localhost:8080/"
        },
        "outputId": "ac24549d-27ef-4f6a-f86e-6545e965295d"
      },
      "source": [
        "data.head()"
      ],
      "execution_count": null,
      "outputs": [
        {
          "output_type": "execute_result",
          "data": {
            "text/plain": [
              "Row(Survived=0, Pclass=3, Sex='male', Age=22.0, SibSp=1, Parch=0, Fare=7.25, Embarked='S')"
            ]
          },
          "metadata": {
            "tags": []
          },
          "execution_count": 44
        }
      ]
    },
    {
      "cell_type": "code",
      "metadata": {
        "id": "A7CejI1mj59W"
      },
      "source": [
        "data_final = data.na.drop()"
      ],
      "execution_count": null,
      "outputs": []
    },
    {
      "cell_type": "markdown",
      "metadata": {
        "id": "wYDgN12HkFR6"
      },
      "source": [
        "# Categorical Data with PySpark"
      ]
    },
    {
      "cell_type": "code",
      "metadata": {
        "id": "J13ihqpBj-4f"
      },
      "source": [
        "from pyspark.ml.feature import (VectorAssembler, VectorIndexer,\n",
        "                                OneHotEncoder, StringIndexer)"
      ],
      "execution_count": null,
      "outputs": []
    },
    {
      "cell_type": "code",
      "metadata": {
        "id": "UHiuHDtKkOIZ"
      },
      "source": [
        "gender_indexer = StringIndexer(inputCol=\"Sex\", outputCol=\"SexIndex\")\n",
        "gender_ecoder = OneHotEncoder(inputCol=\"SexIndex\", outputCol=\"SexVec\")\n",
        "\n",
        "embark_indexer = StringIndexer(inputCol=\"Embarked\", outputCol=\"EmbarkIndex\")\n",
        "embark_ecoder = OneHotEncoder(inputCol=\"EmbarkIndex\", outputCol=\"EmbarkVec\")\n"
      ],
      "execution_count": null,
      "outputs": []
    },
    {
      "cell_type": "code",
      "metadata": {
        "id": "QlRyypOtkpAP"
      },
      "source": [
        "assembler = VectorAssembler(inputCols=[\"Pclass\", \"SexVec\", \"Age\", \"SibSp\",\n",
        "                                       \"Parch\", \"Fare\", \"EmbarkVec\"],\n",
        "                            outputCol=\"features\")"
      ],
      "execution_count": null,
      "outputs": []
    },
    {
      "cell_type": "code",
      "metadata": {
        "id": "fLiFP72Hk54r"
      },
      "source": [
        "from pyspark.ml.classification import LogisticRegression"
      ],
      "execution_count": null,
      "outputs": []
    },
    {
      "cell_type": "markdown",
      "metadata": {
        "id": "OD-lhON6lME5"
      },
      "source": [
        "# Pipelines"
      ]
    },
    {
      "cell_type": "code",
      "metadata": {
        "id": "4TCiOKO1lLd2"
      },
      "source": [
        "from pyspark.ml import Pipeline"
      ],
      "execution_count": null,
      "outputs": []
    },
    {
      "cell_type": "code",
      "metadata": {
        "id": "AsE3nMEmlQ9Z"
      },
      "source": [
        "lr = LogisticRegression(featuresCol='features', labelCol=\"Survived\")"
      ],
      "execution_count": null,
      "outputs": []
    },
    {
      "cell_type": "code",
      "metadata": {
        "id": "n21fJ24jlfix"
      },
      "source": [
        "pipeline = Pipeline(stages=[\n",
        "                            gender_indexer,embark_indexer,\n",
        "                            gender_ecoder,embark_ecoder,\n",
        "                            assembler, lr\n",
        "])"
      ],
      "execution_count": null,
      "outputs": []
    },
    {
      "cell_type": "code",
      "metadata": {
        "id": "VxahC2GRl3Tj"
      },
      "source": [
        "train, test = data_final.randomSplit([0.7, 0.3], seed=42)"
      ],
      "execution_count": null,
      "outputs": []
    },
    {
      "cell_type": "code",
      "metadata": {
        "id": "4x3xjhTOmBJr"
      },
      "source": [
        "model_fit = pipeline.fit(train)\n",
        "res = model_fit.transform(test)"
      ],
      "execution_count": null,
      "outputs": []
    },
    {
      "cell_type": "code",
      "metadata": {
        "id": "qUAIFA-KmJ9Y"
      },
      "source": [
        "from pyspark.ml.evaluation import BinaryClassificationEvaluator"
      ],
      "execution_count": null,
      "outputs": []
    },
    {
      "cell_type": "code",
      "metadata": {
        "id": "bgxCK1BYmQ17"
      },
      "source": [
        "eval = BinaryClassificationEvaluator(rawPredictionCol='prediction',\n",
        "                                     labelCol='Survived')"
      ],
      "execution_count": null,
      "outputs": []
    },
    {
      "cell_type": "code",
      "metadata": {
        "id": "UT3hPq-5mW_0",
        "colab": {
          "base_uri": "https://localhost:8080/"
        },
        "outputId": "0fa5ea68-02cc-40de-b965-3cc1831782ea"
      },
      "source": [
        "res.select('Survived', 'prediction').show()"
      ],
      "execution_count": null,
      "outputs": [
        {
          "output_type": "stream",
          "text": [
            "+--------+----------+\n",
            "|Survived|prediction|\n",
            "+--------+----------+\n",
            "|       0|       1.0|\n",
            "|       0|       1.0|\n",
            "|       0|       1.0|\n",
            "|       0|       1.0|\n",
            "|       0|       1.0|\n",
            "|       0|       0.0|\n",
            "|       0|       1.0|\n",
            "|       0|       1.0|\n",
            "|       0|       1.0|\n",
            "|       0|       1.0|\n",
            "|       0|       1.0|\n",
            "|       0|       0.0|\n",
            "|       0|       0.0|\n",
            "|       0|       0.0|\n",
            "|       0|       0.0|\n",
            "|       0|       1.0|\n",
            "|       0|       0.0|\n",
            "|       0|       0.0|\n",
            "|       0|       0.0|\n",
            "|       0|       1.0|\n",
            "+--------+----------+\n",
            "only showing top 20 rows\n",
            "\n"
          ],
          "name": "stdout"
        }
      ]
    },
    {
      "cell_type": "code",
      "metadata": {
        "id": "1Yp-93mSmejC"
      },
      "source": [
        "auc = eval.evaluate(res)"
      ],
      "execution_count": null,
      "outputs": []
    },
    {
      "cell_type": "code",
      "metadata": {
        "id": "0aNRTQJimn5M",
        "colab": {
          "base_uri": "https://localhost:8080/"
        },
        "outputId": "305a6dbe-39e4-4d24-9357-14a4e0c88e91"
      },
      "source": [
        "auc"
      ],
      "execution_count": null,
      "outputs": [
        {
          "output_type": "execute_result",
          "data": {
            "text/plain": [
              "0.7747561675272518"
            ]
          },
          "metadata": {
            "tags": []
          },
          "execution_count": 61
        }
      ]
    },
    {
      "cell_type": "markdown",
      "metadata": {
        "id": "Sa2UXWygtuUY"
      },
      "source": [
        "# Clustering with PySpark\n"
      ]
    },
    {
      "cell_type": "code",
      "metadata": {
        "id": "Ncv8wIkTtxAu",
        "colab": {
          "base_uri": "https://localhost:8080/"
        },
        "outputId": "9eb0514e-2970-416b-b693-6c2dfbb69a63"
      },
      "source": [
        "!curl https://raw.githubusercontent.com/apache/spark/master/data/mllib/sample_kmeans_data.txt >> sample_kmeans_data.txt"
      ],
      "execution_count": null,
      "outputs": [
        {
          "output_type": "stream",
          "text": [
            "  % Total    % Received % Xferd  Average Speed   Time    Time     Time  Current\n",
            "                                 Dload  Upload   Total   Spent    Left  Speed\n",
            "100   120  100   120    0     0    357      0 --:--:-- --:--:-- --:--:--   357\n"
          ],
          "name": "stdout"
        }
      ]
    },
    {
      "cell_type": "code",
      "metadata": {
        "id": "UMXHNbOTuIZ0",
        "colab": {
          "base_uri": "https://localhost:8080/"
        },
        "outputId": "07b85329-5226-404b-b087-247642c6d033"
      },
      "source": [
        "!curl https://archive.ics.uci.edu/ml/machine-learning-databases/00236/seeds_dataset.txt >> seeds_dataset.txt"
      ],
      "execution_count": null,
      "outputs": [
        {
          "output_type": "stream",
          "text": [
            "  % Total    % Received % Xferd  Average Speed   Time    Time     Time  Current\n",
            "                                 Dload  Upload   Total   Spent    Left  Speed\n",
            "100  9300  100  9300    0     0  14975      0 --:--:-- --:--:-- --:--:-- 14975\n"
          ],
          "name": "stdout"
        }
      ]
    },
    {
      "cell_type": "markdown",
      "metadata": {
        "id": "ESyjs3N4yR6V"
      },
      "source": [
        "# K-means\n"
      ]
    },
    {
      "cell_type": "code",
      "metadata": {
        "id": "FmcPjc96uT7s"
      },
      "source": [
        "from pyspark.sql import SparkSession\n",
        "spark=SparkSession.builder.appName(\"sample_cluster\").getOrCreate()"
      ],
      "execution_count": null,
      "outputs": []
    },
    {
      "cell_type": "code",
      "metadata": {
        "id": "cnSgan58ygYe"
      },
      "source": [
        "from pyspark.ml.clustering import KMeans\n",
        "from pyspark.ml.evaluation import ClusteringEvaluator"
      ],
      "execution_count": null,
      "outputs": []
    },
    {
      "cell_type": "code",
      "metadata": {
        "id": "WDFRgivtyjH6"
      },
      "source": [
        "df = spark.read.format(\"libsvm\").load(\"sample_kmeans_data.txt\")"
      ],
      "execution_count": null,
      "outputs": []
    },
    {
      "cell_type": "code",
      "metadata": {
        "id": "TzONl_rYyqdw",
        "colab": {
          "base_uri": "https://localhost:8080/"
        },
        "outputId": "c9aa4e98-f7c4-4671-9a0b-6db71990a09b"
      },
      "source": [
        "df.show()"
      ],
      "execution_count": null,
      "outputs": [
        {
          "output_type": "stream",
          "text": [
            "+-----+--------------------+\n",
            "|label|            features|\n",
            "+-----+--------------------+\n",
            "|  0.0|           (3,[],[])|\n",
            "|  1.0|(3,[0,1,2],[0.1,0...|\n",
            "|  2.0|(3,[0,1,2],[0.2,0...|\n",
            "|  3.0|(3,[0,1,2],[9.0,9...|\n",
            "|  4.0|(3,[0,1,2],[9.1,9...|\n",
            "|  5.0|(3,[0,1,2],[9.2,9...|\n",
            "+-----+--------------------+\n",
            "\n"
          ],
          "name": "stdout"
        }
      ]
    },
    {
      "cell_type": "code",
      "metadata": {
        "id": "0yPmptZmytFd"
      },
      "source": [
        "kmeans = KMeans().setK(2).setSeed(42)\n",
        "model = kmeans.fit(df)"
      ],
      "execution_count": null,
      "outputs": []
    },
    {
      "cell_type": "code",
      "metadata": {
        "id": "kfgQJvcvy5-M"
      },
      "source": [
        "pred = model.transform(df)"
      ],
      "execution_count": null,
      "outputs": []
    },
    {
      "cell_type": "code",
      "metadata": {
        "id": "r-jAdjhazCOE"
      },
      "source": [
        "eval = ClusteringEvaluator()"
      ],
      "execution_count": null,
      "outputs": []
    },
    {
      "cell_type": "code",
      "metadata": {
        "id": "jAKHieBn0Ypa",
        "colab": {
          "base_uri": "https://localhost:8080/"
        },
        "outputId": "c5f507a4-fb90-4438-e69a-88cf78ed2310"
      },
      "source": [
        "silhouette = eval.evaluate(pred)\n",
        "print(f\"Silhouette with squared euclidean distance: {silhouette}\")"
      ],
      "execution_count": null,
      "outputs": [
        {
          "output_type": "stream",
          "text": [
            "Silhouette with squared euclidean distance: 0.9997530305375207\n"
          ],
          "name": "stdout"
        }
      ]
    },
    {
      "cell_type": "code",
      "metadata": {
        "id": "dzo7NkN80m3U",
        "colab": {
          "base_uri": "https://localhost:8080/"
        },
        "outputId": "1ae6195f-7157-40a8-c79a-fdc38c86f7d0"
      },
      "source": [
        "centers = model.clusterCenters()\n",
        "print(\"Cluster Centers:\")\n",
        "print(\"=================\")\n",
        "for center in centers:\n",
        "  print(center)"
      ],
      "execution_count": null,
      "outputs": [
        {
          "output_type": "stream",
          "text": [
            "Cluster Centers:\n",
            "=================\n",
            "[0.1 0.1 0.1]\n",
            "[9.1 9.1 9.1]\n"
          ],
          "name": "stdout"
        }
      ]
    },
    {
      "cell_type": "markdown",
      "metadata": {
        "id": "YvpTdrrN1VvF"
      },
      "source": [
        "# Seeds Clustering Data from UCI\n",
        "\n",
        "Attribute Information:\n",
        "\n",
        "To construct the data, seven geometric parameters of wheat kernels were measured: \n",
        "1. area A, \n",
        "2. perimeter P, \n",
        "3. compactness C = 4*pi*A/P^2, \n",
        "4. length of kernel, \n",
        "5. width of kernel, \n",
        "6. asymmetry coefficient \n",
        "7. length of kernel groove. \n",
        "\n",
        "All of these parameters were real-valued continuous."
      ]
    },
    {
      "cell_type": "code",
      "metadata": {
        "id": "useF1wMC1NP8"
      },
      "source": [
        "from pyspark.sql import SparkSession"
      ],
      "execution_count": null,
      "outputs": []
    },
    {
      "cell_type": "code",
      "metadata": {
        "id": "rivvsdo410dB"
      },
      "source": [
        "spark = SparkSession.builder.appName(\"seeds\").getOrCreate()"
      ],
      "execution_count": null,
      "outputs": []
    },
    {
      "cell_type": "code",
      "metadata": {
        "id": "HITaisIf14pN"
      },
      "source": [
        "from pyspark.ml.clustering import KMeans"
      ],
      "execution_count": null,
      "outputs": []
    },
    {
      "cell_type": "code",
      "metadata": {
        "id": "2nsTJpoN18S0"
      },
      "source": [
        "df = spark.read.csv(\"seeds_dataset.csv\", header=True, inferSchema=True)"
      ],
      "execution_count": null,
      "outputs": []
    },
    {
      "cell_type": "code",
      "metadata": {
        "id": "CZ96Q7522Dan",
        "colab": {
          "base_uri": "https://localhost:8080/"
        },
        "outputId": "8e83ebb5-1864-45a0-d000-83b99b7b9047"
      },
      "source": [
        "df.show()"
      ],
      "execution_count": null,
      "outputs": [
        {
          "output_type": "stream",
          "text": [
            "+-----+---------+-----------+------------------+------------------+---------------------+------------------+\n",
            "| area|perimeter|compactness|  length_of_kernel|   width_of_kernel|asymmetry_coefficient|  length_of_groove|\n",
            "+-----+---------+-----------+------------------+------------------+---------------------+------------------+\n",
            "|15.26|    14.84|      0.871|             5.763|             3.312|                2.221|              5.22|\n",
            "|14.88|    14.57|     0.8811| 5.553999999999999|             3.333|                1.018|             4.956|\n",
            "|14.29|    14.09|      0.905|             5.291|3.3369999999999997|                2.699|             4.825|\n",
            "|13.84|    13.94|     0.8955|             5.324|3.3789999999999996|                2.259|             4.805|\n",
            "|16.14|    14.99|     0.9034|5.6579999999999995|             3.562|                1.355|             5.175|\n",
            "|14.38|    14.21|     0.8951|             5.386|             3.312|   2.4619999999999997|             4.956|\n",
            "|14.69|    14.49|     0.8799|             5.563|             3.259|   3.5860000000000003| 5.218999999999999|\n",
            "|14.11|     14.1|     0.8911|              5.42|             3.302|                  2.7|               5.0|\n",
            "|16.63|    15.46|     0.8747|             6.053|             3.465|                 2.04| 5.877000000000001|\n",
            "|16.44|    15.25|      0.888|5.8839999999999995|             3.505|                1.969|5.5329999999999995|\n",
            "|15.26|    14.85|     0.8696|5.7139999999999995|             3.242|                4.543|             5.314|\n",
            "|14.03|    14.16|     0.8796|             5.438|             3.201|   1.7169999999999999|             5.001|\n",
            "|13.89|    14.02|      0.888|             5.439|             3.199|                3.986|             4.738|\n",
            "|13.78|    14.06|     0.8759|             5.479|             3.156|                3.136|             4.872|\n",
            "|13.74|    14.05|     0.8744|             5.482|             3.114|                2.932|             4.825|\n",
            "|14.59|    14.28|     0.8993|             5.351|             3.333|                4.185| 4.781000000000001|\n",
            "|13.99|    13.83|     0.9183|             5.119|             3.383|                5.234| 4.781000000000001|\n",
            "|15.69|    14.75|     0.9058|             5.527|             3.514|                1.599|             5.046|\n",
            "| 14.7|    14.21|     0.9153|             5.205|             3.466|                1.767|             4.649|\n",
            "|12.72|    13.57|     0.8686|             5.226|             3.049|                4.102|             4.914|\n",
            "+-----+---------+-----------+------------------+------------------+---------------------+------------------+\n",
            "only showing top 20 rows\n",
            "\n"
          ],
          "name": "stdout"
        }
      ]
    },
    {
      "cell_type": "code",
      "metadata": {
        "id": "d7SifMJO2KuX",
        "colab": {
          "base_uri": "https://localhost:8080/"
        },
        "outputId": "0cf8371d-a0c2-451e-ea3d-2cb2b220ac57"
      },
      "source": [
        "df.describe().show()"
      ],
      "execution_count": null,
      "outputs": [
        {
          "output_type": "stream",
          "text": [
            "+-------+------------------+------------------+--------------------+-------------------+------------------+---------------------+-------------------+\n",
            "|summary|              area|         perimeter|         compactness|   length_of_kernel|   width_of_kernel|asymmetry_coefficient|   length_of_groove|\n",
            "+-------+------------------+------------------+--------------------+-------------------+------------------+---------------------+-------------------+\n",
            "|  count|               210|               210|                 210|                210|               210|                  210|                210|\n",
            "|   mean|14.847523809523816|14.559285714285718|  0.8709985714285714|  5.628533333333335| 3.258604761904762|   3.7001999999999997|  5.408071428571429|\n",
            "| stddev|2.9096994306873647|1.3059587265640225|0.023629416583846364|0.44306347772644983|0.3777144449065867|   1.5035589702547392|0.49148049910240543|\n",
            "|    min|             10.59|             12.41|              0.8081|              4.899|              2.63|                0.765|              4.519|\n",
            "|    max|             21.18|             17.25|              0.9183|              6.675|             4.033|                8.456|               6.55|\n",
            "+-------+------------------+------------------+--------------------+-------------------+------------------+---------------------+-------------------+\n",
            "\n"
          ],
          "name": "stdout"
        }
      ]
    },
    {
      "cell_type": "markdown",
      "metadata": {
        "id": "xe6IE1yn3L2f"
      },
      "source": [
        "## Format Data"
      ]
    },
    {
      "cell_type": "code",
      "metadata": {
        "id": "qWsFgOux3GRM"
      },
      "source": [
        "from pyspark.ml.linalg import Vectors\n",
        "from pyspark.ml.feature import VectorAssembler"
      ],
      "execution_count": null,
      "outputs": []
    },
    {
      "cell_type": "code",
      "metadata": {
        "id": "u_enpo7R3UiB",
        "colab": {
          "base_uri": "https://localhost:8080/"
        },
        "outputId": "bf81b9b1-4b44-4daa-f631-133f42ea3540"
      },
      "source": [
        "df.columns"
      ],
      "execution_count": null,
      "outputs": [
        {
          "output_type": "execute_result",
          "data": {
            "text/plain": [
              "['area',\n",
              " 'perimeter',\n",
              " 'compactness',\n",
              " 'length_of_kernel',\n",
              " 'width_of_kernel',\n",
              " 'asymmetry_coefficient',\n",
              " 'length_of_groove']"
            ]
          },
          "metadata": {
            "tags": []
          },
          "execution_count": 41
        }
      ]
    },
    {
      "cell_type": "code",
      "metadata": {
        "id": "OzgHcBmx3Z_z"
      },
      "source": [
        "assembler = VectorAssembler(inputCols=df.columns, outputCol='features')"
      ],
      "execution_count": null,
      "outputs": []
    },
    {
      "cell_type": "code",
      "metadata": {
        "id": "_M0ICHZ23f1K"
      },
      "source": [
        "df_final = assembler.transform(df)"
      ],
      "execution_count": null,
      "outputs": []
    },
    {
      "cell_type": "code",
      "metadata": {
        "id": "QDqbHeai3iXB",
        "colab": {
          "base_uri": "https://localhost:8080/"
        },
        "outputId": "9eb97892-cf01-4c17-dda0-bfb23de15241"
      },
      "source": [
        "df_final.show()"
      ],
      "execution_count": null,
      "outputs": [
        {
          "output_type": "stream",
          "text": [
            "+-----+---------+-----------+------------------+------------------+---------------------+------------------+--------------------+\n",
            "| area|perimeter|compactness|  length_of_kernel|   width_of_kernel|asymmetry_coefficient|  length_of_groove|            features|\n",
            "+-----+---------+-----------+------------------+------------------+---------------------+------------------+--------------------+\n",
            "|15.26|    14.84|      0.871|             5.763|             3.312|                2.221|              5.22|[15.26,14.84,0.87...|\n",
            "|14.88|    14.57|     0.8811| 5.553999999999999|             3.333|                1.018|             4.956|[14.88,14.57,0.88...|\n",
            "|14.29|    14.09|      0.905|             5.291|3.3369999999999997|                2.699|             4.825|[14.29,14.09,0.90...|\n",
            "|13.84|    13.94|     0.8955|             5.324|3.3789999999999996|                2.259|             4.805|[13.84,13.94,0.89...|\n",
            "|16.14|    14.99|     0.9034|5.6579999999999995|             3.562|                1.355|             5.175|[16.14,14.99,0.90...|\n",
            "|14.38|    14.21|     0.8951|             5.386|             3.312|   2.4619999999999997|             4.956|[14.38,14.21,0.89...|\n",
            "|14.69|    14.49|     0.8799|             5.563|             3.259|   3.5860000000000003| 5.218999999999999|[14.69,14.49,0.87...|\n",
            "|14.11|     14.1|     0.8911|              5.42|             3.302|                  2.7|               5.0|[14.11,14.1,0.891...|\n",
            "|16.63|    15.46|     0.8747|             6.053|             3.465|                 2.04| 5.877000000000001|[16.63,15.46,0.87...|\n",
            "|16.44|    15.25|      0.888|5.8839999999999995|             3.505|                1.969|5.5329999999999995|[16.44,15.25,0.88...|\n",
            "|15.26|    14.85|     0.8696|5.7139999999999995|             3.242|                4.543|             5.314|[15.26,14.85,0.86...|\n",
            "|14.03|    14.16|     0.8796|             5.438|             3.201|   1.7169999999999999|             5.001|[14.03,14.16,0.87...|\n",
            "|13.89|    14.02|      0.888|             5.439|             3.199|                3.986|             4.738|[13.89,14.02,0.88...|\n",
            "|13.78|    14.06|     0.8759|             5.479|             3.156|                3.136|             4.872|[13.78,14.06,0.87...|\n",
            "|13.74|    14.05|     0.8744|             5.482|             3.114|                2.932|             4.825|[13.74,14.05,0.87...|\n",
            "|14.59|    14.28|     0.8993|             5.351|             3.333|                4.185| 4.781000000000001|[14.59,14.28,0.89...|\n",
            "|13.99|    13.83|     0.9183|             5.119|             3.383|                5.234| 4.781000000000001|[13.99,13.83,0.91...|\n",
            "|15.69|    14.75|     0.9058|             5.527|             3.514|                1.599|             5.046|[15.69,14.75,0.90...|\n",
            "| 14.7|    14.21|     0.9153|             5.205|             3.466|                1.767|             4.649|[14.7,14.21,0.915...|\n",
            "|12.72|    13.57|     0.8686|             5.226|             3.049|                4.102|             4.914|[12.72,13.57,0.86...|\n",
            "+-----+---------+-----------+------------------+------------------+---------------------+------------------+--------------------+\n",
            "only showing top 20 rows\n",
            "\n"
          ],
          "name": "stdout"
        }
      ]
    },
    {
      "cell_type": "markdown",
      "metadata": {
        "id": "tfMGBmV_3uvI"
      },
      "source": [
        "## Scaling"
      ]
    },
    {
      "cell_type": "code",
      "metadata": {
        "id": "nKSHrhBE3jki"
      },
      "source": [
        "from pyspark.ml.feature import StandardScaler"
      ],
      "execution_count": null,
      "outputs": []
    },
    {
      "cell_type": "code",
      "metadata": {
        "id": "3pykE_7w3yjZ"
      },
      "source": [
        "scaler = StandardScaler(inputCol='features',outputCol='scaledFeatures', withStd=True, withMean=False)"
      ],
      "execution_count": null,
      "outputs": []
    },
    {
      "cell_type": "code",
      "metadata": {
        "id": "JppMUiHK36zy"
      },
      "source": [
        "scaledModel = scaler.fit(df_final)"
      ],
      "execution_count": null,
      "outputs": []
    },
    {
      "cell_type": "code",
      "metadata": {
        "id": "hw3c7TWj4AaX"
      },
      "source": [
        "df_final = scaledModel.transform(df_final)"
      ],
      "execution_count": null,
      "outputs": []
    },
    {
      "cell_type": "code",
      "metadata": {
        "id": "vdpgMlZd4E6o",
        "colab": {
          "base_uri": "https://localhost:8080/"
        },
        "outputId": "9dcf9700-69d1-4d3c-f14d-bc1d13300778"
      },
      "source": [
        "df_final.show()"
      ],
      "execution_count": null,
      "outputs": [
        {
          "output_type": "stream",
          "text": [
            "+-----+---------+-----------+------------------+------------------+---------------------+------------------+--------------------+--------------------+\n",
            "| area|perimeter|compactness|  length_of_kernel|   width_of_kernel|asymmetry_coefficient|  length_of_groove|            features|      scaledFeatures|\n",
            "+-----+---------+-----------+------------------+------------------+---------------------+------------------+--------------------+--------------------+\n",
            "|15.26|    14.84|      0.871|             5.763|             3.312|                2.221|              5.22|[15.26,14.84,0.87...|[5.24452795332028...|\n",
            "|14.88|    14.57|     0.8811| 5.553999999999999|             3.333|                1.018|             4.956|[14.88,14.57,0.88...|[5.11393027165175...|\n",
            "|14.29|    14.09|      0.905|             5.291|3.3369999999999997|                2.699|             4.825|[14.29,14.09,0.90...|[4.91116018695588...|\n",
            "|13.84|    13.94|     0.8955|             5.324|3.3789999999999996|                2.259|             4.805|[13.84,13.94,0.89...|[4.75650503761158...|\n",
            "|16.14|    14.99|     0.9034|5.6579999999999995|             3.562|                1.355|             5.175|[16.14,14.99,0.90...|[5.54696468981581...|\n",
            "|14.38|    14.21|     0.8951|             5.386|             3.312|   2.4619999999999997|             4.956|[14.38,14.21,0.89...|[4.94209121682475...|\n",
            "|14.69|    14.49|     0.8799|             5.563|             3.259|   3.5860000000000003| 5.218999999999999|[14.69,14.49,0.87...|[5.04863143081749...|\n",
            "|14.11|     14.1|     0.8911|              5.42|             3.302|                  2.7|               5.0|[14.11,14.1,0.891...|[4.84929812721816...|\n",
            "|16.63|    15.46|     0.8747|             6.053|             3.465|                 2.04| 5.877000000000001|[16.63,15.46,0.87...|[5.71536696354628...|\n",
            "|16.44|    15.25|      0.888|5.8839999999999995|             3.505|                1.969|5.5329999999999995|[16.44,15.25,0.88...|[5.65006812271202...|\n",
            "|15.26|    14.85|     0.8696|5.7139999999999995|             3.242|                4.543|             5.314|[15.26,14.85,0.86...|[5.24452795332028...|\n",
            "|14.03|    14.16|     0.8796|             5.438|             3.201|   1.7169999999999999|             5.001|[14.03,14.16,0.87...|[4.82180387844584...|\n",
            "|13.89|    14.02|      0.888|             5.439|             3.199|                3.986|             4.738|[13.89,14.02,0.88...|[4.77368894309428...|\n",
            "|13.78|    14.06|     0.8759|             5.479|             3.156|                3.136|             4.872|[13.78,14.06,0.87...|[4.73588435103234...|\n",
            "|13.74|    14.05|     0.8744|             5.482|             3.114|                2.932|             4.825|[13.74,14.05,0.87...|[4.72213722664617...|\n",
            "|14.59|    14.28|     0.8993|             5.351|             3.333|                4.185| 4.781000000000001|[14.59,14.28,0.89...|[5.01426361985209...|\n",
            "|13.99|    13.83|     0.9183|             5.119|             3.383|                5.234| 4.781000000000001|[13.99,13.83,0.91...|[4.80805675405968...|\n",
            "|15.69|    14.75|     0.9058|             5.527|             3.514|                1.599|             5.046|[15.69,14.75,0.90...|[5.39230954047151...|\n",
            "| 14.7|    14.21|     0.9153|             5.205|             3.466|                1.767|             4.649|[14.7,14.21,0.915...|[5.05206821191403...|\n",
            "|12.72|    13.57|     0.8686|             5.226|             3.049|                4.102|             4.914|[12.72,13.57,0.86...|[4.37158555479908...|\n",
            "+-----+---------+-----------+------------------+------------------+---------------------+------------------+--------------------+--------------------+\n",
            "only showing top 20 rows\n",
            "\n"
          ],
          "name": "stdout"
        }
      ]
    },
    {
      "cell_type": "markdown",
      "metadata": {
        "id": "2cpv6gKJ4Mc0"
      },
      "source": [
        "## Train and Eval"
      ]
    },
    {
      "cell_type": "code",
      "metadata": {
        "id": "nzxB80lk4GR0"
      },
      "source": [
        "kmeans = KMeans(featuresCol='scaledFeatures', k=3)\n",
        "model = kmeans.fit(df_final)"
      ],
      "execution_count": null,
      "outputs": []
    },
    {
      "cell_type": "code",
      "metadata": {
        "id": "MUVB55FF4fNo"
      },
      "source": [
        "pred = model.transform(df_final)"
      ],
      "execution_count": null,
      "outputs": []
    },
    {
      "cell_type": "code",
      "metadata": {
        "id": "l3Sp72tO4Xxe"
      },
      "source": [
        "from pyspark.ml.evaluation import ClusteringEvaluator"
      ],
      "execution_count": null,
      "outputs": []
    },
    {
      "cell_type": "code",
      "metadata": {
        "id": "7YTw9DXZ4dX7"
      },
      "source": [
        "eval = ClusteringEvaluator()"
      ],
      "execution_count": null,
      "outputs": []
    },
    {
      "cell_type": "code",
      "metadata": {
        "id": "ZcwE__4C4mrT",
        "colab": {
          "base_uri": "https://localhost:8080/"
        },
        "outputId": "4ac69941-d9bb-43de-d4fe-9c264c09c812"
      },
      "source": [
        "silhouette = eval.evaluate(pred)\n",
        "print(f\"Silhouette with squared euclidean distance: {silhouette}\")"
      ],
      "execution_count": null,
      "outputs": [
        {
          "output_type": "stream",
          "text": [
            "Silhouette with squared euclidean distance: 0.6300001033389961\n"
          ],
          "name": "stdout"
        }
      ]
    },
    {
      "cell_type": "code",
      "metadata": {
        "id": "lhej0zsL4u9n",
        "colab": {
          "base_uri": "https://localhost:8080/"
        },
        "outputId": "560ec5b3-6975-459f-8cb3-c8038d4a36a3"
      },
      "source": [
        "centers = model.clusterCenters()\n",
        "print(\"Cluster Centers:\")\n",
        "for center in centers:\n",
        "  print(center)"
      ],
      "execution_count": null,
      "outputs": [
        {
          "output_type": "stream",
          "text": [
            "Cluster Centers:\n",
            "[ 4.07497225 10.14410142 35.89816849 11.80812742  7.54416916  3.15410901\n",
            " 10.38031464]\n",
            "[ 6.35645488 12.40730852 37.41990178 13.93860446  9.7892399   2.41585013\n",
            " 12.29286107]\n",
            "[ 4.96198582 10.97871333 37.30930808 12.44647267  8.62880781  1.80061978\n",
            " 10.41913733]\n"
          ],
          "name": "stdout"
        }
      ]
    },
    {
      "cell_type": "code",
      "metadata": {
        "id": "ZbFqrfpj49sI"
      },
      "source": [
        ""
      ],
      "execution_count": null,
      "outputs": []
    },
    {
      "cell_type": "markdown",
      "metadata": {
        "id": "x7bRUbGkj5Mz"
      },
      "source": [
        "# Random Forest Classifier with PySpark"
      ]
    },
    {
      "cell_type": "code",
      "metadata": {
        "id": "keb9diwMj88b"
      },
      "source": [
        "from pyspark.ml import Pipeline\n",
        "from pyspark.ml.classification import RandomForestClassifier\n",
        "from pyspark.ml.evaluation import MulticlassClassificationEvaluator\n",
        "from pyspark.sql import SparkSession"
      ],
      "execution_count": null,
      "outputs": []
    },
    {
      "cell_type": "code",
      "metadata": {
        "id": "beY9VaBVkGFb"
      },
      "source": [
        "spark = SparkSession.builder.appName(\"rf\").getOrCreate()"
      ],
      "execution_count": null,
      "outputs": []
    },
    {
      "cell_type": "code",
      "metadata": {
        "id": "BCYpsAvZkLcB"
      },
      "source": [
        "df = spark.read.format(\"libsvm\").load(\"sample_libsvm_data.txt\")"
      ],
      "execution_count": null,
      "outputs": []
    },
    {
      "cell_type": "code",
      "metadata": {
        "id": "Yek_YHJ1kTpP",
        "colab": {
          "base_uri": "https://localhost:8080/"
        },
        "outputId": "2421aa83-869a-45df-bfce-a640a7a0487b"
      },
      "source": [
        "df.show()"
      ],
      "execution_count": null,
      "outputs": [
        {
          "output_type": "stream",
          "text": [
            "+-----+--------------------+\n",
            "|label|            features|\n",
            "+-----+--------------------+\n",
            "|  0.0|(692,[127,128,129...|\n",
            "|  1.0|(692,[158,159,160...|\n",
            "|  1.0|(692,[124,125,126...|\n",
            "|  1.0|(692,[152,153,154...|\n",
            "|  1.0|(692,[151,152,153...|\n",
            "|  0.0|(692,[129,130,131...|\n",
            "|  1.0|(692,[158,159,160...|\n",
            "|  1.0|(692,[99,100,101,...|\n",
            "|  0.0|(692,[154,155,156...|\n",
            "|  0.0|(692,[127,128,129...|\n",
            "|  1.0|(692,[154,155,156...|\n",
            "|  0.0|(692,[153,154,155...|\n",
            "|  0.0|(692,[151,152,153...|\n",
            "|  1.0|(692,[129,130,131...|\n",
            "|  0.0|(692,[154,155,156...|\n",
            "|  1.0|(692,[150,151,152...|\n",
            "|  0.0|(692,[124,125,126...|\n",
            "|  0.0|(692,[152,153,154...|\n",
            "|  1.0|(692,[97,98,99,12...|\n",
            "|  1.0|(692,[124,125,126...|\n",
            "+-----+--------------------+\n",
            "only showing top 20 rows\n",
            "\n"
          ],
          "name": "stdout"
        }
      ]
    },
    {
      "cell_type": "markdown",
      "metadata": {
        "id": "WCai6Xl4kry3"
      },
      "source": [
        "# Train Test Split"
      ]
    },
    {
      "cell_type": "code",
      "metadata": {
        "id": "oGOooXf-kVZX"
      },
      "source": [
        "(train, test) = df.randomSplit([0.7, 0.3], seed=42)"
      ],
      "execution_count": null,
      "outputs": []
    },
    {
      "cell_type": "code",
      "metadata": {
        "id": "vaJ79ozpkiJs",
        "colab": {
          "base_uri": "https://localhost:8080/"
        },
        "outputId": "98a50197-95d7-41f0-f4c4-d6b842d47312"
      },
      "source": [
        "test.show()"
      ],
      "execution_count": null,
      "outputs": [
        {
          "output_type": "stream",
          "text": [
            "+-----+--------------------+\n",
            "|label|            features|\n",
            "+-----+--------------------+\n",
            "|  0.0|(692,[100,101,102...|\n",
            "|  0.0|(692,[123,124,125...|\n",
            "|  0.0|(692,[123,124,125...|\n",
            "|  0.0|(692,[124,125,126...|\n",
            "|  0.0|(692,[124,125,126...|\n",
            "|  0.0|(692,[124,125,126...|\n",
            "|  0.0|(692,[125,126,127...|\n",
            "|  0.0|(692,[126,127,128...|\n",
            "|  0.0|(692,[126,127,128...|\n",
            "|  0.0|(692,[126,127,128...|\n",
            "|  0.0|(692,[127,128,129...|\n",
            "|  0.0|(692,[129,130,131...|\n",
            "|  0.0|(692,[150,151,152...|\n",
            "|  0.0|(692,[151,152,153...|\n",
            "|  0.0|(692,[152,153,154...|\n",
            "|  0.0|(692,[153,154,155...|\n",
            "|  0.0|(692,[153,154,155...|\n",
            "|  0.0|(692,[154,155,156...|\n",
            "|  0.0|(692,[234,235,237...|\n",
            "|  1.0|(692,[97,98,99,12...|\n",
            "+-----+--------------------+\n",
            "only showing top 20 rows\n",
            "\n"
          ],
          "name": "stdout"
        }
      ]
    },
    {
      "cell_type": "code",
      "metadata": {
        "id": "EzmudBvYkjE7",
        "colab": {
          "base_uri": "https://localhost:8080/"
        },
        "outputId": "89df27dd-5e62-4c71-c24c-1e780696f9da"
      },
      "source": [
        "train.printSchema()"
      ],
      "execution_count": null,
      "outputs": [
        {
          "output_type": "stream",
          "text": [
            "root\n",
            " |-- label: double (nullable = true)\n",
            " |-- features: vector (nullable = true)\n",
            "\n"
          ],
          "name": "stdout"
        }
      ]
    },
    {
      "cell_type": "markdown",
      "metadata": {
        "id": "dfyGOiTsktt3"
      },
      "source": [
        "# Train RF Model"
      ]
    },
    {
      "cell_type": "code",
      "metadata": {
        "id": "86bnZm5Qkn0J"
      },
      "source": [
        "rf = RandomForestClassifier(labelCol=\"label\", featuresCol=\"features\", numTrees=20,seed=42)"
      ],
      "execution_count": null,
      "outputs": []
    },
    {
      "cell_type": "code",
      "metadata": {
        "id": "7iBFroidk74m"
      },
      "source": [
        "model = rf.fit(train)"
      ],
      "execution_count": null,
      "outputs": []
    },
    {
      "cell_type": "code",
      "metadata": {
        "id": "uFUU5DBYk-C6"
      },
      "source": [
        "pred = model.transform(test)"
      ],
      "execution_count": null,
      "outputs": []
    },
    {
      "cell_type": "code",
      "metadata": {
        "id": "akcaewHalAq-",
        "colab": {
          "base_uri": "https://localhost:8080/"
        },
        "outputId": "89a5e112-02c4-4222-dc92-77cf776500f3"
      },
      "source": [
        "pred.printSchema()"
      ],
      "execution_count": null,
      "outputs": [
        {
          "output_type": "stream",
          "text": [
            "root\n",
            " |-- label: double (nullable = true)\n",
            " |-- features: vector (nullable = true)\n",
            " |-- rawPrediction: vector (nullable = true)\n",
            " |-- probability: vector (nullable = true)\n",
            " |-- prediction: double (nullable = false)\n",
            "\n"
          ],
          "name": "stdout"
        }
      ]
    },
    {
      "cell_type": "code",
      "metadata": {
        "id": "rXxxrfr0lCkP",
        "colab": {
          "base_uri": "https://localhost:8080/"
        },
        "outputId": "323a1f1f-4221-4808-9c6a-99c2b0124482"
      },
      "source": [
        "pred.select(\"prediction\", \"label\", \"features\").show(5)"
      ],
      "execution_count": null,
      "outputs": [
        {
          "output_type": "stream",
          "text": [
            "+----------+-----+--------------------+\n",
            "|prediction|label|            features|\n",
            "+----------+-----+--------------------+\n",
            "|       0.0|  0.0|(692,[100,101,102...|\n",
            "|       0.0|  0.0|(692,[123,124,125...|\n",
            "|       0.0|  0.0|(692,[123,124,125...|\n",
            "|       0.0|  0.0|(692,[124,125,126...|\n",
            "|       0.0|  0.0|(692,[124,125,126...|\n",
            "+----------+-----+--------------------+\n",
            "only showing top 5 rows\n",
            "\n"
          ],
          "name": "stdout"
        }
      ]
    },
    {
      "cell_type": "code",
      "metadata": {
        "id": "1zvcyWgslNqB"
      },
      "source": [
        "eval = MulticlassClassificationEvaluator(labelCol=\"label\", predictionCol=\"prediction\", metricName=\"accuracy\")"
      ],
      "execution_count": null,
      "outputs": []
    },
    {
      "cell_type": "code",
      "metadata": {
        "id": "eKIZLEo4lXtv"
      },
      "source": [
        "acc = eval.evaluate(pred)"
      ],
      "execution_count": null,
      "outputs": []
    },
    {
      "cell_type": "code",
      "metadata": {
        "id": "WngyCZs3la9V",
        "colab": {
          "base_uri": "https://localhost:8080/"
        },
        "outputId": "7c9f21bc-e550-4723-f713-44e864e85bc4"
      },
      "source": [
        "print(\"Test Error = %g\" % (1.0 - acc))"
      ],
      "execution_count": null,
      "outputs": [
        {
          "output_type": "stream",
          "text": [
            "Test Error = 0\n"
          ],
          "name": "stdout"
        }
      ]
    },
    {
      "cell_type": "code",
      "metadata": {
        "id": "4kHlr0bJlmru",
        "colab": {
          "base_uri": "https://localhost:8080/"
        },
        "outputId": "1d1b8ec7-95a8-49b8-bf72-3a686ad94bca"
      },
      "source": [
        "model.featureImportances"
      ],
      "execution_count": null,
      "outputs": [
        {
          "output_type": "execute_result",
          "data": {
            "text/plain": [
              "SparseVector(692, {183: 0.0041, 272: 0.0463, 299: 0.0091, 300: 0.0441, 327: 0.0083, 351: 0.05, 373: 0.0403, 397: 0.003, 399: 0.037, 400: 0.0338, 405: 0.0397, 406: 0.05, 407: 0.1575, 412: 0.0428, 413: 0.091, 426: 0.0072, 429: 0.0028, 430: 0.0069, 435: 0.0163, 455: 0.0548, 460: 0.0031, 468: 0.0061, 469: 0.0037, 483: 0.0472, 510: 0.0409, 511: 0.0912, 518: 0.005, 568: 0.0371, 603: 0.009, 606: 0.0027, 634: 0.0089})"
            ]
          },
          "metadata": {
            "tags": []
          },
          "execution_count": 24
        }
      ]
    },
    {
      "cell_type": "markdown",
      "metadata": {
        "id": "pVis_fO8mCZp"
      },
      "source": [
        "# Gradient Boosted Trees"
      ]
    },
    {
      "cell_type": "code",
      "metadata": {
        "id": "s2nGI6y-lwq3"
      },
      "source": [
        "from pyspark.ml.classification import GBTClassifier"
      ],
      "execution_count": null,
      "outputs": []
    },
    {
      "cell_type": "code",
      "metadata": {
        "id": "V6V4UUIXmghD"
      },
      "source": [
        "gbt = GBTClassifier(labelCol=\"label\", featuresCol=\"features\", maxIter=10, seed=42)"
      ],
      "execution_count": null,
      "outputs": []
    },
    {
      "cell_type": "code",
      "metadata": {
        "id": "U8R36fQAmiWJ"
      },
      "source": [
        "model = gbt.fit(train)"
      ],
      "execution_count": null,
      "outputs": []
    },
    {
      "cell_type": "code",
      "metadata": {
        "id": "TTMHSAonm5Oj"
      },
      "source": [
        "pred = model.transform(test)"
      ],
      "execution_count": null,
      "outputs": []
    },
    {
      "cell_type": "code",
      "metadata": {
        "id": "uzPYr8r2m7sx",
        "colab": {
          "base_uri": "https://localhost:8080/"
        },
        "outputId": "e0d7a8cb-eb27-4854-a2bc-0d3335286daf"
      },
      "source": [
        "pred.select(\"prediction\", \"label\", \"features\").show(5)"
      ],
      "execution_count": null,
      "outputs": [
        {
          "output_type": "stream",
          "text": [
            "+----------+-----+--------------------+\n",
            "|prediction|label|            features|\n",
            "+----------+-----+--------------------+\n",
            "|       0.0|  0.0|(692,[100,101,102...|\n",
            "|       0.0|  0.0|(692,[123,124,125...|\n",
            "|       0.0|  0.0|(692,[123,124,125...|\n",
            "|       0.0|  0.0|(692,[124,125,126...|\n",
            "|       0.0|  0.0|(692,[124,125,126...|\n",
            "+----------+-----+--------------------+\n",
            "only showing top 5 rows\n",
            "\n"
          ],
          "name": "stdout"
        }
      ]
    },
    {
      "cell_type": "code",
      "metadata": {
        "id": "0muS4ERxnAo-",
        "colab": {
          "base_uri": "https://localhost:8080/"
        },
        "outputId": "3e141a43-66f8-45c4-b42a-bfd7de6bc0be"
      },
      "source": [
        "eval = MulticlassClassificationEvaluator(labelCol=\"label\", predictionCol=\"prediction\", metricName=\"accuracy\")\n",
        "acc = eval.evaluate(pred)\n",
        "print(\"Test Error = %g\" % (1.0 - acc))"
      ],
      "execution_count": null,
      "outputs": [
        {
          "output_type": "stream",
          "text": [
            "Test Error = 0.0571429\n"
          ],
          "name": "stdout"
        }
      ]
    },
    {
      "cell_type": "markdown",
      "metadata": {
        "id": "kuBAmQHL2vXh"
      },
      "source": [
        "## Tree Methods with PySpark\n",
        "1. Single Decision Tree\n",
        "1. Random Forest\n",
        "1. Gradient Boosted Tree Classifier"
      ]
    },
    {
      "cell_type": "code",
      "metadata": {
        "id": "mxHdtYJ7nOf7"
      },
      "source": [
        "from pyspark.sql import SparkSession\n",
        "spark = SparkSession.builder.appName(\"trees\").getOrCreate()"
      ],
      "execution_count": 5,
      "outputs": []
    },
    {
      "cell_type": "code",
      "metadata": {
        "id": "i_Uu4nY44pLu"
      },
      "source": [
        "df = spark.read.csv(\"College.csv\", inferSchema=True, header=True)"
      ],
      "execution_count": 6,
      "outputs": []
    },
    {
      "cell_type": "code",
      "metadata": {
        "id": "R7EKhh7O4teO",
        "outputId": "36911ec5-2a56-463b-8195-d66c89434d0b",
        "colab": {
          "base_uri": "https://localhost:8080/"
        }
      },
      "source": [
        "df.printSchema()"
      ],
      "execution_count": 7,
      "outputs": [
        {
          "output_type": "stream",
          "text": [
            "root\n",
            " |-- School: string (nullable = true)\n",
            " |-- Private: string (nullable = true)\n",
            " |-- Apps: integer (nullable = true)\n",
            " |-- Accept: integer (nullable = true)\n",
            " |-- Enroll: integer (nullable = true)\n",
            " |-- Top10perc: integer (nullable = true)\n",
            " |-- Top25perc: integer (nullable = true)\n",
            " |-- F_Undergrad: integer (nullable = true)\n",
            " |-- P_Undergrad: integer (nullable = true)\n",
            " |-- Outstate: integer (nullable = true)\n",
            " |-- Room_Board: integer (nullable = true)\n",
            " |-- Books: integer (nullable = true)\n",
            " |-- Personal: integer (nullable = true)\n",
            " |-- PhD: integer (nullable = true)\n",
            " |-- Terminal: integer (nullable = true)\n",
            " |-- S_F_Ratio: double (nullable = true)\n",
            " |-- perc_alumni: integer (nullable = true)\n",
            " |-- Expend: integer (nullable = true)\n",
            " |-- Grad_Rate: integer (nullable = true)\n",
            "\n"
          ],
          "name": "stdout"
        }
      ]
    },
    {
      "cell_type": "code",
      "metadata": {
        "id": "nCf502xw5GK3",
        "outputId": "374ddba6-fae8-4859-ea00-b0f1942008b2",
        "colab": {
          "base_uri": "https://localhost:8080/"
        }
      },
      "source": [
        "df.head(2)"
      ],
      "execution_count": 9,
      "outputs": [
        {
          "output_type": "execute_result",
          "data": {
            "text/plain": [
              "[Row(School='Abilene Christian University', Private='Yes', Apps=1660, Accept=1232, Enroll=721, Top10perc=23, Top25perc=52, F_Undergrad=2885, P_Undergrad=537, Outstate=7440, Room_Board=3300, Books=450, Personal=2200, PhD=70, Terminal=78, S_F_Ratio=18.1, perc_alumni=12, Expend=7041, Grad_Rate=60),\n",
              " Row(School='Adelphi University', Private='Yes', Apps=2186, Accept=1924, Enroll=512, Top10perc=16, Top25perc=29, F_Undergrad=2683, P_Undergrad=1227, Outstate=12280, Room_Board=6450, Books=750, Personal=1500, PhD=29, Terminal=30, S_F_Ratio=12.2, perc_alumni=16, Expend=10527, Grad_Rate=56)]"
            ]
          },
          "metadata": {
            "tags": []
          },
          "execution_count": 9
        }
      ]
    },
    {
      "cell_type": "code",
      "metadata": {
        "id": "gj2e0-oP4vg1",
        "outputId": "3e810169-dbbc-4090-a832-fb1f44e2e2c5",
        "colab": {
          "base_uri": "https://localhost:8080/"
        }
      },
      "source": [
        "df.columns"
      ],
      "execution_count": 8,
      "outputs": [
        {
          "output_type": "execute_result",
          "data": {
            "text/plain": [
              "['School',\n",
              " 'Private',\n",
              " 'Apps',\n",
              " 'Accept',\n",
              " 'Enroll',\n",
              " 'Top10perc',\n",
              " 'Top25perc',\n",
              " 'F_Undergrad',\n",
              " 'P_Undergrad',\n",
              " 'Outstate',\n",
              " 'Room_Board',\n",
              " 'Books',\n",
              " 'Personal',\n",
              " 'PhD',\n",
              " 'Terminal',\n",
              " 'S_F_Ratio',\n",
              " 'perc_alumni',\n",
              " 'Expend',\n",
              " 'Grad_Rate']"
            ]
          },
          "metadata": {
            "tags": []
          },
          "execution_count": 8
        }
      ]
    },
    {
      "cell_type": "markdown",
      "metadata": {
        "id": "XMm8Udal5EXo"
      },
      "source": [
        "# Formatting for Spark"
      ]
    },
    {
      "cell_type": "code",
      "metadata": {
        "id": "C-fQbbcB5CTI"
      },
      "source": [
        "# \"label\", \"features\"\n",
        "from pyspark.ml.linalg import Vectors\n",
        "from pyspark.ml.feature import VectorAssembler"
      ],
      "execution_count": 16,
      "outputs": []
    },
    {
      "cell_type": "code",
      "metadata": {
        "id": "-l9yFfNk5jUc",
        "outputId": "7ec1694b-ea94-47da-b6e1-389fd0e70819",
        "colab": {
          "base_uri": "https://localhost:8080/"
        }
      },
      "source": [
        "df.printSchema()"
      ],
      "execution_count": 13,
      "outputs": [
        {
          "output_type": "stream",
          "text": [
            "root\n",
            " |-- School: string (nullable = true)\n",
            " |-- Private: string (nullable = true)\n",
            " |-- Apps: integer (nullable = true)\n",
            " |-- Accept: integer (nullable = true)\n",
            " |-- Enroll: integer (nullable = true)\n",
            " |-- Top10perc: integer (nullable = true)\n",
            " |-- Top25perc: integer (nullable = true)\n",
            " |-- F_Undergrad: integer (nullable = true)\n",
            " |-- P_Undergrad: integer (nullable = true)\n",
            " |-- Outstate: integer (nullable = true)\n",
            " |-- Room_Board: integer (nullable = true)\n",
            " |-- Books: integer (nullable = true)\n",
            " |-- Personal: integer (nullable = true)\n",
            " |-- PhD: integer (nullable = true)\n",
            " |-- Terminal: integer (nullable = true)\n",
            " |-- S_F_Ratio: double (nullable = true)\n",
            " |-- perc_alumni: integer (nullable = true)\n",
            " |-- Expend: integer (nullable = true)\n",
            " |-- Grad_Rate: integer (nullable = true)\n",
            "\n"
          ],
          "name": "stdout"
        }
      ]
    },
    {
      "cell_type": "code",
      "metadata": {
        "id": "CL7wctqo5V63",
        "outputId": "a9958500-c3f7-46f9-f850-006462c42d72",
        "colab": {
          "base_uri": "https://localhost:8080/"
        }
      },
      "source": [
        "df.columns"
      ],
      "execution_count": 11,
      "outputs": [
        {
          "output_type": "execute_result",
          "data": {
            "text/plain": [
              "['School',\n",
              " 'Private',\n",
              " 'Apps',\n",
              " 'Accept',\n",
              " 'Enroll',\n",
              " 'Top10perc',\n",
              " 'Top25perc',\n",
              " 'F_Undergrad',\n",
              " 'P_Undergrad',\n",
              " 'Outstate',\n",
              " 'Room_Board',\n",
              " 'Books',\n",
              " 'Personal',\n",
              " 'PhD',\n",
              " 'Terminal',\n",
              " 'S_F_Ratio',\n",
              " 'perc_alumni',\n",
              " 'Expend',\n",
              " 'Grad_Rate']"
            ]
          },
          "metadata": {
            "tags": []
          },
          "execution_count": 11
        }
      ]
    },
    {
      "cell_type": "code",
      "metadata": {
        "id": "YcceDpLR5aO0"
      },
      "source": [
        "assembler = VectorAssembler(\n",
        "    inputCols=['Apps',\n",
        " 'Accept',\n",
        " 'Enroll',\n",
        " 'Top10perc',\n",
        " 'Top25perc',\n",
        " 'F_Undergrad',\n",
        " 'P_Undergrad',\n",
        " 'Outstate',\n",
        " 'Room_Board',\n",
        " 'Books',\n",
        " 'Personal',\n",
        " 'PhD',\n",
        " 'Terminal',\n",
        " 'S_F_Ratio',\n",
        " 'perc_alumni',\n",
        " 'Expend',\n",
        " 'Grad_Rate'          \n",
        "    ],\n",
        "    outputCol=\"features\"\n",
        ")"
      ],
      "execution_count": 18,
      "outputs": []
    },
    {
      "cell_type": "code",
      "metadata": {
        "id": "i96o3Zcp5zdG"
      },
      "source": [
        "output = assembler.transform(df)"
      ],
      "execution_count": 19,
      "outputs": []
    },
    {
      "cell_type": "markdown",
      "metadata": {
        "id": "w6E-fj_R6H7s"
      },
      "source": [
        "# String Variables (Private)"
      ]
    },
    {
      "cell_type": "code",
      "metadata": {
        "id": "CPxGjsm86G5h"
      },
      "source": [
        "from pyspark.ml.feature import StringIndexer"
      ],
      "execution_count": 20,
      "outputs": []
    },
    {
      "cell_type": "code",
      "metadata": {
        "id": "KSKIWKJp6M6D"
      },
      "source": [
        "indexer = StringIndexer(inputCol=\"Private\", outputCol=\"PrivateIndexer\")\n",
        "output_fixed = indexer.fit(output).transform(output)"
      ],
      "execution_count": 25,
      "outputs": []
    },
    {
      "cell_type": "code",
      "metadata": {
        "id": "DFwIN9KS6aoe"
      },
      "source": [
        "df_final = output_fixed.select(\"features\", \"PrivateIndexer\")"
      ],
      "execution_count": 26,
      "outputs": []
    },
    {
      "cell_type": "code",
      "metadata": {
        "id": "OCptatjo60bf"
      },
      "source": [
        "train, test = df_final.randomSplit([0.7, 0.3], seed=42)"
      ],
      "execution_count": 27,
      "outputs": []
    },
    {
      "cell_type": "markdown",
      "metadata": {
        "id": "B5vHh5OK66ZM"
      },
      "source": [
        "# Tree Classifiers"
      ]
    },
    {
      "cell_type": "code",
      "metadata": {
        "id": "4nao7hys65wz"
      },
      "source": [
        "from pyspark.ml.classification import DecisionTreeClassifier, RandomForestClassifier, GBTClassifier\n",
        "from pyspark.ml import Pipeline"
      ],
      "execution_count": 28,
      "outputs": []
    },
    {
      "cell_type": "markdown",
      "metadata": {
        "id": "Cy-tu65V7JUs"
      },
      "source": [
        "## CREATE Models"
      ]
    },
    {
      "cell_type": "code",
      "metadata": {
        "id": "ATFKKoMr7IZV"
      },
      "source": [
        "dtc = DecisionTreeClassifier(labelCol=\"PrivateIndexer\", featuresCol=\"features\")\n",
        "rfc = RandomForestClassifier(labelCol=\"PrivateIndexer\", featuresCol=\"features\")\n",
        "gbt = GBTClassifier(labelCol=\"PrivateIndexer\", featuresCol=\"features\")"
      ],
      "execution_count": 29,
      "outputs": []
    },
    {
      "cell_type": "code",
      "metadata": {
        "id": "Wl3S4CQz7Y6m"
      },
      "source": [
        "dtc_model = dtc.fit(train)\n",
        "rfc_model = rfc.fit(train)\n",
        "gbt_model = gbt.fit(train)"
      ],
      "execution_count": 30,
      "outputs": []
    },
    {
      "cell_type": "markdown",
      "metadata": {
        "id": "IV8MSude71g1"
      },
      "source": [
        "# Predictions"
      ]
    },
    {
      "cell_type": "code",
      "metadata": {
        "id": "iNfI3iuB7iYK"
      },
      "source": [
        "dtc_pred = dtc_model.transform(test)\n",
        "rfc_pred = rfc_model.transform(test)\n",
        "gbt_pred = gbt_model.transform(test)"
      ],
      "execution_count": 31,
      "outputs": []
    },
    {
      "cell_type": "markdown",
      "metadata": {
        "id": "P17RRuoO70CM"
      },
      "source": [
        "# Eval"
      ]
    },
    {
      "cell_type": "code",
      "metadata": {
        "id": "NGr2KfOb7y_l"
      },
      "source": [
        "from pyspark.ml.evaluation import MulticlassClassificationEvaluator"
      ],
      "execution_count": 32,
      "outputs": []
    },
    {
      "cell_type": "code",
      "metadata": {
        "id": "l8IhNGMn76N6"
      },
      "source": [
        "evaluator = MulticlassClassificationEvaluator(labelCol=\"PrivateIndexer\", predictionCol=\"prediction\", metricName=\"accuracy\")"
      ],
      "execution_count": 33,
      "outputs": []
    },
    {
      "cell_type": "code",
      "metadata": {
        "id": "vRj3g7y-8G4M"
      },
      "source": [
        "dtc_acc = evaluator.evaluate(dtc_pred)\n",
        "rfc_acc = evaluator.evaluate(rfc_pred)\n",
        "gbt_acc = evaluator.evaluate(gbt_pred)"
      ],
      "execution_count": 34,
      "outputs": []
    },
    {
      "cell_type": "code",
      "metadata": {
        "id": "8qVkFO758W3M",
        "outputId": "21415397-a11a-4a6e-8071-15f084ee08aa",
        "colab": {
          "base_uri": "https://localhost:8080/"
        }
      },
      "source": [
        "print(\"-\"*10)\n",
        "print(f\"DT Acc: {dtc_acc}\")\n",
        "print(\"-\"*10)\n",
        "print(f\"RFC Acc: {rfc_acc}\")\n",
        "print(\"-\"*10)\n",
        "print(f\"GBT Acc: {gbt_acc}\")\n",
        "print(\"-\"*10)"
      ],
      "execution_count": 38,
      "outputs": [
        {
          "output_type": "stream",
          "text": [
            "----------\n",
            "DT Acc: 0.925\n",
            "----------\n",
            "RFC Acc: 0.945\n",
            "----------\n",
            "GBT Acc: 0.94\n",
            "----------\n"
          ],
          "name": "stdout"
        }
      ]
    },
    {
      "cell_type": "code",
      "metadata": {
        "id": "7NTXmbJX8byX"
      },
      "source": [
        ""
      ],
      "execution_count": null,
      "outputs": []
    }
  ]
}