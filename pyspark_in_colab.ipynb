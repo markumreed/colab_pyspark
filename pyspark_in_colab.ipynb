{
  "nbformat": 4,
  "nbformat_minor": 0,
  "metadata": {
    "colab": {
      "name": "pyspark_in_colab.ipynb",
      "provenance": [],
      "authorship_tag": "ABX9TyPU8E6uNH492+DJc1kdYnKe",
      "include_colab_link": true
    },
    "kernelspec": {
      "name": "python3",
      "display_name": "Python 3"
    }
  },
  "cells": [
    {
      "cell_type": "markdown",
      "metadata": {
        "id": "view-in-github",
        "colab_type": "text"
      },
      "source": [
        "<a href=\"https://colab.research.google.com/github/markumreed/colab_pyspark/blob/main/pyspark_in_colab.ipynb\" target=\"_parent\"><img src=\"https://colab.research.google.com/assets/colab-badge.svg\" alt=\"Open In Colab\"/></a>"
      ]
    },
    {
      "cell_type": "markdown",
      "metadata": {
        "id": "OJWqWINyh8HT"
      },
      "source": [
        "# Preamble\n",
        "\n",
        "The following three cells must be ran in order to use PySpark in Google Colab. "
      ]
    },
    {
      "cell_type": "code",
      "metadata": {
        "id": "4-GObLMvhH1h"
      },
      "source": [
        "!apt-get install openjdk-8-jdk-headless -qq > /dev/null\n",
        "!wget -q https://www-us.apache.org/dist/spark/spark-3.0.1/spark-3.0.1-bin-hadoop2.7.tgz\n",
        "!tar xf spark-3.0.1-bin-hadoop2.7.tgz\n",
        "!pip install -q findspark"
      ],
      "execution_count": null,
      "outputs": []
    },
    {
      "cell_type": "code",
      "metadata": {
        "id": "t5Wi5iOlhNqJ"
      },
      "source": [
        "import os\n",
        "os.environ[\"JAVA_HOME\"] = \"/usr/lib/jvm/java-8-openjdk-amd64\"\n",
        "os.environ[\"SPARK_HOME\"] = \"/content/spark-3.0.1-bin-hadoop2.7\""
      ],
      "execution_count": null,
      "outputs": []
    },
    {
      "cell_type": "code",
      "metadata": {
        "id": "21HknExKhrbd"
      },
      "source": [
        "import findspark\n",
        "findspark.init()"
      ],
      "execution_count": null,
      "outputs": []
    },
    {
      "cell_type": "markdown",
      "metadata": {
        "id": "hiW1NHVriHmG"
      },
      "source": [
        "# Spark DataFrame Basics\n",
        "\n",
        "Spark DataFrames allow for easy handling of large datasets. \n",
        "\n",
        "* Easy syntax\n",
        "* Ability to use SQL directly in the dataframe\n",
        "* Operations are automatically distributed across RDDs"
      ]
    },
    {
      "cell_type": "markdown",
      "metadata": {
        "id": "7hqXqLiqjBOi"
      },
      "source": [
        "## Create a DataFrame\n"
      ]
    },
    {
      "cell_type": "code",
      "metadata": {
        "id": "3PofF_8DiZMe"
      },
      "source": [
        "from pyspark.sql import SparkSession"
      ],
      "execution_count": null,
      "outputs": []
    },
    {
      "cell_type": "code",
      "metadata": {
        "id": "1yMumuTnlvqV"
      },
      "source": [
        "spark = SparkSession.builder.appName(\"pyspark_basics\").getOrCreate()"
      ],
      "execution_count": null,
      "outputs": []
    },
    {
      "cell_type": "code",
      "metadata": {
        "colab": {
          "base_uri": "https://localhost:8080/"
        },
        "id": "3DvJFAnJmgwo",
        "outputId": "e7f742ed-c890-417d-894c-c3b70a476d4c"
      },
      "source": [
        "%%writefile user_simple.json\n",
        "{\"name\":\"Bob\"}\n",
        "{\"name\":\"Jim\", \"age\":40}\n",
        "{\"name\":\"Mary\", \"age\": 24}\n"
      ],
      "execution_count": null,
      "outputs": [
        {
          "output_type": "stream",
          "text": [
            "Writing user_simple.json\n"
          ],
          "name": "stdout"
        }
      ]
    },
    {
      "cell_type": "code",
      "metadata": {
        "id": "u_eO4v0NmEju"
      },
      "source": [
        "df = spark.read.json(\"user_simple.json\")"
      ],
      "execution_count": null,
      "outputs": []
    },
    {
      "cell_type": "markdown",
      "metadata": {
        "id": "bfKSE6KJjFuq"
      },
      "source": [
        "## Show DataFrame\n"
      ]
    },
    {
      "cell_type": "code",
      "metadata": {
        "colab": {
          "base_uri": "https://localhost:8080/"
        },
        "id": "JQMevRT-jK4J",
        "outputId": "9ce8f8c8-e95b-4c2e-b8a0-93f323651220"
      },
      "source": [
        "df.show()"
      ],
      "execution_count": null,
      "outputs": [
        {
          "output_type": "stream",
          "text": [
            "+----+----+\n",
            "| age|name|\n",
            "+----+----+\n",
            "|null| Bob|\n",
            "|  40| Jim|\n",
            "|  24|Mary|\n",
            "+----+----+\n",
            "\n"
          ],
          "name": "stdout"
        }
      ]
    },
    {
      "cell_type": "code",
      "metadata": {
        "colab": {
          "base_uri": "https://localhost:8080/"
        },
        "id": "sF2i36PsnLlC",
        "outputId": "d95a31b9-78d6-43d7-b700-c4c5d8fe19c4"
      },
      "source": [
        "df.printSchema()"
      ],
      "execution_count": null,
      "outputs": [
        {
          "output_type": "stream",
          "text": [
            "root\n",
            " |-- age: long (nullable = true)\n",
            " |-- name: string (nullable = true)\n",
            "\n"
          ],
          "name": "stdout"
        }
      ]
    },
    {
      "cell_type": "code",
      "metadata": {
        "colab": {
          "base_uri": "https://localhost:8080/"
        },
        "id": "y7mJ1ZFxnPiF",
        "outputId": "7ee5b54f-0809-4211-cd55-89967a729d88"
      },
      "source": [
        "df.columns"
      ],
      "execution_count": null,
      "outputs": [
        {
          "output_type": "execute_result",
          "data": {
            "text/plain": [
              "['age', 'name']"
            ]
          },
          "metadata": {
            "tags": []
          },
          "execution_count": 40
        }
      ]
    },
    {
      "cell_type": "code",
      "metadata": {
        "colab": {
          "base_uri": "https://localhost:8080/"
        },
        "id": "HgTEqsABnhlZ",
        "outputId": "5e5a5140-8358-4472-eb76-e6086d4a5981"
      },
      "source": [
        "df.describe()"
      ],
      "execution_count": null,
      "outputs": [
        {
          "output_type": "execute_result",
          "data": {
            "text/plain": [
              "DataFrame[summary: string, age: string, name: string]"
            ]
          },
          "metadata": {
            "tags": []
          },
          "execution_count": 41
        }
      ]
    },
    {
      "cell_type": "markdown",
      "metadata": {
        "id": "d_unxKKfjmy7"
      },
      "source": [
        "## Specifying Schema Structure\n",
        "\n",
        "- Some data types make it easier to infer schema. \n",
        "\n",
        "- Often have to set the schema yourself\n",
        "\n",
        "- Spark has tools to help specify the structure\n",
        "\n",
        "Next we need to create the list of Structure fields\n",
        "  * :param name: string, name of the field.\n",
        "  * :param dataType: :class:`DataType` of the field.\n",
        "  * :param nullable: boolean, whether the field can be null (None) "
      ]
    },
    {
      "cell_type": "code",
      "metadata": {
        "id": "KwpWKuOsn0KC"
      },
      "source": [
        "from pyspark.sql.types import StructField, StringType, IntegerType, StructType"
      ],
      "execution_count": null,
      "outputs": []
    },
    {
      "cell_type": "code",
      "metadata": {
        "id": "TTCd9Kn6oBAt"
      },
      "source": [
        "data_schema = [StructField(\"age\", IntegerType(), True), StructField(\"name\",StringType(), True)]"
      ],
      "execution_count": null,
      "outputs": []
    },
    {
      "cell_type": "code",
      "metadata": {
        "id": "3B-U5Uy9oOJ1"
      },
      "source": [
        "final_struc = StructType(fields=data_schema)"
      ],
      "execution_count": null,
      "outputs": []
    },
    {
      "cell_type": "code",
      "metadata": {
        "id": "HRceAk5OoZ4a"
      },
      "source": [
        "df = spark.read.json(\"user_simple.json\", schema=final_struc)"
      ],
      "execution_count": null,
      "outputs": []
    },
    {
      "cell_type": "code",
      "metadata": {
        "colab": {
          "base_uri": "https://localhost:8080/"
        },
        "id": "O1JV1wX-ohr_",
        "outputId": "9c25da08-784b-408e-aec4-d8b46ed83b52"
      },
      "source": [
        "df.printSchema()"
      ],
      "execution_count": null,
      "outputs": [
        {
          "output_type": "stream",
          "text": [
            "root\n",
            " |-- age: integer (nullable = true)\n",
            " |-- name: string (nullable = true)\n",
            "\n"
          ],
          "name": "stdout"
        }
      ]
    },
    {
      "cell_type": "markdown",
      "metadata": {
        "id": "9BstAkwekUW4"
      },
      "source": [
        "## Grab Data"
      ]
    },
    {
      "cell_type": "code",
      "metadata": {
        "colab": {
          "base_uri": "https://localhost:8080/"
        },
        "id": "3BXtJ8Vtjqor",
        "outputId": "f717dc81-6b79-4bee-a31e-c5130e0d9c6d"
      },
      "source": [
        "df['age']"
      ],
      "execution_count": null,
      "outputs": [
        {
          "output_type": "execute_result",
          "data": {
            "text/plain": [
              "Column<b'age'>"
            ]
          },
          "metadata": {
            "tags": []
          },
          "execution_count": 47
        }
      ]
    },
    {
      "cell_type": "code",
      "metadata": {
        "colab": {
          "base_uri": "https://localhost:8080/"
        },
        "id": "pAVvHNehowFL",
        "outputId": "e1f91ced-ba3d-414e-bd0f-279e009c9f2b"
      },
      "source": [
        "type(df['age'])"
      ],
      "execution_count": null,
      "outputs": [
        {
          "output_type": "execute_result",
          "data": {
            "text/plain": [
              "pyspark.sql.column.Column"
            ]
          },
          "metadata": {
            "tags": []
          },
          "execution_count": 48
        }
      ]
    },
    {
      "cell_type": "code",
      "metadata": {
        "colab": {
          "base_uri": "https://localhost:8080/"
        },
        "id": "gEzDx_AKox5b",
        "outputId": "906cc52c-58bb-4367-e6cd-1a6659a6bfa7"
      },
      "source": [
        "df.select(\"age\")"
      ],
      "execution_count": null,
      "outputs": [
        {
          "output_type": "execute_result",
          "data": {
            "text/plain": [
              "DataFrame[age: int]"
            ]
          },
          "metadata": {
            "tags": []
          },
          "execution_count": 49
        }
      ]
    },
    {
      "cell_type": "code",
      "metadata": {
        "colab": {
          "base_uri": "https://localhost:8080/"
        },
        "id": "E8Kq6dcmpADD",
        "outputId": "d4f4cee0-19d3-484f-c8f6-2d271f91636a"
      },
      "source": [
        "type(df.select(\"age\"))"
      ],
      "execution_count": null,
      "outputs": [
        {
          "output_type": "execute_result",
          "data": {
            "text/plain": [
              "pyspark.sql.dataframe.DataFrame"
            ]
          },
          "metadata": {
            "tags": []
          },
          "execution_count": 50
        }
      ]
    },
    {
      "cell_type": "code",
      "metadata": {
        "colab": {
          "base_uri": "https://localhost:8080/"
        },
        "id": "dKdekPhcpCms",
        "outputId": "0886faed-b8a4-4063-fd33-00d6586a8b12"
      },
      "source": [
        "df.select(\"age\").show()"
      ],
      "execution_count": null,
      "outputs": [
        {
          "output_type": "stream",
          "text": [
            "+----+\n",
            "| age|\n",
            "+----+\n",
            "|null|\n",
            "|  40|\n",
            "|  24|\n",
            "+----+\n",
            "\n"
          ],
          "name": "stdout"
        }
      ]
    },
    {
      "cell_type": "code",
      "metadata": {
        "colab": {
          "base_uri": "https://localhost:8080/"
        },
        "id": "iXNWVdjZpK-K",
        "outputId": "01598f77-f962-424b-bc66-d69bfc602ef5"
      },
      "source": [
        "df.head(2)"
      ],
      "execution_count": null,
      "outputs": [
        {
          "output_type": "execute_result",
          "data": {
            "text/plain": [
              "[Row(age=None, name='Bob'), Row(age=40, name='Jim')]"
            ]
          },
          "metadata": {
            "tags": []
          },
          "execution_count": 54
        }
      ]
    },
    {
      "cell_type": "code",
      "metadata": {
        "colab": {
          "base_uri": "https://localhost:8080/"
        },
        "id": "Uhtn6i2hpd2v",
        "outputId": "377256b6-ef56-4443-e57a-1e113c875f9a"
      },
      "source": [
        "df.select([\"name\",\"age\"])"
      ],
      "execution_count": null,
      "outputs": [
        {
          "output_type": "execute_result",
          "data": {
            "text/plain": [
              "DataFrame[name: string, age: int]"
            ]
          },
          "metadata": {
            "tags": []
          },
          "execution_count": 55
        }
      ]
    },
    {
      "cell_type": "code",
      "metadata": {
        "colab": {
          "base_uri": "https://localhost:8080/"
        },
        "id": "XPCk9uufphpK",
        "outputId": "60e21cd6-393f-4d03-f2b2-520dd12afbf7"
      },
      "source": [
        "df.select([\"name\",\"age\"]).show()"
      ],
      "execution_count": null,
      "outputs": [
        {
          "output_type": "stream",
          "text": [
            "+----+----+\n",
            "|name| age|\n",
            "+----+----+\n",
            "| Bob|null|\n",
            "| Jim|  40|\n",
            "|Mary|  24|\n",
            "+----+----+\n",
            "\n"
          ],
          "name": "stdout"
        }
      ]
    },
    {
      "cell_type": "markdown",
      "metadata": {
        "id": "KOXJGzI1kYA8"
      },
      "source": [
        "## Create New Columns"
      ]
    },
    {
      "cell_type": "code",
      "metadata": {
        "colab": {
          "base_uri": "https://localhost:8080/"
        },
        "id": "sT6NHjD9kZ-u",
        "outputId": "1f927202-b911-455e-b573-eb4cd5ac1aef"
      },
      "source": [
        "df.withColumn(\"newAge\", df['age']).show()"
      ],
      "execution_count": null,
      "outputs": [
        {
          "output_type": "stream",
          "text": [
            "+----+----+------+\n",
            "| age|name|newAge|\n",
            "+----+----+------+\n",
            "|null| Bob|  null|\n",
            "|  40| Jim|    40|\n",
            "|  24|Mary|    24|\n",
            "+----+----+------+\n",
            "\n"
          ],
          "name": "stdout"
        }
      ]
    },
    {
      "cell_type": "code",
      "metadata": {
        "colab": {
          "base_uri": "https://localhost:8080/"
        },
        "id": "0IGHHPbQqEww",
        "outputId": "347d93fe-8634-4d4f-ad38-f3832fb3e76c"
      },
      "source": [
        "df.show()"
      ],
      "execution_count": null,
      "outputs": [
        {
          "output_type": "stream",
          "text": [
            "+----+----+\n",
            "| age|name|\n",
            "+----+----+\n",
            "|null| Bob|\n",
            "|  40| Jim|\n",
            "|  24|Mary|\n",
            "+----+----+\n",
            "\n"
          ],
          "name": "stdout"
        }
      ]
    },
    {
      "cell_type": "code",
      "metadata": {
        "colab": {
          "base_uri": "https://localhost:8080/"
        },
        "id": "1qKwhBTjqNuc",
        "outputId": "6d822821-9d9e-48ed-89b9-df9691c58d8a"
      },
      "source": [
        "df.withColumnRenamed(\"name\",\"firstName\").show()"
      ],
      "execution_count": null,
      "outputs": [
        {
          "output_type": "stream",
          "text": [
            "+----+---------+\n",
            "| age|firstName|\n",
            "+----+---------+\n",
            "|null|      Bob|\n",
            "|  40|      Jim|\n",
            "|  24|     Mary|\n",
            "+----+---------+\n",
            "\n"
          ],
          "name": "stdout"
        }
      ]
    },
    {
      "cell_type": "code",
      "metadata": {
        "colab": {
          "base_uri": "https://localhost:8080/"
        },
        "id": "Uco9P30jqXii",
        "outputId": "bb350fef-c23d-46e5-eebd-c4127ac36cb9"
      },
      "source": [
        "df.show()"
      ],
      "execution_count": null,
      "outputs": [
        {
          "output_type": "stream",
          "text": [
            "+----+----+\n",
            "| age|name|\n",
            "+----+----+\n",
            "|null| Bob|\n",
            "|  40| Jim|\n",
            "|  24|Mary|\n",
            "+----+----+\n",
            "\n"
          ],
          "name": "stdout"
        }
      ]
    },
    {
      "cell_type": "code",
      "metadata": {
        "colab": {
          "base_uri": "https://localhost:8080/"
        },
        "id": "JKCCXXy-qbqC",
        "outputId": "e05a67e3-23ce-4b7b-a4c9-a830f65bcf62"
      },
      "source": [
        "df.withColumn(\"agePlusTen\", df['age']+10).show()"
      ],
      "execution_count": null,
      "outputs": [
        {
          "output_type": "stream",
          "text": [
            "+----+----+----------+\n",
            "| age|name|agePlusTen|\n",
            "+----+----+----------+\n",
            "|null| Bob|      null|\n",
            "|  40| Jim|        50|\n",
            "|  24|Mary|        34|\n",
            "+----+----+----------+\n",
            "\n"
          ],
          "name": "stdout"
        }
      ]
    },
    {
      "cell_type": "code",
      "metadata": {
        "colab": {
          "base_uri": "https://localhost:8080/"
        },
        "id": "FYrscKO8qyJd",
        "outputId": "8332e008-dcb1-44ad-9e63-d47d97266f57"
      },
      "source": [
        "df.withColumn(\"age_minus_5\", df['age']-5).show()"
      ],
      "execution_count": null,
      "outputs": [
        {
          "output_type": "stream",
          "text": [
            "+----+----+-----------+\n",
            "| age|name|age_minus_5|\n",
            "+----+----+-----------+\n",
            "|null| Bob|       null|\n",
            "|  40| Jim|         35|\n",
            "|  24|Mary|         19|\n",
            "+----+----+-----------+\n",
            "\n"
          ],
          "name": "stdout"
        }
      ]
    },
    {
      "cell_type": "markdown",
      "metadata": {
        "id": "yRgWZeRekasQ"
      },
      "source": [
        "## Using SQL"
      ]
    },
    {
      "cell_type": "code",
      "metadata": {
        "id": "489jaijnkfno"
      },
      "source": [
        "df.createOrReplaceTempView(\"custmers\")"
      ],
      "execution_count": null,
      "outputs": []
    },
    {
      "cell_type": "code",
      "metadata": {
        "id": "EEPRi6zorG8Q"
      },
      "source": [
        "sql_results = spark.sql(\"SELECT * from custmers\")"
      ],
      "execution_count": null,
      "outputs": []
    },
    {
      "cell_type": "code",
      "metadata": {
        "colab": {
          "base_uri": "https://localhost:8080/"
        },
        "id": "1f2j94UKrNpt",
        "outputId": "d3420ba8-3554-4d00-8636-4eeaa61c8b9c"
      },
      "source": [
        "sql_results"
      ],
      "execution_count": null,
      "outputs": [
        {
          "output_type": "execute_result",
          "data": {
            "text/plain": [
              "DataFrame[age: int, name: string]"
            ]
          },
          "metadata": {
            "tags": []
          },
          "execution_count": 66
        }
      ]
    },
    {
      "cell_type": "code",
      "metadata": {
        "colab": {
          "base_uri": "https://localhost:8080/"
        },
        "id": "_wcBefx-rO9K",
        "outputId": "a31e4cb3-97c9-459b-dc9e-915ca82e7b85"
      },
      "source": [
        "sql_results.show()"
      ],
      "execution_count": null,
      "outputs": [
        {
          "output_type": "stream",
          "text": [
            "+----+----+\n",
            "| age|name|\n",
            "+----+----+\n",
            "|null| Bob|\n",
            "|  40| Jim|\n",
            "|  24|Mary|\n",
            "+----+----+\n",
            "\n"
          ],
          "name": "stdout"
        }
      ]
    },
    {
      "cell_type": "code",
      "metadata": {
        "colab": {
          "base_uri": "https://localhost:8080/"
        },
        "id": "AuVx3fkfrRJy",
        "outputId": "b3022626-0e1f-46d1-ff06-e5572c6797ce"
      },
      "source": [
        "spark.sql(\"SELECT * FROM custmers WHERE age=24\").show()"
      ],
      "execution_count": null,
      "outputs": [
        {
          "output_type": "stream",
          "text": [
            "+---+----+\n",
            "|age|name|\n",
            "+---+----+\n",
            "| 24|Mary|\n",
            "+---+----+\n",
            "\n"
          ],
          "name": "stdout"
        }
      ]
    },
    {
      "cell_type": "code",
      "metadata": {
        "id": "USe5SLinrcx3"
      },
      "source": [
        ""
      ],
      "execution_count": null,
      "outputs": []
    },
    {
      "cell_type": "markdown",
      "metadata": {
        "id": "xHN9Ff1qr1GB"
      },
      "source": [
        "## DataFrame Operations"
      ]
    },
    {
      "cell_type": "code",
      "metadata": {
        "id": "2XA4cW1Gr3ni"
      },
      "source": [
        ""
      ],
      "execution_count": null,
      "outputs": []
    }
  ]
}